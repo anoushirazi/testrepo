{
 "cells": [
  {
   "cell_type": "code",
   "execution_count": 4,
   "id": "9416063f-1a77-421a-b07d-273e90a52377",
   "metadata": {},
   "outputs": [
    {
     "name": "stdout",
     "output_type": "stream",
     "text": [
      "Requirement already satisfied: dash in c:\\users\\hh\\appdata\\local\\programs\\python\\python311\\lib\\site-packages (2.14.2)\n",
      "Requirement already satisfied: Flask<3.1,>=1.0.4 in c:\\users\\hh\\appdata\\local\\programs\\python\\python311\\lib\\site-packages (from dash) (3.0.1)\n",
      "Requirement already satisfied: Werkzeug<3.1 in c:\\users\\hh\\appdata\\local\\programs\\python\\python311\\lib\\site-packages (from dash) (3.0.1)\n",
      "Requirement already satisfied: plotly>=5.0.0 in c:\\users\\hh\\appdata\\local\\programs\\python\\python311\\lib\\site-packages (from dash) (5.18.0)\n",
      "Requirement already satisfied: dash-html-components==2.0.0 in c:\\users\\hh\\appdata\\local\\programs\\python\\python311\\lib\\site-packages (from dash) (2.0.0)\n",
      "Requirement already satisfied: dash-core-components==2.0.0 in c:\\users\\hh\\appdata\\local\\programs\\python\\python311\\lib\\site-packages (from dash) (2.0.0)\n",
      "Requirement already satisfied: dash-table==5.0.0 in c:\\users\\hh\\appdata\\local\\programs\\python\\python311\\lib\\site-packages (from dash) (5.0.0)\n",
      "Requirement already satisfied: typing-extensions>=4.1.1 in c:\\users\\hh\\appdata\\local\\programs\\python\\python311\\lib\\site-packages (from dash) (4.9.0)\n",
      "Requirement already satisfied: requests in c:\\users\\hh\\appdata\\local\\programs\\python\\python311\\lib\\site-packages (from dash) (2.31.0)\n",
      "Requirement already satisfied: retrying in c:\\users\\hh\\appdata\\local\\programs\\python\\python311\\lib\\site-packages (from dash) (1.3.4)\n",
      "Requirement already satisfied: ansi2html in c:\\users\\hh\\appdata\\local\\programs\\python\\python311\\lib\\site-packages (from dash) (1.9.1)\n",
      "Requirement already satisfied: nest-asyncio in c:\\users\\hh\\appdata\\local\\programs\\python\\python311\\lib\\site-packages (from dash) (1.5.6)\n",
      "Requirement already satisfied: setuptools in c:\\users\\hh\\appdata\\local\\programs\\python\\python311\\lib\\site-packages (from dash) (65.5.0)\n",
      "Requirement already satisfied: importlib-metadata in c:\\users\\hh\\appdata\\local\\programs\\python\\python311\\lib\\site-packages (from dash) (7.0.1)\n",
      "Requirement already satisfied: Jinja2>=3.1.2 in c:\\users\\hh\\appdata\\local\\programs\\python\\python311\\lib\\site-packages (from Flask<3.1,>=1.0.4->dash) (3.1.2)\n",
      "Requirement already satisfied: itsdangerous>=2.1.2 in c:\\users\\hh\\appdata\\local\\programs\\python\\python311\\lib\\site-packages (from Flask<3.1,>=1.0.4->dash) (2.1.2)\n",
      "Requirement already satisfied: click>=8.1.3 in c:\\users\\hh\\appdata\\local\\programs\\python\\python311\\lib\\site-packages (from Flask<3.1,>=1.0.4->dash) (8.1.7)\n",
      "Requirement already satisfied: blinker>=1.6.2 in c:\\users\\hh\\appdata\\local\\programs\\python\\python311\\lib\\site-packages (from Flask<3.1,>=1.0.4->dash) (1.7.0)\n",
      "Requirement already satisfied: tenacity>=6.2.0 in c:\\users\\hh\\appdata\\local\\programs\\python\\python311\\lib\\site-packages (from plotly>=5.0.0->dash) (8.2.3)\n",
      "Requirement already satisfied: packaging in c:\\users\\hh\\appdata\\local\\programs\\python\\python311\\lib\\site-packages (from plotly>=5.0.0->dash) (23.2)\n",
      "Requirement already satisfied: MarkupSafe>=2.1.1 in c:\\users\\hh\\appdata\\local\\programs\\python\\python311\\lib\\site-packages (from Werkzeug<3.1->dash) (2.1.3)\n",
      "Requirement already satisfied: zipp>=0.5 in c:\\users\\hh\\appdata\\local\\programs\\python\\python311\\lib\\site-packages (from importlib-metadata->dash) (3.17.0)\n",
      "Requirement already satisfied: charset-normalizer<4,>=2 in c:\\users\\hh\\appdata\\local\\programs\\python\\python311\\lib\\site-packages (from requests->dash) (3.2.0)\n",
      "Requirement already satisfied: idna<4,>=2.5 in c:\\users\\hh\\appdata\\local\\programs\\python\\python311\\lib\\site-packages (from requests->dash) (3.4)\n",
      "Requirement already satisfied: urllib3<3,>=1.21.1 in c:\\users\\hh\\appdata\\local\\programs\\python\\python311\\lib\\site-packages (from requests->dash) (2.0.4)\n",
      "Requirement already satisfied: certifi>=2017.4.17 in c:\\users\\hh\\appdata\\local\\programs\\python\\python311\\lib\\site-packages (from requests->dash) (2023.7.22)\n",
      "Requirement already satisfied: six>=1.7.0 in c:\\users\\hh\\appdata\\local\\programs\\python\\python311\\lib\\site-packages (from retrying->dash) (1.16.0)\n",
      "Requirement already satisfied: colorama in c:\\users\\hh\\appdata\\local\\programs\\python\\python311\\lib\\site-packages (from click>=8.1.3->Flask<3.1,>=1.0.4->dash) (0.4.6)\n",
      "Note: you may need to restart the kernel to use updated packages.\n"
     ]
    }
   ],
   "source": [
    "pip install dash"
   ]
  },
  {
   "cell_type": "code",
   "execution_count": 5,
   "id": "b5e31871-f055-4171-8d61-d58ce273d32e",
   "metadata": {},
   "outputs": [],
   "source": [
    "import dash\n",
    "from dash import html"
   ]
  },
  {
   "cell_type": "code",
   "execution_count": 6,
   "id": "f3f12f8a-7cb3-4ed5-822c-fe183f9d60a3",
   "metadata": {},
   "outputs": [
    {
     "data": {
      "text/html": [
       "\n",
       "        <iframe\n",
       "            width=\"100%\"\n",
       "            height=\"650\"\n",
       "            src=\"http://127.0.0.1:8050/\"\n",
       "            frameborder=\"0\"\n",
       "            allowfullscreen\n",
       "            \n",
       "        ></iframe>\n",
       "        "
      ],
      "text/plain": [
       "<IPython.lib.display.IFrame at 0x289150a8650>"
      ]
     },
     "metadata": {},
     "output_type": "display_data"
    }
   ],
   "source": [
    "app = dash.Dash(__name__)\n",
    "app.layout = html.Div([\n",
    "    html.H1(\"Automobile Sales Statistics Dashboard\",\n",
    "            style={'textAlign': 'center', 'color': '#503D36', 'fontSize': 24}),\n",
    "])\n",
    "\n",
    "if __name__ == '__main__':\n",
    "    app.run_server(debug=True)"
   ]
  },
  {
   "cell_type": "code",
   "execution_count": 16,
   "id": "db4f6215-9e79-46cd-8a4f-03697b83f47e",
   "metadata": {},
   "outputs": [
    {
     "data": {
      "text/html": [
       "\n",
       "        <iframe\n",
       "            width=\"100%\"\n",
       "            height=\"650\"\n",
       "            src=\"http://127.0.0.1:8050/\"\n",
       "            frameborder=\"0\"\n",
       "            allowfullscreen\n",
       "            \n",
       "        ></iframe>\n",
       "        "
      ],
      "text/plain": [
       "<IPython.lib.display.IFrame at 0x2808bee9610>"
      ]
     },
     "metadata": {},
     "output_type": "display_data"
    }
   ],
   "source": [
    "from dash import dcc, html\n",
    "\n",
    "year_list = [i for i in range(1980, 2024, 1)]\n",
    "app = dash.Dash(__name__)\n",
    "app.layout = html.Div([\n",
    "    html.H1(\"Automobile Sales Statistics Dashboard\",\n",
    "            style={'textAlign': 'center', 'color': '#503D36', 'fontSize': 24}),\n",
    "\n",
    "    dcc.Dropdown(\n",
    "        id='dropdown-statistics',\n",
    "        options=[\n",
    "            {'label': 'Yearly Statistics', 'value': 'Yearly Statistics'},\n",
    "            {'label': 'Recession Period Statistics', 'value': 'Recession Period Statistics'}\n",
    "        ],\n",
    "        placeholder='Select a report type',\n",
    "        value='Select Statistics',\n",
    "        style={'width': '80%', 'padding': '3px', 'fontSize': '20px', 'textAlignLast': 'center'}\n",
    "    ),\n",
    "\n",
    "    dcc.Dropdown(\n",
    "        id='select-year',\n",
    "        options=[{'label': i, 'value': i} for i in year_list],\n",
    "        placeholder='Select a year',\n",
    "        style={'width': '80%', 'padding': '3px', 'fontSize': '20px', 'textAlignLast': 'center'}\n",
    "    )\n",
    "])\n",
    "\n",
    "if __name__ == '__main__':\n",
    "    app.run_server(debug=True)"
   ]
  },
  {
   "cell_type": "code",
   "execution_count": 5,
   "id": "c8618171-e016-418b-8033-59ffcd8ba7f1",
   "metadata": {},
   "outputs": [
    {
     "data": {
      "text/html": [
       "\n",
       "        <iframe\n",
       "            width=\"100%\"\n",
       "            height=\"650\"\n",
       "            src=\"http://127.0.0.1:8050/\"\n",
       "            frameborder=\"0\"\n",
       "            allowfullscreen\n",
       "            \n",
       "        ></iframe>\n",
       "        "
      ],
      "text/plain": [
       "<IPython.lib.display.IFrame at 0x1d6a6cc9d50>"
      ]
     },
     "metadata": {},
     "output_type": "display_data"
    }
   ],
   "source": [
    "from dash import dcc, html\n",
    "\n",
    "app = dash.Dash(__name__)\n",
    "app.layout = html.Div([\n",
    "    html.H1(\"Automobile Sales Statistics Dashboard\",\n",
    "            style={'textAlign': 'center', 'color': '#503D36', 'fontSize': 24}),\n",
    "\n",
    "    dcc.Dropdown(\n",
    "        id='dropdown-statistics',\n",
    "        options=[\n",
    "            {'label': 'Yearly Statistics', 'value': 'Yearly Statistics'},\n",
    "            {'label': 'Recession Period Statistics', 'value': 'Recession Period Statistics'}\n",
    "        ],\n",
    "        placeholder='Select a report type',\n",
    "        value='Select Statistics',\n",
    "        style={'width': '80%', 'padding': '3px', 'fontSize': '20px', 'textAlignLast': 'center'}\n",
    "    ),\n",
    "\n",
    "    dcc.Dropdown(\n",
    "        id='select-year',\n",
    "        options=[{'label': i, 'value': i} for i in range(1980, 2024)],\n",
    "        placeholder='Select a year',\n",
    "        style={'width': '80%', 'padding': '3px', 'fontSize': '20px', 'textAlignLast': 'center'}\n",
    "    ),\n",
    "\n",
    "    html.Div([\n",
    "        html.Div(id='output-container', className='chart-grid', style={'display': 'flex'}),\n",
    "    ])\n",
    "])\n",
    "\n",
    "if __name__ == '__main__':\n",
    "    app.run_server(debug=True)"
   ]
  },
  {
   "cell_type": "code",
   "execution_count": null,
   "id": "0c6683f8-329d-4658-b756-d890be2e0e19",
   "metadata": {},
   "outputs": [],
   "source": []
  },
  {
   "cell_type": "code",
   "execution_count": 3,
   "id": "7d10396f-e3fb-40e1-99b4-36d9a236900c",
   "metadata": {},
   "outputs": [
    {
     "name": "stdout",
     "output_type": "stream",
     "text": [
      "\u001b[1;31m---------------------------------------------------------------------------\u001b[0m\n",
      "\u001b[1;31mNoLayoutException\u001b[0m                         Traceback (most recent call last)\n",
      "File \u001b[1;32m~\\AppData\\Local\\Programs\\Python\\Python311\\Lib\\site-packages\\flask\\app.py:868\u001b[0m, in \u001b[0;36mFlask.full_dispatch_request\u001b[1;34m(self=<Flask '__main__'>)\u001b[0m\n",
      "\u001b[0;32m    866\u001b[0m \u001b[38;5;28;01mtry\u001b[39;00m:\n",
      "\u001b[0;32m    867\u001b[0m     request_started\u001b[38;5;241m.\u001b[39msend(\u001b[38;5;28mself\u001b[39m, _async_wrapper\u001b[38;5;241m=\u001b[39m\u001b[38;5;28mself\u001b[39m\u001b[38;5;241m.\u001b[39mensure_sync)\n",
      "\u001b[1;32m--> 868\u001b[0m     rv \u001b[38;5;241m=\u001b[39m \u001b[38;5;28;43mself\u001b[39;49m\u001b[38;5;241;43m.\u001b[39;49m\u001b[43mpreprocess_request\u001b[49m\u001b[43m(\u001b[49m\u001b[43m)\u001b[49m\n",
      "        self \u001b[1;34m= <Flask '__main__'>\u001b[0m\n",
      "\u001b[0;32m    869\u001b[0m     \u001b[38;5;28;01mif\u001b[39;00m rv \u001b[38;5;129;01mis\u001b[39;00m \u001b[38;5;28;01mNone\u001b[39;00m:\n",
      "\u001b[0;32m    870\u001b[0m         rv \u001b[38;5;241m=\u001b[39m \u001b[38;5;28mself\u001b[39m\u001b[38;5;241m.\u001b[39mdispatch_request()\n",
      "\n",
      "File \u001b[1;32m~\\AppData\\Local\\Programs\\Python\\Python311\\Lib\\site-packages\\flask\\app.py:1243\u001b[0m, in \u001b[0;36mFlask.preprocess_request\u001b[1;34m(self=<Flask '__main__'>)\u001b[0m\n",
      "\u001b[0;32m   1241\u001b[0m \u001b[38;5;28;01mif\u001b[39;00m name \u001b[38;5;129;01min\u001b[39;00m \u001b[38;5;28mself\u001b[39m\u001b[38;5;241m.\u001b[39mbefore_request_funcs:\n",
      "\u001b[0;32m   1242\u001b[0m     \u001b[38;5;28;01mfor\u001b[39;00m before_func \u001b[38;5;129;01min\u001b[39;00m \u001b[38;5;28mself\u001b[39m\u001b[38;5;241m.\u001b[39mbefore_request_funcs[name]:\n",
      "\u001b[1;32m-> 1243\u001b[0m         rv \u001b[38;5;241m=\u001b[39m \u001b[38;5;28;43mself\u001b[39;49m\u001b[38;5;241;43m.\u001b[39;49m\u001b[43mensure_sync\u001b[49m\u001b[43m(\u001b[49m\u001b[43mbefore_func\u001b[49m\u001b[43m)\u001b[49m\u001b[43m(\u001b[49m\u001b[43m)\u001b[49m\n",
      "        before_func \u001b[1;34m= <bound method Dash._setup_server of <dash.dash.Dash object at 0x0000028913F04810>>\u001b[0m\u001b[1;34m\n",
      "        \u001b[0mself \u001b[1;34m= <Flask '__main__'>\u001b[0m\n",
      "\u001b[0;32m   1245\u001b[0m         \u001b[38;5;28;01mif\u001b[39;00m rv \u001b[38;5;129;01mis\u001b[39;00m \u001b[38;5;129;01mnot\u001b[39;00m \u001b[38;5;28;01mNone\u001b[39;00m:\n",
      "\u001b[0;32m   1246\u001b[0m             \u001b[38;5;28;01mreturn\u001b[39;00m rv  \u001b[38;5;66;03m# type: ignore[no-any-return]\u001b[39;00m\n",
      "\n",
      "File \u001b[1;32m~\\AppData\\Local\\Programs\\Python\\Python311\\Lib\\site-packages\\dash\\dash.py:1343\u001b[0m, in \u001b[0;36mDash._setup_server\u001b[1;34m(self=<dash.dash.Dash object>)\u001b[0m\n",
      "\u001b[0;32m   1340\u001b[0m \u001b[38;5;28;01mif\u001b[39;00m \u001b[38;5;129;01mnot\u001b[39;00m \u001b[38;5;28mself\u001b[39m\u001b[38;5;241m.\u001b[39mlayout \u001b[38;5;129;01mand\u001b[39;00m \u001b[38;5;28mself\u001b[39m\u001b[38;5;241m.\u001b[39muse_pages:\n",
      "\u001b[0;32m   1341\u001b[0m     \u001b[38;5;28mself\u001b[39m\u001b[38;5;241m.\u001b[39mlayout \u001b[38;5;241m=\u001b[39m page_container\n",
      "\u001b[1;32m-> 1343\u001b[0m \u001b[43m_validate\u001b[49m\u001b[38;5;241;43m.\u001b[39;49m\u001b[43mvalidate_layout\u001b[49m\u001b[43m(\u001b[49m\u001b[38;5;28;43mself\u001b[39;49m\u001b[38;5;241;43m.\u001b[39;49m\u001b[43mlayout\u001b[49m\u001b[43m,\u001b[49m\u001b[43m \u001b[49m\u001b[38;5;28;43mself\u001b[39;49m\u001b[38;5;241;43m.\u001b[39;49m\u001b[43m_layout_value\u001b[49m\u001b[43m(\u001b[49m\u001b[43m)\u001b[49m\u001b[43m)\u001b[49m\n",
      "        self \u001b[1;34m= <dash.dash.Dash object at 0x0000028913F04810>\u001b[0m\u001b[1;34m\n",
      "        \u001b[0m_validate \u001b[1;34m= <module 'dash._validate' from 'C:\\\\Users\\\\hh\\\\AppData\\\\Local\\\\Programs\\\\Python\\\\Python311\\\\Lib\\\\site-packages\\\\dash\\\\_validate.py'>\u001b[0m\n",
      "\u001b[0;32m   1345\u001b[0m \u001b[38;5;28mself\u001b[39m\u001b[38;5;241m.\u001b[39m_generate_scripts_html()\n",
      "\u001b[0;32m   1346\u001b[0m \u001b[38;5;28mself\u001b[39m\u001b[38;5;241m.\u001b[39m_generate_css_dist_html()\n",
      "\n",
      "File \u001b[1;32m~\\AppData\\Local\\Programs\\Python\\Python311\\Lib\\site-packages\\dash\\_validate.py:402\u001b[0m, in \u001b[0;36mvalidate_layout\u001b[1;34m(layout=None, layout_value=None)\u001b[0m\n",
      "\u001b[0;32m    400\u001b[0m \u001b[38;5;28;01mdef\u001b[39;00m \u001b[38;5;21mvalidate_layout\u001b[39m(layout, layout_value):\n",
      "\u001b[0;32m    401\u001b[0m     \u001b[38;5;28;01mif\u001b[39;00m layout \u001b[38;5;129;01mis\u001b[39;00m \u001b[38;5;28;01mNone\u001b[39;00m:\n",
      "\u001b[1;32m--> 402\u001b[0m         \u001b[38;5;28;01mraise\u001b[39;00m exceptions\u001b[38;5;241m.\u001b[39mNoLayoutException(\n",
      "        exceptions \u001b[1;34m= <module 'dash.exceptions' from 'C:\\\\Users\\\\hh\\\\AppData\\\\Local\\\\Programs\\\\Python\\\\Python311\\\\Lib\\\\site-packages\\\\dash\\\\exceptions.py'>\u001b[0m\n",
      "\u001b[0;32m    403\u001b[0m \u001b[38;5;250m            \u001b[39m\u001b[38;5;124;03m\"\"\"\u001b[39;00m\n",
      "\u001b[0;32m    404\u001b[0m \u001b[38;5;124;03m            The layout was `None` at the time that `run_server` was called.\u001b[39;00m\n",
      "\u001b[0;32m    405\u001b[0m \u001b[38;5;124;03m            Make sure to set the `layout` attribute of your application\u001b[39;00m\n",
      "\u001b[0;32m    406\u001b[0m \u001b[38;5;124;03m            before running the server.\u001b[39;00m\n",
      "\u001b[0;32m    407\u001b[0m \u001b[38;5;124;03m            \"\"\"\u001b[39;00m\n",
      "\u001b[0;32m    408\u001b[0m         )\n",
      "\u001b[0;32m    410\u001b[0m     layout_id \u001b[38;5;241m=\u001b[39m stringify_id(\u001b[38;5;28mgetattr\u001b[39m(layout_value, \u001b[38;5;124m\"\u001b[39m\u001b[38;5;124mid\u001b[39m\u001b[38;5;124m\"\u001b[39m, \u001b[38;5;28;01mNone\u001b[39;00m))\n",
      "\u001b[0;32m    412\u001b[0m     component_ids \u001b[38;5;241m=\u001b[39m {layout_id} \u001b[38;5;28;01mif\u001b[39;00m layout_id \u001b[38;5;28;01melse\u001b[39;00m \u001b[38;5;28mset\u001b[39m()\n",
      "\n",
      "\u001b[1;31mNoLayoutException\u001b[0m: The layout was `None` at the time that `run_server` was called.\n",
      "Make sure to set the `layout` attribute of your application\n",
      "before running the server.\n",
      "\n"
     ]
    },
    {
     "data": {
      "text/html": [
       "\n",
       "        <iframe\n",
       "            width=\"100%\"\n",
       "            height=\"650\"\n",
       "            src=\"http://127.0.0.1:8050/\"\n",
       "            frameborder=\"0\"\n",
       "            allowfullscreen\n",
       "            \n",
       "        ></iframe>\n",
       "        "
      ],
      "text/plain": [
       "<IPython.lib.display.IFrame at 0x2891241bd90>"
      ]
     },
     "metadata": {},
     "output_type": "display_data"
    }
   ],
   "source": [
    "import dash\n",
    "from dash import dcc, html\n",
    "from dash.dependencies import Input, Output  # Add this import\n",
    "\n",
    "# Create the Dash app instance\n",
    "app = dash.Dash(__name__)\n",
    "\n",
    "# ... (Rest of your code, including the callbacks)\n",
    "\n",
    "# Callback to enable/disable the input container based on the selected statistics\n",
    "@app.callback(\n",
    "    Output(component_id='select-year', component_property='disabled'),\n",
    "    Input(component_id='dropdown-statistics', component_property='value')\n",
    ")\n",
    "def update_input_container(selected_statistics):\n",
    "    if selected_statistics == 'Yearly Statistics':\n",
    "        return False  # Enable the input container\n",
    "    else:\n",
    "        return True  # Disable the input container\n",
    "\n",
    "# Callback for plotting graphs in the output container\n",
    "@app.callback(\n",
    "    Output(component_id='output-container', component_property='children'),\n",
    "    [Input(component_id='dropdown-statistics', component_property='value'),\n",
    "     Input(component_id='select-year', component_property='value')]\n",
    ")\n",
    "def update_output_container(selected_statistics, selected_year):\n",
    "    if selected_statistics == 'Recession Period Statistics':\n",
    "        # Filter the data for recession periods\n",
    "        recession_data = data[data['Recession'] == 1]\n",
    "\n",
    "        # Create the four plots using recession_data\n",
    "        # ... (Replace with your plotting code)\n",
    "        fig1, fig2, fig3, fig4 = create_recession_plots(recession_data)\n",
    "\n",
    "        return [dcc.Graph(figure=fig1), dcc.Graph(figure=fig2), dcc.Graph(figure=fig3), dcc.Graph(figure=fig4)]\n",
    "\n",
    "    elif selected_statistics == 'Yearly Statistics':\n",
    "        # Filter the data for the selected year\n",
    "        year_data = data[data['Year'] == selected_year]\n",
    "\n",
    "        # Create the four plots using year_data\n",
    "        # ... (Replace with your plotting code)\n",
    "        fig1, fig2, fig3, fig4 = create_yearly_plots(year_data)\n",
    "\n",
    "        return [dcc.Graph(figure=fig1), dcc.Graph(figure=fig2), dcc.Graph(figure=fig3), dcc.Graph(figure=fig4)]\n",
    "\n",
    "    else:\n",
    "        # Handle any unexpected cases (e.g., no statistics selected)\n",
    "        return [html.Div(\"Please select a statistics type.\")]\n",
    "\n",
    "# Run the app\n",
    "if __name__ == '__main__':\n",
    "    app.run_server(debug=True)"
   ]
  },
  {
   "cell_type": "code",
   "execution_count": null,
   "id": "aed77ebe-fb9e-4048-8dca-364d210e7420",
   "metadata": {},
   "outputs": [],
   "source": []
  },
  {
   "cell_type": "code",
   "execution_count": null,
   "id": "99f0e48e-7972-40da-a812-bc49bd979d41",
   "metadata": {},
   "outputs": [],
   "source": []
  }
 ],
 "metadata": {
  "kernelspec": {
   "display_name": "Python 3 (ipykernel)",
   "language": "python",
   "name": "python3"
  },
  "language_info": {
   "codemirror_mode": {
    "name": "ipython",
    "version": 3
   },
   "file_extension": ".py",
   "mimetype": "text/x-python",
   "name": "python",
   "nbconvert_exporter": "python",
   "pygments_lexer": "ipython3",
   "version": "3.11.4"
  }
 },
 "nbformat": 4,
 "nbformat_minor": 5
}
