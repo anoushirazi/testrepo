{
 "cells": [
  {
   "cell_type": "code",
   "execution_count": 1,
   "id": "fc040f54-1866-4141-af2c-ed5fd5802df5",
   "metadata": {},
   "outputs": [
    {
     "name": "stdout",
     "output_type": "stream",
     "text": [
      "Collecting matplotlibNote: you may need to restart the kernel to use updated packages.\n",
      "\n",
      "  Downloading matplotlib-3.7.2-cp311-cp311-win_amd64.whl (7.5 MB)\n",
      "                                              0.0/7.5 MB ? eta -:--:--\n",
      "     -                                        0.3/7.5 MB 7.9 MB/s eta 0:00:01\n",
      "     ------                                   1.2/7.5 MB 14.7 MB/s eta 0:00:01\n",
      "     ---------                                1.7/7.5 MB 15.7 MB/s eta 0:00:01\n",
      "     --------------                           2.7/7.5 MB 15.8 MB/s eta 0:00:01\n",
      "     ------------------                       3.5/7.5 MB 16.1 MB/s eta 0:00:01\n",
      "     -------------------                      3.6/7.5 MB 16.4 MB/s eta 0:00:01\n",
      "     -------------------                      3.7/7.5 MB 12.4 MB/s eta 0:00:01\n",
      "     ----------------------                   4.2/7.5 MB 12.2 MB/s eta 0:00:01\n",
      "     -------------------------                4.8/7.5 MB 12.2 MB/s eta 0:00:01\n",
      "     ---------------------------              5.2/7.5 MB 11.9 MB/s eta 0:00:01\n",
      "     ------------------------------           5.7/7.5 MB 11.7 MB/s eta 0:00:01\n",
      "     --------------------------------         6.1/7.5 MB 11.2 MB/s eta 0:00:01\n",
      "     -----------------------------------      6.6/7.5 MB 11.1 MB/s eta 0:00:01\n",
      "     -------------------------------------    7.1/7.5 MB 11.1 MB/s eta 0:00:01\n",
      "     ---------------------------------------  7.5/7.5 MB 11.1 MB/s eta 0:00:01\n",
      "     ---------------------------------------- 7.5/7.5 MB 10.4 MB/s eta 0:00:00\n",
      "Collecting contourpy>=1.0.1 (from matplotlib)\n",
      "  Downloading contourpy-1.1.0-cp311-cp311-win_amd64.whl (470 kB)\n",
      "                                              0.0/470.9 kB ? eta -:--:--\n",
      "     -------------------------------------  460.8/470.9 kB 9.6 MB/s eta 0:00:01\n",
      "     -------------------------------------- 470.9/470.9 kB 7.3 MB/s eta 0:00:00\n",
      "Collecting cycler>=0.10 (from matplotlib)\n",
      "  Downloading cycler-0.11.0-py3-none-any.whl (6.4 kB)\n",
      "Collecting fonttools>=4.22.0 (from matplotlib)\n",
      "  Downloading fonttools-4.41.1-cp311-cp311-win_amd64.whl (2.1 MB)\n",
      "                                              0.0/2.1 MB ? eta -:--:--\n",
      "     ------                                   0.4/2.1 MB 7.4 MB/s eta 0:00:01\n",
      "     ----------------                         0.9/2.1 MB 11.0 MB/s eta 0:00:01\n",
      "     ---------------------------              1.5/2.1 MB 10.3 MB/s eta 0:00:01\n",
      "     -------------------------------------    2.0/2.1 MB 10.5 MB/s eta 0:00:01\n",
      "     ---------------------------------------- 2.1/2.1 MB 9.6 MB/s eta 0:00:00\n",
      "Collecting kiwisolver>=1.0.1 (from matplotlib)\n",
      "  Downloading kiwisolver-1.4.4-cp311-cp311-win_amd64.whl (55 kB)\n",
      "                                              0.0/55.4 kB ? eta -:--:--\n",
      "     ---------------------------------------- 55.4/55.4 kB ? eta 0:00:00\n",
      "Requirement already satisfied: numpy>=1.20 in c:\\users\\hh\\appdata\\local\\programs\\python\\python311\\lib\\site-packages (from matplotlib) (1.25.1)\n",
      "Requirement already satisfied: packaging>=20.0 in c:\\users\\hh\\appdata\\local\\programs\\python\\python311\\lib\\site-packages (from matplotlib) (23.1)\n",
      "Collecting pillow>=6.2.0 (from matplotlib)\n",
      "  Downloading Pillow-10.0.0-cp311-cp311-win_amd64.whl (2.5 MB)\n",
      "                                              0.0/2.5 MB ? eta -:--:--\n",
      "     --------                                 0.5/2.5 MB 16.2 MB/s eta 0:00:01\n",
      "     -----------------                        1.1/2.5 MB 13.9 MB/s eta 0:00:01\n",
      "     --------------------------               1.6/2.5 MB 13.0 MB/s eta 0:00:01\n",
      "     ------------------------------------     2.3/2.5 MB 13.3 MB/s eta 0:00:01\n",
      "     ---------------------------------------- 2.5/2.5 MB 10.7 MB/s eta 0:00:00\n",
      "Collecting pyparsing<3.1,>=2.3.1 (from matplotlib)\n",
      "  Downloading pyparsing-3.0.9-py3-none-any.whl (98 kB)\n",
      "                                              0.0/98.3 kB ? eta -:--:--\n",
      "     ---------------------------------------- 98.3/98.3 kB 5.5 MB/s eta 0:00:00\n",
      "Requirement already satisfied: python-dateutil>=2.7 in c:\\users\\hh\\appdata\\local\\programs\\python\\python311\\lib\\site-packages (from matplotlib) (2.8.2)\n",
      "Requirement already satisfied: six>=1.5 in c:\\users\\hh\\appdata\\local\\programs\\python\\python311\\lib\\site-packages (from python-dateutil>=2.7->matplotlib) (1.16.0)\n",
      "Installing collected packages: pyparsing, pillow, kiwisolver, fonttools, cycler, contourpy, matplotlib\n",
      "Successfully installed contourpy-1.1.0 cycler-0.11.0 fonttools-4.41.1 kiwisolver-1.4.4 matplotlib-3.7.2 pillow-10.0.0 pyparsing-3.0.9\n"
     ]
    },
    {
     "name": "stderr",
     "output_type": "stream",
     "text": [
      "\n",
      "[notice] A new release of pip is available: 23.1.2 -> 23.2.1\n",
      "[notice] To update, run: python.exe -m pip install --upgrade pip\n"
     ]
    }
   ],
   "source": [
    "pip install matplotlib"
   ]
  },
  {
   "cell_type": "code",
   "execution_count": null,
   "id": "7437df7a-c6f4-4f6e-a42f-b5b675dbd265",
   "metadata": {},
   "outputs": [],
   "source": []
  }
 ],
 "metadata": {
  "kernelspec": {
   "display_name": "Python 3 (ipykernel)",
   "language": "python",
   "name": "python3"
  },
  "language_info": {
   "codemirror_mode": {
    "name": "ipython",
    "version": 3
   },
   "file_extension": ".py",
   "mimetype": "text/x-python",
   "name": "python",
   "nbconvert_exporter": "python",
   "pygments_lexer": "ipython3",
   "version": "3.11.4"
  }
 },
 "nbformat": 4,
 "nbformat_minor": 5
}
