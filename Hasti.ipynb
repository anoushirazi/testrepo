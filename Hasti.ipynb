{
 "cells": [
  {
   "cell_type": "markdown",
   "id": "69acfa50-d0c3-47c4-9036-48362bbff306",
   "metadata": {},
   "source": [
    " hello world"
   ]
  },
  {
   "cell_type": "markdown",
   "id": "0a1be114-4375-4f33-8dda-539dcaac47d9",
   "metadata": {},
   "source": [
    "# "
   ]
  },
  {
   "cell_type": "code",
   "execution_count": 3,
   "id": "026fab93-40f9-448a-b641-249f1c34a30b",
   "metadata": {},
   "outputs": [
    {
     "name": "stdout",
     "output_type": "stream",
     "text": [
      "hasti\n"
     ]
    }
   ],
   "source": [
    "name = 'hasti'\n",
    "print(name)"
   ]
  },
  {
   "cell_type": "code",
   "execution_count": 4,
   "id": "d5a6e6dc-abbd-486c-a6b2-f6446c7c195d",
   "metadata": {},
   "outputs": [
    {
     "name": "stdout",
     "output_type": "stream",
     "text": [
      "Nazi\n"
     ]
    }
   ],
   "source": [
    "name = 'Nazi'\n",
    "print(name)\n"
   ]
  },
  {
   "cell_type": "code",
   "execution_count": 5,
   "id": "156a2b37-c950-4f8b-b763-af3f89666b41",
   "metadata": {},
   "outputs": [
    {
     "name": "stdout",
     "output_type": "stream",
     "text": [
      "Shapour\n"
     ]
    }
   ],
   "source": [
    "name = 'Shapour'\n",
    "print(name)"
   ]
  },
  {
   "cell_type": "code",
   "execution_count": 7,
   "id": "cbcc34e6-d695-48c4-b8e3-5ee7c6e3f107",
   "metadata": {},
   "outputs": [
    {
     "name": "stdout",
     "output_type": "stream",
     "text": [
      "Hasti Atashi Shirazi\n"
     ]
    }
   ],
   "source": [
    "name = 'Hasti Atashi Shirazi'\n",
    "print(name)"
   ]
  },
  {
   "cell_type": "code",
   "execution_count": 8,
   "id": "5266aa15-691d-48b5-8de8-0d009f1ed045",
   "metadata": {},
   "outputs": [
    {
     "name": "stdout",
     "output_type": "stream",
     "text": [
      "Anoushiravan Atashi Shirazi\n"
     ]
    }
   ],
   "source": [
    "name = 'Anoushiravan Atashi Shirazi'\n",
    "print(name)"
   ]
  },
  {
   "cell_type": "code",
   "execution_count": 9,
   "id": "b829bc47-2f35-4b11-bccf-f113ce7fedad",
   "metadata": {},
   "outputs": [
    {
     "name": "stdout",
     "output_type": "stream",
     "text": [
      "Paronaz Parnian Atashi\n"
     ]
    }
   ],
   "source": [
    "name = 'Paronaz Parnian Atashi'\n",
    "print(name)"
   ]
  },
  {
   "cell_type": "code",
   "execution_count": 11,
   "id": "3c089807-3398-4a0c-83d2-f88341443cb5",
   "metadata": {},
   "outputs": [
    {
     "name": "stdout",
     "output_type": "stream",
     "text": [
      "I came home and cooked lunch\n"
     ]
    }
   ],
   "source": [
    "Hasti_life = 'I came home and cooked lunch'\n",
    "print(Hasti_life)\n"
   ]
  },
  {
   "cell_type": "code",
   "execution_count": 15,
   "id": "0c39c8c2-14fe-4abc-83eb-d04b6d916608",
   "metadata": {},
   "outputs": [
    {
     "name": "stdout",
     "output_type": "stream",
     "text": [
      "I came home and \n",
      " cooked lunch\n"
     ]
    }
   ],
   "source": [
    "Hasti_life = 'I came home and \\n cooked lunch'\n",
    "print(Hasti_life)"
   ]
  },
  {
   "cell_type": "code",
   "execution_count": 16,
   "id": "8f063d5d-e2c4-44d3-820f-b32c69e9c8e9",
   "metadata": {},
   "outputs": [
    {
     "data": {
      "text/plain": [
       "30"
      ]
     },
     "execution_count": 16,
     "metadata": {},
     "output_type": "execute_result"
    }
   ],
   "source": [
    "len(Hasti_life)"
   ]
  },
  {
   "cell_type": "code",
   "execution_count": 18,
   "id": "42e3a912-7fbe-475e-a772-55d70c8c7f21",
   "metadata": {},
   "outputs": [
    {
     "data": {
      "text/plain": [
       "'I'"
      ]
     },
     "execution_count": 18,
     "metadata": {},
     "output_type": "execute_result"
    }
   ],
   "source": [
    "Hasti_life[0]"
   ]
  },
  {
   "cell_type": "code",
   "execution_count": 19,
   "id": "ba18d3e9-cccd-4334-9466-bed3300c695d",
   "metadata": {},
   "outputs": [
    {
     "data": {
      "text/plain": [
       "'c'"
      ]
     },
     "execution_count": 19,
     "metadata": {},
     "output_type": "execute_result"
    }
   ],
   "source": [
    "Hasti_life[2]"
   ]
  },
  {
   "cell_type": "code",
   "execution_count": 20,
   "id": "077e011a-6453-41b8-8045-d5908e0457b3",
   "metadata": {},
   "outputs": [
    {
     "data": {
      "text/plain": [
       "'h'"
      ]
     },
     "execution_count": 20,
     "metadata": {},
     "output_type": "execute_result"
    }
   ],
   "source": [
    "Hasti_life[7]"
   ]
  },
  {
   "cell_type": "code",
   "execution_count": 21,
   "id": "a7f6f3a9-905f-43fc-8a22-08537a9c9dc1",
   "metadata": {},
   "outputs": [
    {
     "data": {
      "text/plain": [
       "'h'"
      ]
     },
     "execution_count": 21,
     "metadata": {},
     "output_type": "execute_result"
    }
   ],
   "source": [
    "Hasti_life[-1]"
   ]
  },
  {
   "cell_type": "code",
   "execution_count": 22,
   "id": "f739945d-b940-4396-92e8-b08a7e63057f",
   "metadata": {},
   "outputs": [
    {
     "data": {
      "text/plain": [
       "'c'"
      ]
     },
     "execution_count": 22,
     "metadata": {},
     "output_type": "execute_result"
    }
   ],
   "source": [
    "Hasti_life[-2]"
   ]
  },
  {
   "cell_type": "code",
   "execution_count": 23,
   "id": "67def014-0422-4870-b90a-2e7c7c7d4502",
   "metadata": {},
   "outputs": [
    {
     "name": "stdout",
     "output_type": "stream",
     "text": [
      "kjshdgkjhsdkjhg drgdfgdgd dfghdfgdgdfg dgdfgdfgfd \n"
     ]
    }
   ],
   "source": [
    "textt = 'kjshdgkjhsdkjhg drgdfgdgd dfghdfgdgdfg dgdfgdfgfd '\n",
    "print(textt)"
   ]
  },
  {
   "cell_type": "code",
   "execution_count": 34,
   "id": "283dbb9e-3306-4d8d-9c11-595944731a8d",
   "metadata": {},
   "outputs": [
    {
     "data": {
      "text/plain": [
       "'g'"
      ]
     },
     "execution_count": 34,
     "metadata": {},
     "output_type": "execute_result"
    }
   ],
   "source": [
    "textt[5]"
   ]
  },
  {
   "cell_type": "code",
   "execution_count": 35,
   "id": "7a5e7de3-2a66-4d9a-814a-f35e352892c4",
   "metadata": {},
   "outputs": [
    {
     "data": {
      "text/plain": [
       "'g'"
      ]
     },
     "execution_count": 35,
     "metadata": {},
     "output_type": "execute_result"
    }
   ],
   "source": [
    "textt[-13]"
   ]
  },
  {
   "cell_type": "code",
   "execution_count": 43,
   "id": "ea044693-91e5-458e-8cfe-7c345664d83d",
   "metadata": {},
   "outputs": [
    {
     "data": {
      "text/plain": [
       "'j'"
      ]
     },
     "execution_count": 43,
     "metadata": {},
     "output_type": "execute_result"
    }
   ],
   "source": [
    "textt[12]"
   ]
  },
  {
   "cell_type": "code",
   "execution_count": 44,
   "id": "5cb2d230-d775-4c82-b126-4b4bac163def",
   "metadata": {},
   "outputs": [
    {
     "data": {
      "text/plain": [
       "'dgkjh'"
      ]
     },
     "execution_count": 44,
     "metadata": {},
     "output_type": "execute_result"
    }
   ],
   "source": [
    "textt[4:9]"
   ]
  },
  {
   "cell_type": "code",
   "execution_count": 45,
   "id": "a4c1f925-aabe-4281-ba20-88cd07100b15",
   "metadata": {},
   "outputs": [
    {
     "data": {
      "text/plain": [
       "'khksj ggdfddfdffd'"
      ]
     },
     "execution_count": 45,
     "metadata": {},
     "output_type": "execute_result"
    }
   ],
   "source": [
    "textt[::3]"
   ]
  },
  {
   "cell_type": "code",
   "execution_count": 46,
   "id": "d885478c-6807-4eb8-b386-5510550eca9a",
   "metadata": {},
   "outputs": [
    {
     "data": {
      "text/plain": [
       "'ti A'"
      ]
     },
     "execution_count": 46,
     "metadata": {},
     "output_type": "execute_result"
    }
   ],
   "source": [
    "hasti = 'Hasti Atashi'\n",
    "hasti[3:7]"
   ]
  },
  {
   "cell_type": "code",
   "execution_count": 49,
   "id": "1a5e74e0-e65b-49b6-9406-18041fe1277f",
   "metadata": {},
   "outputs": [
    {
     "data": {
      "text/plain": [
       "'tashi'"
      ]
     },
     "execution_count": 49,
     "metadata": {},
     "output_type": "execute_result"
    }
   ],
   "source": [
    "hasti[-5:]"
   ]
  },
  {
   "cell_type": "code",
   "execution_count": 50,
   "id": "9c3b55f9-38cd-449c-bc0a-67e6318a23db",
   "metadata": {},
   "outputs": [
    {
     "data": {
      "text/plain": [
       "'HsiAah'"
      ]
     },
     "execution_count": 50,
     "metadata": {},
     "output_type": "execute_result"
    }
   ],
   "source": [
    "hasti[::2]"
   ]
  },
  {
   "cell_type": "code",
   "execution_count": 51,
   "id": "a8e92ed1-d4bd-4da4-94fd-533921b7f4f7",
   "metadata": {},
   "outputs": [
    {
     "data": {
      "text/plain": [
       "'HtAs'"
      ]
     },
     "execution_count": 51,
     "metadata": {},
     "output_type": "execute_result"
    }
   ],
   "source": [
    "hasti[::3]"
   ]
  },
  {
   "cell_type": "markdown",
   "id": "30f9726e-b9c3-44d4-9087-a06e109da81d",
   "metadata": {},
   "source": [
    "# heading 1"
   ]
  },
  {
   "cell_type": "markdown",
   "id": "d2812544-ca98-44d8-99e2-2b213c4e6703",
   "metadata": {},
   "source": [
    "## heading 2"
   ]
  },
  {
   "cell_type": "markdown",
   "id": "c9d699f0-8e93-4240-9477-ec7eaec1279a",
   "metadata": {},
   "source": [
    "### heading 3"
   ]
  },
  {
   "cell_type": "markdown",
   "id": "ab367436-bdc5-407b-9bc3-dcf5807a4258",
   "metadata": {},
   "source": [
    "#### heading 4"
   ]
  },
  {
   "cell_type": "markdown",
   "id": "042f53d2-8054-41ab-af36-27cdfb24be09",
   "metadata": {},
   "source": [
    "#### Arithmetic oprators "
   ]
  },
  {
   "cell_type": "code",
   "execution_count": 67,
   "id": "4d902ae8-e660-4dfa-8a96-db4bffe9202e",
   "metadata": {},
   "outputs": [
    {
     "data": {
      "text/plain": [
       "4"
      ]
     },
     "execution_count": 67,
     "metadata": {},
     "output_type": "execute_result"
    }
   ],
   "source": [
    "#addition\n",
    "2 + 2"
   ]
  },
  {
   "cell_type": "code",
   "execution_count": 56,
   "id": "a74f9dfb-6e52-44ac-932a-fa69bea90174",
   "metadata": {},
   "outputs": [
    {
     "data": {
      "text/plain": [
       "1"
      ]
     },
     "execution_count": 56,
     "metadata": {},
     "output_type": "execute_result"
    }
   ],
   "source": [
    "#subtraction\n",
    "7 - 6"
   ]
  },
  {
   "cell_type": "code",
   "execution_count": 58,
   "id": "bdae0452-7123-4148-b47c-9bb4a84b8f34",
   "metadata": {},
   "outputs": [
    {
     "data": {
      "text/plain": [
       "20"
      ]
     },
     "execution_count": 58,
     "metadata": {},
     "output_type": "execute_result"
    }
   ],
   "source": [
    "#multiplication\n",
    "4 * 5"
   ]
  },
  {
   "cell_type": "code",
   "execution_count": 59,
   "id": "8f9537d4-61f7-4663-8502-89c3dc4b1c8c",
   "metadata": {},
   "outputs": [
    {
     "data": {
      "text/plain": [
       "6.8"
      ]
     },
     "execution_count": 59,
     "metadata": {},
     "output_type": "execute_result"
    }
   ],
   "source": [
    "#devision\n",
    "34 / 5"
   ]
  },
  {
   "cell_type": "code",
   "execution_count": 61,
   "id": "000072bf-149c-4655-9d28-e433d279530b",
   "metadata": {},
   "outputs": [
    {
     "data": {
      "text/plain": [
       "3"
      ]
     },
     "execution_count": 61,
     "metadata": {},
     "output_type": "execute_result"
    }
   ],
   "source": [
    "#floor devided\n",
    "11 // 3"
   ]
  },
  {
   "cell_type": "code",
   "execution_count": 62,
   "id": "95491618-448c-45bd-a04e-c93985de3e5c",
   "metadata": {},
   "outputs": [
    {
     "data": {
      "text/plain": [
       "32"
      ]
     },
     "execution_count": 62,
     "metadata": {},
     "output_type": "execute_result"
    }
   ],
   "source": [
    "#exponent\n",
    "2 ** 5"
   ]
  },
  {
   "cell_type": "code",
   "execution_count": 63,
   "id": "befdbf65-4e42-47ec-8228-bce015873f57",
   "metadata": {},
   "outputs": [
    {
     "data": {
      "text/plain": [
       "8.0"
      ]
     },
     "execution_count": 63,
     "metadata": {},
     "output_type": "execute_result"
    }
   ],
   "source": [
    "#square root\n",
    "64 ** 0.5"
   ]
  },
  {
   "cell_type": "code",
   "execution_count": 64,
   "id": "7abbf8b3-6635-4baf-91a8-58d7468dafaf",
   "metadata": {},
   "outputs": [
    {
     "data": {
      "text/plain": [
       "4"
      ]
     },
     "execution_count": 64,
     "metadata": {},
     "output_type": "execute_result"
    }
   ],
   "source": [
    "#remainder\n",
    "34 % 5"
   ]
  },
  {
   "cell_type": "markdown",
   "id": "f28f6625-60c3-4184-b55d-6bdf99dbde4a",
   "metadata": {},
   "source": [
    "#### CTRL+/"
   ]
  },
  {
   "cell_type": "code",
   "execution_count": 65,
   "id": "998b3306-d851-43d5-9f4e-dbed4079c1ac",
   "metadata": {},
   "outputs": [],
   "source": [
    "# hfgdfhdfghdf\n",
    "# jurtyurturu\n",
    "# thterhystreyhtre"
   ]
  },
  {
   "cell_type": "markdown",
   "id": "2b7c059b-c2b9-45cf-89a9-8ae01df6cbe3",
   "metadata": {},
   "source": [
    "### Oprator Priority"
   ]
  },
  {
   "cell_type": "markdown",
   "id": "d3d85cc3-1797-487a-a543-e1707e6d6a8f",
   "metadata": {},
   "source": [
    "##### Prantheses () > Exponentiation ** > Multiplication, Division */ > Addition, Subtraction +-"
   ]
  },
  {
   "cell_type": "code",
   "execution_count": 66,
   "id": "b75da8f8-e992-4fc0-abae-0eb28d4d7a3b",
   "metadata": {},
   "outputs": [
    {
     "data": {
      "text/plain": [
       "67567.00028674304"
      ]
     },
     "execution_count": 66,
     "metadata": {},
     "output_type": "execute_result"
    }
   ],
   "source": [
    "67567 + 69 / (989 -87) * 36 / 98 ** 2 "
   ]
  },
  {
   "cell_type": "markdown",
   "id": "5fd2d7f9-285d-4723-95b5-14a72020c9d8",
   "metadata": {},
   "source": [
    "### Variables"
   ]
  },
  {
   "cell_type": "markdown",
   "id": "e0912697-a3d7-41fb-ab7c-cafa89244901",
   "metadata": {},
   "source": [
    "##### Integer Float String"
   ]
  },
  {
   "cell_type": "markdown",
   "id": "ff1f3965-e7cd-4729-a0fc-a189dee1179c",
   "metadata": {},
   "source": [
    "##### type(Var)"
   ]
  },
  {
   "cell_type": "code",
   "execution_count": 73,
   "id": "8b05b277-53a4-45b3-aefd-892b67552a40",
   "metadata": {},
   "outputs": [],
   "source": [
    "# + dar Variables"
   ]
  },
  {
   "cell_type": "code",
   "execution_count": 68,
   "id": "a701778c-f454-469f-aef6-aa7e6a135e2d",
   "metadata": {},
   "outputs": [
    {
     "name": "stdout",
     "output_type": "stream",
     "text": [
      "8\n"
     ]
    }
   ],
   "source": [
    "x = 3\n",
    "y = 5\n",
    "print(x+y)"
   ]
  },
  {
   "cell_type": "code",
   "execution_count": 72,
   "id": "95f5f616-1e84-4e51-9820-f4d10fc5b2e8",
   "metadata": {},
   "outputs": [
    {
     "data": {
      "text/plain": [
       "'ali alavi'"
      ]
     },
     "execution_count": 72,
     "metadata": {},
     "output_type": "execute_result"
    }
   ],
   "source": [
    "x = \"ali\"\n",
    "y = \" alavi\"\n",
    "x+y"
   ]
  },
  {
   "cell_type": "code",
   "execution_count": 78,
   "id": "9048d37b-a28f-4892-9105-1b1817e5fb8b",
   "metadata": {},
   "outputs": [
    {
     "data": {
      "text/plain": [
       "(34, 'ana')"
      ]
     },
     "execution_count": 78,
     "metadata": {},
     "output_type": "execute_result"
    }
   ],
   "source": [
    "x = 34\n",
    "y = 'ana'\n",
    "x,y"
   ]
  },
  {
   "cell_type": "code",
   "execution_count": 79,
   "id": "b34daa6f-95d6-4875-a1ab-40a942d3db38",
   "metadata": {},
   "outputs": [
    {
     "name": "stdout",
     "output_type": "stream",
     "text": [
      "34 ana\n"
     ]
    }
   ],
   "source": [
    "x = 34\n",
    "y = 'ana'\n",
    "print(x,y)"
   ]
  },
  {
   "cell_type": "code",
   "execution_count": 80,
   "id": "120bb939-07a4-4fdf-9653-ce063adb1436",
   "metadata": {},
   "outputs": [
    {
     "name": "stdout",
     "output_type": "stream",
     "text": [
      "reza ahmad\n"
     ]
    }
   ],
   "source": [
    "a = 'reza'\n",
    "A = 'ahmad'\n",
    "print(a,A)"
   ]
  },
  {
   "cell_type": "markdown",
   "id": "7a630019-19a3-45c4-8f95-8ee6d97398f8",
   "metadata": {},
   "source": [
    "### different ways to assign values"
   ]
  },
  {
   "cell_type": "code",
   "execution_count": 81,
   "id": "dc4ff9e6-8bb1-438a-9ff6-f3efbb7636e9",
   "metadata": {},
   "outputs": [
    {
     "name": "stdout",
     "output_type": "stream",
     "text": [
      "10 20\n"
     ]
    }
   ],
   "source": [
    "a, b = 10, 20\n",
    "print(a,b)"
   ]
  },
  {
   "cell_type": "code",
   "execution_count": 82,
   "id": "393ee6b5-7d65-412a-9548-a5c77a6bb0b2",
   "metadata": {},
   "outputs": [
    {
     "name": "stdout",
     "output_type": "stream",
     "text": [
      "40 aia\n"
     ]
    }
   ],
   "source": [
    "a, b = 40, 'aia'\n",
    "print(a,b)"
   ]
  },
  {
   "cell_type": "markdown",
   "id": "aadef6bc-1b0b-4e5b-849b-3d7ee66114e7",
   "metadata": {},
   "source": [
    "### Getting input from keyboard"
   ]
  },
  {
   "cell_type": "code",
   "execution_count": 84,
   "id": "cc5738d8-3176-4b1c-9fb0-0f8e7ad30a28",
   "metadata": {},
   "outputs": [
    {
     "name": "stdin",
     "output_type": "stream",
     "text": [
      "Enter a number 45\n"
     ]
    }
   ],
   "source": [
    "num = input('Enter a number')"
   ]
  },
  {
   "cell_type": "code",
   "execution_count": 86,
   "id": "4e758e95-f8c0-49d4-9d75-556b23de64d2",
   "metadata": {},
   "outputs": [
    {
     "name": "stdin",
     "output_type": "stream",
     "text": [
      "Enter a number 77\n"
     ]
    }
   ],
   "source": [
    "age = int(input('Enter a number'))"
   ]
  },
  {
   "cell_type": "markdown",
   "id": "dd0de200-9061-49d6-b52b-018d8222379d",
   "metadata": {},
   "source": [
    "#### Static vs Dynamic"
   ]
  },
  {
   "cell_type": "code",
   "execution_count": 87,
   "id": "831779f7-ede2-4c6a-bcd2-07de3e891d9e",
   "metadata": {},
   "outputs": [
    {
     "data": {
      "text/plain": [
       "8.48"
      ]
     },
     "execution_count": 87,
     "metadata": {},
     "output_type": "execute_result"
    }
   ],
   "source": [
    "x = 30\n",
    "x = 59\n",
    "x = 8.48\n",
    "x"
   ]
  },
  {
   "cell_type": "markdown",
   "id": "b65b2fd3-6430-4e8c-a6fb-b4c282d11d67",
   "metadata": {},
   "source": [
    "#### Variable Name"
   ]
  },
  {
   "cell_type": "code",
   "execution_count": 90,
   "id": "2127be69-d278-4d25-9df5-959a54a7d136",
   "metadata": {},
   "outputs": [],
   "source": [
    "#camel case = #myVariableName\n",
    "#pascal case = #MyVariableName\n",
    "#snake case = #my_variable_name"
   ]
  },
  {
   "cell_type": "markdown",
   "id": "4b90e515-480f-4c68-9b5a-5de252d4837d",
   "metadata": {},
   "source": [
    "####  Exc: Calculate mins in a year"
   ]
  },
  {
   "cell_type": "markdown",
   "id": "27546df0-427f-48b5-9575-4aac6345acaa",
   "metadata": {},
   "source": [
    "##### DaysInYear = 365\n",
    "HourInDay = 24\n",
    "MintuteInHour = 60\n",
    "print(DaysInYear * HourInDay * MintuteInHour)"
   ]
  },
  {
   "cell_type": "markdown",
   "id": "fe4a1e23-eabb-4c95-9ee6-cb685cabda48",
   "metadata": {},
   "source": [
    "# Data Types in Python"
   ]
  },
  {
   "cell_type": "markdown",
   "id": "4de9e5ac-7c07-40e0-939d-ecae7ea0e40c",
   "metadata": {},
   "source": [
    "### numeric = integer, float, complex num\n",
    "### dictionary\n",
    "### Boolean = 0, 1\n",
    "### set\n",
    "### sequence types = string, list, tuples"
   ]
  },
  {
   "cell_type": "code",
   "execution_count": 93,
   "id": "baedf340-20cd-48a4-b9e5-55f2818c6961",
   "metadata": {},
   "outputs": [
    {
     "data": {
      "text/plain": [
       "int"
      ]
     },
     "execution_count": 93,
     "metadata": {},
     "output_type": "execute_result"
    }
   ],
   "source": [
    "a = 4\n",
    "type(a)"
   ]
  },
  {
   "cell_type": "code",
   "execution_count": 94,
   "id": "b7872909-c013-46a3-909a-624c56a022b6",
   "metadata": {},
   "outputs": [
    {
     "data": {
      "text/plain": [
       "float"
      ]
     },
     "execution_count": 94,
     "metadata": {},
     "output_type": "execute_result"
    }
   ],
   "source": [
    "b = 4.6\n",
    "type(b)"
   ]
  },
  {
   "cell_type": "code",
   "execution_count": 95,
   "id": "7063b419-aaf1-4b3d-9922-f85cffd12b1c",
   "metadata": {},
   "outputs": [
    {
     "data": {
      "text/plain": [
       "list"
      ]
     },
     "execution_count": 95,
     "metadata": {},
     "output_type": "execute_result"
    }
   ],
   "source": [
    "li1 = ['ali', 'alireza', 'hamid']\n",
    "type(li1)"
   ]
  },
  {
   "cell_type": "code",
   "execution_count": 96,
   "id": "54dc5d4e-f07c-40e3-805e-ac38a4cc1c64",
   "metadata": {},
   "outputs": [
    {
     "data": {
      "text/plain": [
       "tuple"
      ]
     },
     "execution_count": 96,
     "metadata": {},
     "output_type": "execute_result"
    }
   ],
   "source": [
    "# tuples are Immutable\n",
    "tu = ('ali', 'alireza', 'hamid')\n",
    "type(tu)"
   ]
  },
  {
   "cell_type": "code",
   "execution_count": 98,
   "id": "65370a7e-9930-40b0-bfeb-58bf0d3b220f",
   "metadata": {},
   "outputs": [
    {
     "data": {
      "text/plain": [
       "bool"
      ]
     },
     "execution_count": 98,
     "metadata": {},
     "output_type": "execute_result"
    }
   ],
   "source": [
    "type(True)"
   ]
  },
  {
   "cell_type": "code",
   "execution_count": 100,
   "id": "ecf68c4c-9af8-41ff-8146-0de491d94f44",
   "metadata": {},
   "outputs": [
    {
     "name": "stdout",
     "output_type": "stream",
     "text": [
      "{1, 2, 3, 4, 5, 45}\n"
     ]
    },
    {
     "data": {
      "text/plain": [
       "set"
      ]
     },
     "execution_count": 100,
     "metadata": {},
     "output_type": "execute_result"
    }
   ],
   "source": [
    "# repeatable num are removed\n",
    "st = {1,2,3,3,3,4,4,45,5,}\n",
    "print(st)\n",
    "type(st)"
   ]
  },
  {
   "cell_type": "code",
   "execution_count": 102,
   "id": "d9791a6c-7639-4124-9478-c9298668ac83",
   "metadata": {},
   "outputs": [
    {
     "name": "stdout",
     "output_type": "stream",
     "text": [
      "{'name': 'ali', 'age': 43, 'married': 0}\n"
     ]
    },
    {
     "data": {
      "text/plain": [
       "dict"
      ]
     },
     "execution_count": 102,
     "metadata": {},
     "output_type": "execute_result"
    }
   ],
   "source": [
    "# Dictionanry with key value\n",
    "dic = {'name' : 'ali', 'age' : 43, 'married': 0}\n",
    "print(dic)\n",
    "type(dic)"
   ]
  },
  {
   "cell_type": "markdown",
   "id": "028b7fb9-8674-456d-ba6c-15f575cbf2ef",
   "metadata": {},
   "source": [
    "#### Reverse"
   ]
  },
  {
   "cell_type": "code",
   "execution_count": 1,
   "id": "ef5532ed-6c57-4156-a788-90e3f7373d38",
   "metadata": {},
   "outputs": [
    {
     "data": {
      "text/plain": [
       "'dsfdsf'"
      ]
     },
     "execution_count": 1,
     "metadata": {},
     "output_type": "execute_result"
    }
   ],
   "source": [
    "s = 'dsfdsf'\n",
    "s"
   ]
  },
  {
   "cell_type": "code",
   "execution_count": 2,
   "id": "560ac924-5a1d-4f12-9653-52a9f6026077",
   "metadata": {},
   "outputs": [
    {
     "data": {
      "text/plain": [
       "'fsdfsd'"
      ]
     },
     "execution_count": 2,
     "metadata": {},
     "output_type": "execute_result"
    }
   ],
   "source": [
    "s[::-1]"
   ]
  },
  {
   "cell_type": "markdown",
   "id": "566d0b52-d084-496e-b7f9-44b5fb05ac26",
   "metadata": {},
   "source": [
    "#### Placing"
   ]
  },
  {
   "cell_type": "code",
   "execution_count": 7,
   "id": "9207bf22-5453-4a7e-8463-088782357bcf",
   "metadata": {},
   "outputs": [
    {
     "name": "stdout",
     "output_type": "stream",
     "text": [
      "neda omidi\n"
     ]
    }
   ],
   "source": [
    "fullname  = 'neda omidi'\n",
    "firstname = fullname[:4]\n",
    "lastname = fullname[5:]\n",
    "print(firstname +' ' + lastname)"
   ]
  },
  {
   "cell_type": "markdown",
   "id": "d081987d-78d2-4cd4-a54b-037ee7426590",
   "metadata": {},
   "source": [
    "#### Strings only (+, *)"
   ]
  },
  {
   "cell_type": "code",
   "execution_count": 10,
   "id": "b9aa6f33-a324-4a96-bf81-4790cbb62a89",
   "metadata": {},
   "outputs": [
    {
     "data": {
      "text/plain": [
       "'bye'"
      ]
     },
     "execution_count": 10,
     "metadata": {},
     "output_type": "execute_result"
    }
   ],
   "source": [
    "s = 'bye'\n",
    "s"
   ]
  },
  {
   "cell_type": "code",
   "execution_count": 11,
   "id": "5a62d175-a96f-468d-a4c5-4e1fcc1e53d6",
   "metadata": {},
   "outputs": [
    {
     "data": {
      "text/plain": [
       "'byebyebye'"
      ]
     },
     "execution_count": 11,
     "metadata": {},
     "output_type": "execute_result"
    }
   ],
   "source": [
    "s2 = s * 3\n",
    "s2"
   ]
  },
  {
   "cell_type": "markdown",
   "id": "3c883607-d8ef-4b18-ac04-c12342073e1b",
   "metadata": {},
   "source": [
    "#### Indexing Application"
   ]
  },
  {
   "cell_type": "code",
   "execution_count": 14,
   "id": "917d03a1-d3c3-4fdd-8b61-c73e7cf378cd",
   "metadata": {},
   "outputs": [
    {
     "data": {
      "text/plain": [
       "'google'"
      ]
     },
     "execution_count": 14,
     "metadata": {},
     "output_type": "execute_result"
    }
   ],
   "source": [
    "w = 'www.google.com'\n",
    "w[4:10]"
   ]
  },
  {
   "cell_type": "markdown",
   "id": "9b29acd0-3c3c-4890-97f2-4282c9c12674",
   "metadata": {},
   "source": [
    "#### Immutable Str"
   ]
  },
  {
   "cell_type": "code",
   "execution_count": 15,
   "id": "823dac28-f94f-4cc8-93be-a3389246edfe",
   "metadata": {},
   "outputs": [
    {
     "data": {
      "text/plain": [
       "'ana'"
      ]
     },
     "execution_count": 15,
     "metadata": {},
     "output_type": "execute_result"
    }
   ],
   "source": [
    "e = 'ana'\n",
    "e"
   ]
  },
  {
   "cell_type": "code",
   "execution_count": 16,
   "id": "d880dba7-a15a-42e0-ad67-e3b2f31f9134",
   "metadata": {},
   "outputs": [
    {
     "ename": "NameError",
     "evalue": "name 'A' is not defined",
     "output_type": "error",
     "traceback": [
      "\u001b[1;31m---------------------------------------------------------------------------\u001b[0m",
      "\u001b[1;31mNameError\u001b[0m                                 Traceback (most recent call last)",
      "Cell \u001b[1;32mIn[16], line 1\u001b[0m\n\u001b[1;32m----> 1\u001b[0m e[\u001b[38;5;241m0\u001b[39m] \u001b[38;5;241m=\u001b[39m \u001b[43mA\u001b[49m\n",
      "\u001b[1;31mNameError\u001b[0m: name 'A' is not defined"
     ]
    }
   ],
   "source": [
    "e[0] = A"
   ]
  },
  {
   "cell_type": "markdown",
   "id": "85d12902-74a0-4f71-866b-b751b26d4b41",
   "metadata": {},
   "source": [
    "#### Methods"
   ]
  },
  {
   "cell_type": "code",
   "execution_count": 17,
   "id": "f8c78493-059e-4e68-a28e-f624a65205b2",
   "metadata": {},
   "outputs": [
    {
     "data": {
      "text/plain": [
       "'Ana'"
      ]
     },
     "execution_count": 17,
     "metadata": {},
     "output_type": "execute_result"
    }
   ],
   "source": [
    "e.capitalize()"
   ]
  },
  {
   "cell_type": "code",
   "execution_count": 18,
   "id": "50b1248c-d0a9-477b-b00c-b86e11bb8135",
   "metadata": {},
   "outputs": [
    {
     "data": {
      "text/plain": [
       "'ANA'"
      ]
     },
     "execution_count": 18,
     "metadata": {},
     "output_type": "execute_result"
    }
   ],
   "source": [
    "e.upper()"
   ]
  },
  {
   "cell_type": "code",
   "execution_count": 52,
   "id": "0bc8c4bf-f052-4a8d-92cf-93f6d42aa936",
   "metadata": {},
   "outputs": [
    {
     "data": {
      "text/plain": [
       "'dsg'"
      ]
     },
     "execution_count": 52,
     "metadata": {},
     "output_type": "execute_result"
    }
   ],
   "source": [
    "v = 'DSG'\n",
    "v.lower()"
   ]
  },
  {
   "cell_type": "code",
   "execution_count": 20,
   "id": "f5784ae7-139b-4fc5-954a-c5d04ec5be2a",
   "metadata": {},
   "outputs": [
    {
     "data": {
      "text/plain": [
       "'I Am Living In The Usa'"
      ]
     },
     "execution_count": 20,
     "metadata": {},
     "output_type": "execute_result"
    }
   ],
   "source": [
    "c = 'i am living in the usa'\n",
    "c.title()"
   ]
  },
  {
   "cell_type": "code",
   "execution_count": 23,
   "id": "02ef1f15-4403-48be-8f43-717bb128ceaf",
   "metadata": {},
   "outputs": [
    {
     "data": {
      "text/plain": [
       "'i am living in the Canada'"
      ]
     },
     "execution_count": 23,
     "metadata": {},
     "output_type": "execute_result"
    }
   ],
   "source": [
    "c.replace('usa','Canada')"
   ]
  },
  {
   "cell_type": "code",
   "execution_count": 51,
   "id": "629e6d28-77c9-4a46-8bd4-bb34c85ba433",
   "metadata": {},
   "outputs": [
    {
     "data": {
      "text/plain": [
       "'salam emrooz fdsfsd'"
      ]
     },
     "execution_count": 51,
     "metadata": {},
     "output_type": "execute_result"
    }
   ],
   "source": [
    "tweet = '#salam #emrooz #fdsfsd'\n",
    "tweet1 = tweet.replace('#','')\n",
    "tweet1"
   ]
  },
  {
   "cell_type": "code",
   "execution_count": 28,
   "id": "41345b7d-a091-49dc-83a6-48940f6c307d",
   "metadata": {},
   "outputs": [
    {
     "data": {
      "text/plain": [
       "'salam_emrooz_fdsfsd'"
      ]
     },
     "execution_count": 28,
     "metadata": {},
     "output_type": "execute_result"
    }
   ],
   "source": [
    "tweet1.replace(' ','_')"
   ]
  },
  {
   "cell_type": "code",
   "execution_count": 30,
   "id": "6b9e5300-e33e-4ba9-b562-46a961362811",
   "metadata": {},
   "outputs": [
    {
     "data": {
      "text/plain": [
       "11"
      ]
     },
     "execution_count": 30,
     "metadata": {},
     "output_type": "execute_result"
    }
   ],
   "source": [
    "tweet.find('o')"
   ]
  },
  {
   "cell_type": "code",
   "execution_count": 31,
   "id": "268601ac-cd36-415a-a159-58ef36c464e2",
   "metadata": {},
   "outputs": [
    {
     "data": {
      "text/plain": [
       "2"
      ]
     },
     "execution_count": 31,
     "metadata": {},
     "output_type": "execute_result"
    }
   ],
   "source": [
    "y = 'we are so proud of you all you guys'\n",
    "y.count('you')"
   ]
  },
  {
   "cell_type": "markdown",
   "id": "b5b052dd-c0a6-4fe9-b636-21ef178711b3",
   "metadata": {},
   "source": [
    "# e = 'dsfsdf474'\n",
    "e.isalpha()"
   ]
  },
  {
   "cell_type": "code",
   "execution_count": 33,
   "id": "8a661243-9f6a-4ba5-9519-daf49784db20",
   "metadata": {},
   "outputs": [
    {
     "data": {
      "text/plain": [
       "True"
      ]
     },
     "execution_count": 33,
     "metadata": {},
     "output_type": "execute_result"
    }
   ],
   "source": [
    "r = 'fref'\n",
    "r.isalpha()"
   ]
  },
  {
   "cell_type": "code",
   "execution_count": 34,
   "id": "0f6cf038-dff8-4533-a1a8-ada6717b10e1",
   "metadata": {},
   "outputs": [
    {
     "data": {
      "text/plain": [
       "True"
      ]
     },
     "execution_count": 34,
     "metadata": {},
     "output_type": "execute_result"
    }
   ],
   "source": [
    "t = '34534534'\n",
    "t.isnumeric()"
   ]
  },
  {
   "cell_type": "code",
   "execution_count": 35,
   "id": "1bf54f79-f05c-413c-a299-170a30548540",
   "metadata": {},
   "outputs": [
    {
     "data": {
      "text/plain": [
       "'ali          '"
      ]
     },
     "execution_count": 35,
     "metadata": {},
     "output_type": "execute_result"
    }
   ],
   "source": [
    "q = '      ali          '\n",
    "q.lstrip()"
   ]
  },
  {
   "cell_type": "code",
   "execution_count": 36,
   "id": "089b3f55-7b88-4661-8888-7780b71484ec",
   "metadata": {},
   "outputs": [
    {
     "data": {
      "text/plain": [
       "'      ali          '"
      ]
     },
     "execution_count": 36,
     "metadata": {},
     "output_type": "execute_result"
    }
   ],
   "source": [
    "q"
   ]
  },
  {
   "cell_type": "code",
   "execution_count": 37,
   "id": "2c41e855-2f16-4b8d-90df-adb4a3d55b58",
   "metadata": {},
   "outputs": [
    {
     "data": {
      "text/plain": [
       "'ali          '"
      ]
     },
     "execution_count": 37,
     "metadata": {},
     "output_type": "execute_result"
    }
   ],
   "source": [
    "q = q.lstrip()\n",
    "q"
   ]
  },
  {
   "cell_type": "code",
   "execution_count": 38,
   "id": "830e8cf1-5b4f-4f06-94c0-26ecf5f5529b",
   "metadata": {},
   "outputs": [
    {
     "data": {
      "text/plain": [
       "'ali          '"
      ]
     },
     "execution_count": 38,
     "metadata": {},
     "output_type": "execute_result"
    }
   ],
   "source": [
    "q"
   ]
  },
  {
   "cell_type": "code",
   "execution_count": 41,
   "id": "09a5e060-f17b-4482-a012-4b7dd9455b4d",
   "metadata": {},
   "outputs": [
    {
     "data": {
      "text/plain": [
       "'www.youtube.com'"
      ]
     },
     "execution_count": 41,
     "metadata": {},
     "output_type": "execute_result"
    }
   ],
   "source": [
    "site = 'http://www.youtube.com'\n",
    "site.split('//')[1]"
   ]
  },
  {
   "cell_type": "code",
   "execution_count": 42,
   "id": "d45678dc-a562-4d14-a9a4-aff479a8c783",
   "metadata": {},
   "outputs": [
    {
     "data": {
      "text/plain": [
       "'com'"
      ]
     },
     "execution_count": 42,
     "metadata": {},
     "output_type": "execute_result"
    }
   ],
   "source": [
    "gmaill = 'hastiatashi@gmail.com'\n",
    "gmaill.split('@')[1].split('.')[1]"
   ]
  },
  {
   "cell_type": "code",
   "execution_count": 44,
   "id": "eaaf7d62-e0be-4735-bd09-3e77c4bc9b39",
   "metadata": {},
   "outputs": [
    {
     "data": {
      "text/plain": [
       "'2045_32_04'"
      ]
     },
     "execution_count": 44,
     "metadata": {},
     "output_type": "execute_result"
    }
   ],
   "source": [
    "datetime = '2032_23_02-2045_32_04'\n",
    "datetime.split('-')[1]"
   ]
  },
  {
   "cell_type": "markdown",
   "id": "14f8d54f-ed9a-4865-a6b8-e5b65a49d183",
   "metadata": {},
   "source": [
    "#### Formatting"
   ]
  },
  {
   "cell_type": "code",
   "execution_count": 45,
   "id": "f2081211-85c2-45e7-b296-4db825a56577",
   "metadata": {},
   "outputs": [
    {
     "data": {
      "text/plain": [
       "'my name is ana, and my age is 24'"
      ]
     },
     "execution_count": 45,
     "metadata": {},
     "output_type": "execute_result"
    }
   ],
   "source": [
    "name = 'ana'\n",
    "age = 24\n",
    "f'my name is {name}, and my age is {age}'"
   ]
  },
  {
   "cell_type": "code",
   "execution_count": 46,
   "id": "82978cb5-c5ed-42e8-95fd-be886603eb7b",
   "metadata": {},
   "outputs": [
    {
     "data": {
      "text/plain": [
       "'today in Tehran,  the tempature is 30 degrees'"
      ]
     },
     "execution_count": 46,
     "metadata": {},
     "output_type": "execute_result"
    }
   ],
   "source": [
    "temp = '30 degrees'\n",
    "city = 'Tehran'\n",
    "f'today in {city},  the tempature is {temp}'"
   ]
  },
  {
   "cell_type": "markdown",
   "id": "48a85caf-b205-4f2a-830f-09b95eca062c",
   "metadata": {},
   "source": [
    "#### Exercise:"
   ]
  },
  {
   "cell_type": "code",
   "execution_count": 49,
   "id": "2b4d89a8-7dde-433e-ac06-06b7dc7956cb",
   "metadata": {},
   "outputs": [
    {
     "name": "stdin",
     "output_type": "stream",
     "text": [
      "Enter your name:  hasti\n"
     ]
    },
    {
     "name": "stdout",
     "output_type": "stream",
     "text": [
      "Hello hasti\n"
     ]
    }
   ],
   "source": [
    "name = input('Enter your name: ')\n",
    "print(f'Hello {name}')"
   ]
  },
  {
   "cell_type": "markdown",
   "id": "9e8aa37b-05e8-4bf2-b8e8-6eaefc1891f5",
   "metadata": {},
   "source": [
    "## List Creation:"
   ]
  },
  {
   "cell_type": "code",
   "execution_count": 2,
   "id": "1777dd85-2152-4772-8272-51e07e0c59a1",
   "metadata": {},
   "outputs": [
    {
     "name": "stdout",
     "output_type": "stream",
     "text": [
      "['asas', 4343, 3432.55]\n"
     ]
    }
   ],
   "source": [
    "l2 = ['asas', 4343, 3432.55]\n",
    "print(l2)"
   ]
  },
  {
   "cell_type": "code",
   "execution_count": 3,
   "id": "7d982a41-3c8a-467f-b0b3-12ee32d7efdc",
   "metadata": {},
   "outputs": [
    {
     "data": {
      "text/plain": [
       "3"
      ]
     },
     "execution_count": 3,
     "metadata": {},
     "output_type": "execute_result"
    }
   ],
   "source": [
    "len(l2)"
   ]
  },
  {
   "cell_type": "markdown",
   "id": "5e9e7a93-1b77-4eb4-bf37-90610d460917",
   "metadata": {},
   "source": [
    "### Indexing Like Strings"
   ]
  },
  {
   "cell_type": "code",
   "execution_count": 7,
   "id": "da4585ea-c43d-4618-8057-f7262759f79e",
   "metadata": {},
   "outputs": [
    {
     "data": {
      "text/plain": [
       "['john', 180, 90, 34]"
      ]
     },
     "execution_count": 7,
     "metadata": {},
     "output_type": "execute_result"
    }
   ],
   "source": [
    "lit = ['john', 180, 90, 34]\n",
    "lit"
   ]
  },
  {
   "cell_type": "markdown",
   "id": "d38bca3a-5b85-4323-a985-b34430048a20",
   "metadata": {},
   "source": [
    "### Slicing"
   ]
  },
  {
   "cell_type": "code",
   "execution_count": 6,
   "id": "510f11d2-86de-4dba-b6b8-4ab4623ac678",
   "metadata": {},
   "outputs": [],
   "source": [
    "#[start:end:step]"
   ]
  },
  {
   "cell_type": "code",
   "execution_count": 8,
   "id": "d02b3346-bbb3-4ae3-a79c-5d70e2c31dfb",
   "metadata": {},
   "outputs": [
    {
     "data": {
      "text/plain": [
       "['john', 180, 90]"
      ]
     },
     "execution_count": 8,
     "metadata": {},
     "output_type": "execute_result"
    }
   ],
   "source": [
    "lit[0:3]"
   ]
  },
  {
   "cell_type": "code",
   "execution_count": 9,
   "id": "b930415c-daef-4cdb-bd68-30b5152f422e",
   "metadata": {},
   "outputs": [
    {
     "data": {
      "text/plain": [
       "[1, 2, 3, 4, 5, 6, 7, 8, 9, 10, 11, 12, 13, 14, 15, 16, 17, 18, 19, 20]"
      ]
     },
     "execution_count": 9,
     "metadata": {},
     "output_type": "execute_result"
    }
   ],
   "source": [
    "lit = [1,2,3,4,5,6,7,8,9,10,11,12,13,14,15,16,17,18,19,20]\n",
    "lit"
   ]
  },
  {
   "cell_type": "code",
   "execution_count": 11,
   "id": "46fb96ae-050f-4ad5-8459-57916f4cdd48",
   "metadata": {},
   "outputs": [
    {
     "data": {
      "text/plain": [
       "[2, 4, 6, 8, 10, 12, 14, 16, 18, 20]"
      ]
     },
     "execution_count": 11,
     "metadata": {},
     "output_type": "execute_result"
    }
   ],
   "source": [
    "lit[1::2]"
   ]
  },
  {
   "cell_type": "code",
   "execution_count": 12,
   "id": "93a2f8b9-23ae-4b0f-9ed8-dc9522109ec9",
   "metadata": {},
   "outputs": [
    {
     "data": {
      "text/plain": [
       "[1, 3, 5, 7, 9, 11, 13, 15, 17, 19]"
      ]
     },
     "execution_count": 12,
     "metadata": {},
     "output_type": "execute_result"
    }
   ],
   "source": [
    "lit[::2]"
   ]
  },
  {
   "cell_type": "code",
   "execution_count": 13,
   "id": "e5bc1241-0551-47fa-97a2-dc742a2acae2",
   "metadata": {},
   "outputs": [
    {
     "data": {
      "text/plain": [
       "[20, 19, 18, 17, 16, 15, 14, 13, 12, 11, 10, 9, 8, 7, 6, 5, 4, 3, 2, 1]"
      ]
     },
     "execution_count": 13,
     "metadata": {},
     "output_type": "execute_result"
    }
   ],
   "source": [
    "lit[::-1]"
   ]
  },
  {
   "cell_type": "code",
   "execution_count": 14,
   "id": "a675df0f-d5b9-4767-8b00-01e6f0aff26a",
   "metadata": {},
   "outputs": [
    {
     "data": {
      "text/plain": [
       "[20, 18, 16, 14, 12, 10, 8, 6, 4, 2]"
      ]
     },
     "execution_count": 14,
     "metadata": {},
     "output_type": "execute_result"
    }
   ],
   "source": [
    "lit[::-2]"
   ]
  },
  {
   "cell_type": "markdown",
   "id": "974e911d-8cdf-4d10-82bf-1b7752d8bb44",
   "metadata": {},
   "source": [
    "## Methods"
   ]
  },
  {
   "cell_type": "code",
   "execution_count": 15,
   "id": "c0f62683-d0e4-4855-b0f1-cfc06e5a90ff",
   "metadata": {},
   "outputs": [
    {
     "data": {
      "text/plain": [
       "['ana', 'reza', 'ali', 'vahid', 'amir']"
      ]
     },
     "execution_count": 15,
     "metadata": {},
     "output_type": "execute_result"
    }
   ],
   "source": [
    "li = ['ana' ,'reza', 'ali', 'vahid', 'amir']\n",
    "li"
   ]
  },
  {
   "cell_type": "code",
   "execution_count": 17,
   "id": "8a77e7bd-1710-44d8-b350-5e16d3f7ddd8",
   "metadata": {},
   "outputs": [
    {
     "data": {
      "text/plain": [
       "['ana', 'reza', 'ali', 'vahid', 'amir', 'mehdi', 'mehdi']"
      ]
     },
     "execution_count": 17,
     "metadata": {},
     "output_type": "execute_result"
    }
   ],
   "source": [
    "li.append('mehdi')\n",
    "li"
   ]
  },
  {
   "cell_type": "markdown",
   "id": "f052536d-007f-41c9-b7d9-9a49361ef9a7",
   "metadata": {},
   "source": [
    "### Lists are mutable, while Strings are Immutable"
   ]
  },
  {
   "cell_type": "code",
   "execution_count": 18,
   "id": "b97d7622-4e29-482f-a6f1-ebc64c177449",
   "metadata": {},
   "outputs": [
    {
     "data": {
      "text/plain": [
       "['ana', 'reza', 'ali', 'vahid', 'amir', 'mehdi', 'mehdi']"
      ]
     },
     "execution_count": 18,
     "metadata": {},
     "output_type": "execute_result"
    }
   ],
   "source": [
    "li"
   ]
  },
  {
   "cell_type": "code",
   "execution_count": 19,
   "id": "31687372-1704-4193-b9c3-ffc378fae5ac",
   "metadata": {},
   "outputs": [
    {
     "data": {
      "text/plain": [
       "['anahita', 'reza', 'ali', 'vahid', 'amir', 'mehdi', 'mehdi']"
      ]
     },
     "execution_count": 19,
     "metadata": {},
     "output_type": "execute_result"
    }
   ],
   "source": [
    "li[0] = 'anahita'\n",
    "li"
   ]
  },
  {
   "cell_type": "markdown",
   "id": "b7f8ac27-5843-4b22-a9ca-070e3cb511b5",
   "metadata": {},
   "source": [
    "## Nested Lists"
   ]
  },
  {
   "cell_type": "code",
   "execution_count": 23,
   "id": "82c38cbe-70dd-471a-aa57-fb4a8af12585",
   "metadata": {},
   "outputs": [
    {
     "data": {
      "text/plain": [
       "['sara', 'eli', ['ali', 'javad'], ['roze', 'wer'], ['dsd', 'err']]"
      ]
     },
     "execution_count": 23,
     "metadata": {},
     "output_type": "execute_result"
    }
   ],
   "source": [
    "li = ['sara', 'eli', ['ali', 'javad'], ['roze', 'wer'], ['dsd','err']]\n",
    "li"
   ]
  },
  {
   "cell_type": "code",
   "execution_count": 24,
   "id": "900f6273-7000-4754-8275-a5ec635c1cca",
   "metadata": {},
   "outputs": [
    {
     "data": {
      "text/plain": [
       "'wer'"
      ]
     },
     "execution_count": 24,
     "metadata": {},
     "output_type": "execute_result"
    }
   ],
   "source": [
    "li[3][1]"
   ]
  },
  {
   "cell_type": "code",
   "execution_count": 25,
   "id": "9e02263e-ec3e-402d-83ad-f36abf32ee3c",
   "metadata": {},
   "outputs": [
    {
     "data": {
      "text/plain": [
       "'err'"
      ]
     },
     "execution_count": 25,
     "metadata": {},
     "output_type": "execute_result"
    }
   ],
   "source": [
    "li[-1][-1]"
   ]
  },
  {
   "cell_type": "code",
   "execution_count": 2,
   "id": "08a6c8d0-7b92-401d-9e0e-cd446733b209",
   "metadata": {},
   "outputs": [
    {
     "data": {
      "text/plain": [
       "[344, [543, 76, 8754], 5454, [656]]"
      ]
     },
     "execution_count": 2,
     "metadata": {},
     "output_type": "execute_result"
    }
   ],
   "source": [
    "li = [344,[543,76,8754],5454, [656]]\n",
    "li"
   ]
  },
  {
   "cell_type": "code",
   "execution_count": 3,
   "id": "7976865f-566a-4623-a41f-757746f1b684",
   "metadata": {},
   "outputs": [
    {
     "data": {
      "text/plain": [
       "[344, [543, 76, 8754], 5454, [656, 45]]"
      ]
     },
     "execution_count": 3,
     "metadata": {},
     "output_type": "execute_result"
    }
   ],
   "source": [
    "li[3].append(45)\n",
    "li"
   ]
  },
  {
   "cell_type": "code",
   "execution_count": 41,
   "id": "0b21c9a7-907e-4b73-a771-ae0db49c7f5b",
   "metadata": {},
   "outputs": [],
   "source": [
    "# every time after execution of 'append' it runs 1 object added"
   ]
  },
  {
   "cell_type": "markdown",
   "id": "66f68181-adb1-4547-a520-2db641962d3c",
   "metadata": {},
   "source": [
    "### Extend:\n",
    "##### we can extend a 'sub-list' to the list"
   ]
  },
  {
   "cell_type": "code",
   "execution_count": 6,
   "id": "948d9412-c0c9-4722-ba51-a1dcf48b1e9a",
   "metadata": {},
   "outputs": [
    {
     "data": {
      "text/plain": [
       "['sara',\n",
       " 'eli',\n",
       " ['ali', 'javad'],\n",
       " ['roze', 'alice'],\n",
       " ['john', 'eddy'],\n",
       " 'joe',\n",
       " 'mary']"
      ]
     },
     "execution_count": 6,
     "metadata": {},
     "output_type": "execute_result"
    }
   ],
   "source": [
    "li = ['sara', 'eli', ['ali', 'javad'], ['roze', 'alice'], ['john','eddy']]\n",
    "slist = ['joe', 'mary']\n",
    "li.extend(slist)\n",
    "li"
   ]
  },
  {
   "cell_type": "code",
   "execution_count": 7,
   "id": "34c4aa16-e7ff-44ef-99d6-b4dededa602e",
   "metadata": {},
   "outputs": [
    {
     "data": {
      "text/plain": [
       "['sara',\n",
       " 'eli',\n",
       " ['ali', 'javad'],\n",
       " ['roze', 'alice'],\n",
       " ['john', 'eddy'],\n",
       " ['joe', 'mary']]"
      ]
     },
     "execution_count": 7,
     "metadata": {},
     "output_type": "execute_result"
    }
   ],
   "source": [
    "li = ['sara', 'eli', ['ali', 'javad'], ['roze', 'alice'], ['john','eddy']]\n",
    "slist = ['joe', 'mary']\n",
    "li.extend([slist])\n",
    "li"
   ]
  },
  {
   "cell_type": "markdown",
   "id": "7744db32-7094-43f7-880f-4319e376f59b",
   "metadata": {},
   "source": [
    "## List Oprations"
   ]
  },
  {
   "cell_type": "code",
   "execution_count": 4,
   "id": "bb4a18be-3380-4214-92e4-5b2402eb0aec",
   "metadata": {},
   "outputs": [],
   "source": [
    "lis1 = [1,2,3,4,5]\n",
    "lis2 = [6,7,8,9]"
   ]
  },
  {
   "cell_type": "code",
   "execution_count": 6,
   "id": "e58a5994-16fe-4d06-bada-0c56e22bfcfe",
   "metadata": {},
   "outputs": [
    {
     "data": {
      "text/plain": [
       "[1, 2, 3, 4, 5, 6, 7, 8, 9]"
      ]
     },
     "execution_count": 6,
     "metadata": {},
     "output_type": "execute_result"
    }
   ],
   "source": [
    "lis1 + lis2"
   ]
  },
  {
   "cell_type": "code",
   "execution_count": 7,
   "id": "1bbe626c-01a8-4031-bf30-4d65f6f6dad5",
   "metadata": {},
   "outputs": [
    {
     "data": {
      "text/plain": [
       "[1, 2, 3, 4, 5, 1, 2, 3, 4, 5]"
      ]
     },
     "execution_count": 7,
     "metadata": {},
     "output_type": "execute_result"
    }
   ],
   "source": [
    "lis1 * 2"
   ]
  },
  {
   "cell_type": "markdown",
   "id": "96188d8f-beaf-4c2a-8da5-9ec118fd1385",
   "metadata": {},
   "source": [
    "### reverse"
   ]
  },
  {
   "cell_type": "code",
   "execution_count": 9,
   "id": "788e4994-d052-4959-b99a-dab7f31cea14",
   "metadata": {},
   "outputs": [
    {
     "data": {
      "text/plain": [
       "[5, 4, 3, 2, 1]"
      ]
     },
     "execution_count": 9,
     "metadata": {},
     "output_type": "execute_result"
    }
   ],
   "source": [
    "lis1 = [1,2,3,4,5]\n",
    "lis1.reverse()\n",
    "lis1"
   ]
  },
  {
   "cell_type": "markdown",
   "id": "a76099e4-2407-41d7-b214-dedfba882ded",
   "metadata": {},
   "source": [
    "## Pop: \n",
    "##### showing result"
   ]
  },
  {
   "cell_type": "code",
   "execution_count": 10,
   "id": "95fb4d1d-33dc-4bba-8908-ccb6a6349757",
   "metadata": {},
   "outputs": [
    {
     "data": {
      "text/plain": [
       "[1, 2, 3, 4]"
      ]
     },
     "execution_count": 10,
     "metadata": {},
     "output_type": "execute_result"
    }
   ],
   "source": [
    "lis1 = [1,2,3,4,5]\n",
    "lis1.pop()\n",
    "lis1"
   ]
  },
  {
   "cell_type": "code",
   "execution_count": 12,
   "id": "90092bf0-5719-4ece-96c2-433fb1ab18a7",
   "metadata": {},
   "outputs": [
    {
     "data": {
      "text/plain": [
       "[1, 2, 3, 5]"
      ]
     },
     "execution_count": 12,
     "metadata": {},
     "output_type": "execute_result"
    }
   ],
   "source": [
    "lis1 = [1,2,3,4,5]\n",
    "lis1.pop(3)\n",
    "lis1"
   ]
  },
  {
   "cell_type": "markdown",
   "id": "dfcaa2d7-123a-4a9c-9686-04afa850d8fe",
   "metadata": {},
   "source": [
    "## index"
   ]
  },
  {
   "cell_type": "code",
   "execution_count": 13,
   "id": "4712f0d4-1936-462a-b4c3-fa4590f21f93",
   "metadata": {},
   "outputs": [
    {
     "data": {
      "text/plain": [
       "11"
      ]
     },
     "execution_count": 13,
     "metadata": {},
     "output_type": "execute_result"
    }
   ],
   "source": [
    "lis1 = [1,2,3,4,5,6,7,8,9,32,43,54,56,7,777,54,35567,6767,8787,5655]\n",
    "lis1.index(54)"
   ]
  },
  {
   "cell_type": "markdown",
   "id": "0d06d0e4-906f-4e78-85cc-e378fb30ed25",
   "metadata": {},
   "source": [
    "## Remove: \n",
    "##### no needed Index but not showing the result"
   ]
  },
  {
   "cell_type": "code",
   "execution_count": 15,
   "id": "56f2ec9e-5058-49b8-a2b2-5d8c94c813ca",
   "metadata": {},
   "outputs": [
    {
     "data": {
      "text/plain": [
       "[1, 2, 3, 4, 5, 6, 7, 8, 9, 32, 43, 54, 56, 7, 54, 35567, 6767, 8787, 5655]"
      ]
     },
     "execution_count": 15,
     "metadata": {},
     "output_type": "execute_result"
    }
   ],
   "source": [
    "lis1 = [1,2,3,4,5,6,7,8,9,32,43,54,56,7,777,54,35567,6767,8787,5655]\n",
    "lis1.remove(777)\n",
    "lis1"
   ]
  },
  {
   "cell_type": "markdown",
   "id": "aef652fc-093c-4d1d-bec4-208c755cbd43",
   "metadata": {},
   "source": [
    "## Delete:\n",
    "##### like pop needed Index"
   ]
  },
  {
   "cell_type": "markdown",
   "id": "400f78cd-790f-4cec-82c0-323322446806",
   "metadata": {},
   "source": [
    "## Sort:"
   ]
  },
  {
   "cell_type": "code",
   "execution_count": 17,
   "id": "84ffceff-5fb4-46f3-b4ff-f9ad722d1c36",
   "metadata": {},
   "outputs": [
    {
     "data": {
      "text/plain": [
       "[1,\n",
       " 2,\n",
       " 3,\n",
       " 4,\n",
       " 5,\n",
       " 6,\n",
       " 7,\n",
       " 7,\n",
       " 8,\n",
       " 9,\n",
       " 32,\n",
       " 43,\n",
       " 54,\n",
       " 54,\n",
       " 56,\n",
       " 777,\n",
       " 5655,\n",
       " 6767,\n",
       " 8787,\n",
       " 35567]"
      ]
     },
     "execution_count": 17,
     "metadata": {},
     "output_type": "execute_result"
    }
   ],
   "source": [
    "lis1 = [1,2,3,4,5,6,7,8,9,32,43,54,56,7,777,54,35567,6767,8787,5655]\n",
    "lis1.sort()\n",
    "lis1"
   ]
  },
  {
   "cell_type": "code",
   "execution_count": 1,
   "id": "c1d077bf-a226-49fd-81ab-3cd7da02e8e5",
   "metadata": {},
   "outputs": [
    {
     "data": {
      "text/plain": [
       "['A', 'N', 'a', 'e', 'h', 'n', 'y']"
      ]
     },
     "execution_count": 1,
     "metadata": {},
     "output_type": "execute_result"
    }
   ],
   "source": [
    "li9 = ['a', 'A', 'e', 'h', 'y', 'n', 'N']\n",
    "li9.sort()\n",
    "li9"
   ]
  },
  {
   "cell_type": "code",
   "execution_count": 2,
   "id": "91aa0791-c259-4888-9650-11ab4c8216d9",
   "metadata": {},
   "outputs": [
    {
     "name": "stdout",
     "output_type": "stream",
     "text": [
      "97\n",
      "65\n",
      "78\n",
      "101\n",
      "104\n",
      "110\n",
      "121\n"
     ]
    }
   ],
   "source": [
    "print(ord('a'))\n",
    "print(ord('A'))\n",
    "print(ord('N'))\n",
    "print(ord('e'))\n",
    "print(ord('h'))\n",
    "print(ord('n'))\n",
    "print(ord('y'))"
   ]
  },
  {
   "cell_type": "markdown",
   "id": "ca60ac88-4a18-4de6-95df-7fcce6b1b674",
   "metadata": {},
   "source": [
    "### Or"
   ]
  },
  {
   "cell_type": "code",
   "execution_count": 4,
   "id": "1b6f77f1-b537-453a-b847-d62d4ec93539",
   "metadata": {},
   "outputs": [
    {
     "data": {
      "text/plain": [
       "['A', 'N', 'a', 'e', 'h', 'n', 'y']"
      ]
     },
     "execution_count": 4,
     "metadata": {},
     "output_type": "execute_result"
    }
   ],
   "source": [
    "li9 = sorted(li9)\n",
    "li9"
   ]
  },
  {
   "cell_type": "markdown",
   "id": "43a514c6-ffd7-41d2-b453-c6cdb7e32932",
   "metadata": {},
   "source": [
    "### copy"
   ]
  },
  {
   "cell_type": "code",
   "execution_count": 5,
   "id": "dd0466ea-ee6b-494b-8a88-e7666936c7e3",
   "metadata": {},
   "outputs": [
    {
     "name": "stdout",
     "output_type": "stream",
     "text": [
      "['a', 'b', 'c', 'd', 1]\n",
      "['a', 'b', 'c', 'd', 1]\n"
     ]
    }
   ],
   "source": [
    "A = ['a', 'b', 'c', 'd']\n",
    "B = A\n",
    "A.append(1)\n",
    "print(A)\n",
    "print(B)"
   ]
  },
  {
   "cell_type": "markdown",
   "id": "9258ca9b-b740-467d-8376-7a4708c522b0",
   "metadata": {},
   "source": [
    "##### we want add 1 just for A not B"
   ]
  },
  {
   "cell_type": "code",
   "execution_count": 6,
   "id": "0a921274-77cd-461e-bb9b-7b3aaad4e61d",
   "metadata": {},
   "outputs": [
    {
     "name": "stdout",
     "output_type": "stream",
     "text": [
      "['a', 'b', 'c', 'd', 1]\n",
      "['a', 'b', 'c', 'd']\n"
     ]
    }
   ],
   "source": [
    "A = ['a', 'b', 'c', 'd']\n",
    "B = A.copy()\n",
    "A.append(1)\n",
    "print(A)\n",
    "print(B)"
   ]
  },
  {
   "cell_type": "markdown",
   "id": "b01d9945-9146-4263-8615-28bf17bae05c",
   "metadata": {},
   "source": [
    "### insert(index,object)"
   ]
  },
  {
   "cell_type": "code",
   "execution_count": 12,
   "id": "9f91744b-3840-4113-a2cf-e0177b1ddc51",
   "metadata": {},
   "outputs": [
    {
     "data": {
      "text/plain": [
       "6"
      ]
     },
     "execution_count": 12,
     "metadata": {},
     "output_type": "execute_result"
    }
   ],
   "source": [
    "li = [1, 2, 3, 4, 5, 6, 7, 9, 10]\n",
    "li.index(7)"
   ]
  },
  {
   "cell_type": "code",
   "execution_count": 13,
   "id": "f3d1fcaa-9742-473a-af14-9d1e8c7a80e5",
   "metadata": {},
   "outputs": [
    {
     "data": {
      "text/plain": [
       "[1, 2, 3, 4, 5, 6, 7, 8, 9, 10]"
      ]
     },
     "execution_count": 13,
     "metadata": {},
     "output_type": "execute_result"
    }
   ],
   "source": [
    "li.insert(7,8)\n",
    "li"
   ]
  },
  {
   "cell_type": "code",
   "execution_count": 17,
   "id": "f68f525c-e447-4110-914c-21efd2d8bbd4",
   "metadata": {},
   "outputs": [
    {
     "data": {
      "text/plain": [
       "[1, 2, 'python', 3, 4, 5, 6, 7, 8, 9, 10]"
      ]
     },
     "execution_count": 17,
     "metadata": {},
     "output_type": "execute_result"
    }
   ],
   "source": [
    "li.insert(2,'python')\n",
    "li"
   ]
  },
  {
   "cell_type": "code",
   "execution_count": 18,
   "id": "9bd40ffe-8a08-434b-8014-594a72d0079e",
   "metadata": {},
   "outputs": [
    {
     "name": "stdout",
     "output_type": "stream",
     "text": [
      "Variable   Type    Data/Info\n",
      "----------------------------\n",
      "A          list    n=5\n",
      "B          list    n=4\n",
      "li         list    n=11\n",
      "li9        list    n=7\n"
     ]
    }
   ],
   "source": [
    "whos"
   ]
  },
  {
   "cell_type": "markdown",
   "id": "c99b4ae7-e4cc-4590-b222-82a9c6559542",
   "metadata": {},
   "source": [
    "### count"
   ]
  },
  {
   "cell_type": "code",
   "execution_count": 19,
   "id": "5e131a7c-1ee1-4c0c-9b69-4fc7093815f6",
   "metadata": {},
   "outputs": [
    {
     "data": {
      "text/plain": [
       "3"
      ]
     },
     "execution_count": 19,
     "metadata": {},
     "output_type": "execute_result"
    }
   ],
   "source": [
    "li = [2,4,5,5,5,6,7,8,8]\n",
    "li.count(5)"
   ]
  },
  {
   "cell_type": "markdown",
   "id": "9e916eb5-6162-4c37-b162-610ee5050c4e",
   "metadata": {},
   "source": [
    "### range"
   ]
  },
  {
   "cell_type": "code",
   "execution_count": 20,
   "id": "5f13ec09-3612-498d-bf1c-7137b880b853",
   "metadata": {},
   "outputs": [
    {
     "data": {
      "text/plain": [
       "range(0, 20)"
      ]
     },
     "execution_count": 20,
     "metadata": {},
     "output_type": "execute_result"
    }
   ],
   "source": [
    "range(20)"
   ]
  },
  {
   "cell_type": "code",
   "execution_count": 26,
   "id": "316a69df-fcfb-443b-84ad-25f80dfea6e6",
   "metadata": {},
   "outputs": [
    {
     "data": {
      "text/plain": [
       "[0, 1, 2, 3, 4, 5, 6, 7, 8, 9, 10, 11, 12, 13, 14, 15, 16, 17, 18, 19]"
      ]
     },
     "execution_count": 26,
     "metadata": {},
     "output_type": "execute_result"
    }
   ],
   "source": [
    "list(range(20))"
   ]
  },
  {
   "cell_type": "code",
   "execution_count": 28,
   "id": "1d5212d6-c4c9-4a9e-a327-18aa5391eb34",
   "metadata": {},
   "outputs": [
    {
     "data": {
      "text/plain": [
       "[3, 4, 5, 6, 7, 8, 9]"
      ]
     },
     "execution_count": 28,
     "metadata": {},
     "output_type": "execute_result"
    }
   ],
   "source": [
    "list(range(3, 10))"
   ]
  },
  {
   "cell_type": "code",
   "execution_count": 29,
   "id": "b328d1b6-cdcc-4b10-8082-5cbccd8d89b1",
   "metadata": {},
   "outputs": [
    {
     "data": {
      "text/plain": [
       "[1, 3, 5, 7, 9, 11, 13, 15, 17, 19]"
      ]
     },
     "execution_count": 29,
     "metadata": {},
     "output_type": "execute_result"
    }
   ],
   "source": [
    "list(range(1,20,2))"
   ]
  },
  {
   "cell_type": "code",
   "execution_count": 30,
   "id": "f655a80d-8779-4a73-9e79-c9ba8a106390",
   "metadata": {},
   "outputs": [
    {
     "data": {
      "text/plain": [
       "[0, 2, 4, 6, 8, 10, 12, 14, 16, 18]"
      ]
     },
     "execution_count": 30,
     "metadata": {},
     "output_type": "execute_result"
    }
   ],
   "source": [
    "list(range(0,20,2))"
   ]
  },
  {
   "cell_type": "markdown",
   "id": "2e123269-6817-4440-af87-fe2fa95c1504",
   "metadata": {},
   "source": [
    "### practice"
   ]
  },
  {
   "cell_type": "code",
   "execution_count": 31,
   "id": "c818703f-530f-44b2-9341-7b3bc692721a",
   "metadata": {},
   "outputs": [
    {
     "data": {
      "text/plain": [
       "[1, 2, [3, 4], [5, [100, 200, ['Iran']], 23, 11], 1, 7]"
      ]
     },
     "execution_count": 31,
     "metadata": {},
     "output_type": "execute_result"
    }
   ],
   "source": [
    "li1 = [1,2,[3,4],[5,[100,200,['Iran']],23,11],1,7]\n",
    "li1"
   ]
  },
  {
   "cell_type": "code",
   "execution_count": 37,
   "id": "9d0c08aa-741e-40c9-b5cf-39ee9a8b876f",
   "metadata": {},
   "outputs": [
    {
     "data": {
      "text/plain": [
       "'Iran'"
      ]
     },
     "execution_count": 37,
     "metadata": {},
     "output_type": "execute_result"
    }
   ],
   "source": [
    "li1[3][1][-1][0]"
   ]
  },
  {
   "cell_type": "code",
   "execution_count": 34,
   "id": "a21f6222-1908-47ac-a93d-5c77b9cfbac6",
   "metadata": {},
   "outputs": [
    {
     "data": {
      "text/plain": [
       "[1, 5, ['a', 'b', 'c'], 14, 15, 16, [1, 2, 3, 'goodbye']]"
      ]
     },
     "execution_count": 34,
     "metadata": {},
     "output_type": "execute_result"
    }
   ],
   "source": [
    "l2 = [1,5,['a', 'b', 'c'],14,15,16,[1,2,3, 'goodbye']]\n",
    "l2"
   ]
  },
  {
   "cell_type": "code",
   "execution_count": 39,
   "id": "f014cf70-38a9-45b4-851c-6234502c82c9",
   "metadata": {},
   "outputs": [
    {
     "data": {
      "text/plain": [
       "'goodbye'"
      ]
     },
     "execution_count": 39,
     "metadata": {},
     "output_type": "execute_result"
    }
   ],
   "source": [
    "l2[-1][-1]"
   ]
  },
  {
   "cell_type": "markdown",
   "id": "5e8e5d9f-29e9-4d7a-9de7-8b8fb9fb6689",
   "metadata": {},
   "source": [
    "## Dictionary"
   ]
  },
  {
   "cell_type": "code",
   "execution_count": 40,
   "id": "170450a7-756c-403b-9288-48ce3ddda51e",
   "metadata": {},
   "outputs": [],
   "source": [
    "# key : value\n",
    "# ID : 78556676\n",
    "# 'age' : 34"
   ]
  },
  {
   "cell_type": "code",
   "execution_count": 41,
   "id": "4e03f7bd-cb24-4c86-b092-0f62a6b43624",
   "metadata": {},
   "outputs": [
    {
     "data": {
      "text/plain": [
       "{'brand': 'toyota', 'model': 'corolla', 'year': 2022}"
      ]
     },
     "execution_count": 41,
     "metadata": {},
     "output_type": "execute_result"
    }
   ],
   "source": [
    "my_dict = {'brand' : 'toyota', 'model' : 'corolla', 'year' : 2022}\n",
    "my_dict"
   ]
  },
  {
   "cell_type": "code",
   "execution_count": 44,
   "id": "78c9ec01-a69f-4499-91ed-6e86ceb3a014",
   "metadata": {},
   "outputs": [
    {
     "data": {
      "text/plain": [
       "{'name': 'tom', 'age': 26, 'gender': 'male', 'tel': 34355565}"
      ]
     },
     "execution_count": 44,
     "metadata": {},
     "output_type": "execute_result"
    }
   ],
   "source": [
    "dict1 = my_dict\n",
    "dict1"
   ]
  },
  {
   "cell_type": "code",
   "execution_count": 45,
   "id": "8d950081-2132-4de9-9adf-993b2399b392",
   "metadata": {},
   "outputs": [
    {
     "data": {
      "text/plain": [
       "26"
      ]
     },
     "execution_count": 45,
     "metadata": {},
     "output_type": "execute_result"
    }
   ],
   "source": [
    "dict1['age']"
   ]
  },
  {
   "cell_type": "code",
   "execution_count": 46,
   "id": "7077620d-2e98-4cea-ba64-8f5971737402",
   "metadata": {},
   "outputs": [
    {
     "data": {
      "text/plain": [
       "[{'brand': 'toyota', 'model': 'corolla', 'year': 2022},\n",
       " {'brand': 'honda', 'model': 'civic', 'year': 2019}]"
      ]
     },
     "execution_count": 46,
     "metadata": {},
     "output_type": "execute_result"
    }
   ],
   "source": [
    "listt = [{'brand': 'toyota', 'model': 'corolla', 'year': 2022}, {'brand': 'honda', 'model': 'civic', 'year': 2019}]\n",
    "listt"
   ]
  },
  {
   "cell_type": "code",
   "execution_count": 47,
   "id": "9c7410e7-2ddd-4fa7-9997-25b5303afbfa",
   "metadata": {},
   "outputs": [
    {
     "data": {
      "text/plain": [
       "'civic'"
      ]
     },
     "execution_count": 47,
     "metadata": {},
     "output_type": "execute_result"
    }
   ],
   "source": [
    "listt[1]['model']"
   ]
  },
  {
   "cell_type": "code",
   "execution_count": 48,
   "id": "c8887983-5272-44e6-8167-129155c46148",
   "metadata": {},
   "outputs": [
    {
     "data": {
      "text/plain": [
       "'toyota'"
      ]
     },
     "execution_count": 48,
     "metadata": {},
     "output_type": "execute_result"
    }
   ],
   "source": [
    "listt[0]['brand']"
   ]
  },
  {
   "cell_type": "markdown",
   "id": "0d708165-e0c0-4b04-8331-16245e190497",
   "metadata": {},
   "source": [
    "##### Adding data"
   ]
  },
  {
   "cell_type": "code",
   "execution_count": 49,
   "id": "bf07687a-d837-4b0c-b36b-841e4e2fe64e",
   "metadata": {},
   "outputs": [
    {
     "data": {
      "text/plain": [
       "{'name': 'tom',\n",
       " 'age': 26,\n",
       " 'gender': 'male',\n",
       " 'tel': 34355565,\n",
       " 'last name': 'sobb'}"
      ]
     },
     "execution_count": 49,
     "metadata": {},
     "output_type": "execute_result"
    }
   ],
   "source": [
    "li = {'name': 'tom', 'age': 26, 'gender': 'male', 'tel': 34355565}\n",
    "li['last name'] = 'sobb'\n",
    "li"
   ]
  },
  {
   "cell_type": "code",
   "execution_count": 50,
   "id": "b4290da7-fc4c-4c10-bf75-fa932f686466",
   "metadata": {},
   "outputs": [
    {
     "data": {
      "text/plain": [
       "{'key1': [{'key2': ['h1', ['AI land']]}]}"
      ]
     },
     "execution_count": 50,
     "metadata": {},
     "output_type": "execute_result"
    }
   ],
   "source": [
    "lid = {'key1' : [{'key2':['h1',['AI land']]}]}\n",
    "lid"
   ]
  },
  {
   "cell_type": "code",
   "execution_count": 62,
   "id": "bfa4b3f7-ebf8-45c5-adce-5be161442dc6",
   "metadata": {},
   "outputs": [
    {
     "data": {
      "text/plain": [
       "'AI land'"
      ]
     },
     "execution_count": 62,
     "metadata": {},
     "output_type": "execute_result"
    }
   ],
   "source": [
    "lid['key1'][-1]['key2'][-1][0]"
   ]
  },
  {
   "cell_type": "code",
   "execution_count": 63,
   "id": "9ed389ce-9995-4d89-85a4-20edd0d850b2",
   "metadata": {},
   "outputs": [
    {
     "data": {
      "text/plain": [
       "{'k1': [1, 2, {'k2': ['python', {'programming': [1, 2, ['hello']]}]}]}"
      ]
     },
     "execution_count": 63,
     "metadata": {},
     "output_type": "execute_result"
    }
   ],
   "source": [
    "d1 = {'k1':[1,2,{'k2':['python', {'programming':[1,2,['hello']]}]}]}\n",
    "d1"
   ]
  },
  {
   "cell_type": "code",
   "execution_count": 65,
   "id": "5a55de17-4f99-442c-b86a-e06dfce0a907",
   "metadata": {},
   "outputs": [
    {
     "data": {
      "text/plain": [
       "'hello'"
      ]
     },
     "execution_count": 65,
     "metadata": {},
     "output_type": "execute_result"
    }
   ],
   "source": [
    "d1['k1'][-1]['k2'][-1]['programming'][-1][0]"
   ]
  },
  {
   "cell_type": "markdown",
   "id": "021e01da-6b2d-4195-ae6d-be732ca935e5",
   "metadata": {},
   "source": [
    "##### clear"
   ]
  },
  {
   "cell_type": "code",
   "execution_count": 66,
   "id": "8688ecf5-8267-4528-89ee-c97df9dc469d",
   "metadata": {},
   "outputs": [],
   "source": [
    "e = {'name': 'ghg', 'age': 26, 'gender': 'male', 'tel': 355565}\n",
    "e.clear()"
   ]
  },
  {
   "cell_type": "code",
   "execution_count": 67,
   "id": "32060cd4-4b69-4971-84b7-1e6212655978",
   "metadata": {},
   "outputs": [
    {
     "data": {
      "text/plain": [
       "{}"
      ]
     },
     "execution_count": 67,
     "metadata": {},
     "output_type": "execute_result"
    }
   ],
   "source": [
    "e"
   ]
  },
  {
   "cell_type": "markdown",
   "id": "e9ed0a9a-a4b6-4243-bb02-fbc60141ce86",
   "metadata": {},
   "source": [
    "##### pop"
   ]
  },
  {
   "cell_type": "code",
   "execution_count": 68,
   "id": "b3e18c73-e5b8-4796-b450-7e213fc4e58f",
   "metadata": {},
   "outputs": [
    {
     "data": {
      "text/plain": [
       "355565"
      ]
     },
     "execution_count": 68,
     "metadata": {},
     "output_type": "execute_result"
    }
   ],
   "source": [
    "y = {'name': 'ghg', 'age': 26, 'gender': 'male', 'tel': 355565}\n",
    "y.pop('tel')"
   ]
  },
  {
   "cell_type": "code",
   "execution_count": 69,
   "id": "ebc7138d-968e-4979-9cac-5b4d25c51c17",
   "metadata": {},
   "outputs": [
    {
     "data": {
      "text/plain": [
       "{'name': 'ghg', 'age': 26, 'gender': 'male'}"
      ]
     },
     "execution_count": 69,
     "metadata": {},
     "output_type": "execute_result"
    }
   ],
   "source": [
    "y"
   ]
  },
  {
   "cell_type": "markdown",
   "id": "e317dd5b-05be-45b6-a4a1-9636e05bc87c",
   "metadata": {},
   "source": [
    "##### del"
   ]
  },
  {
   "cell_type": "code",
   "execution_count": 70,
   "id": "af317037-3786-4956-b3a0-f2e1bf72bfa6",
   "metadata": {},
   "outputs": [
    {
     "data": {
      "text/plain": [
       "{'name': 'ghg', 'age': 26, 'tel': 355565}"
      ]
     },
     "execution_count": 70,
     "metadata": {},
     "output_type": "execute_result"
    }
   ],
   "source": [
    "n = {'name': 'ghg', 'age': 26, 'gender': 'male', 'tel': 355565}\n",
    "del n['gender']\n",
    "n"
   ]
  },
  {
   "cell_type": "code",
   "execution_count": 71,
   "id": "0f45aa4b-2563-4c20-a036-6c5fe95013c9",
   "metadata": {},
   "outputs": [
    {
     "data": {
      "text/plain": [
       "dict_keys(['name', 'age', 'gender', 'tel'])"
      ]
     },
     "execution_count": 71,
     "metadata": {},
     "output_type": "execute_result"
    }
   ],
   "source": [
    "f = {'name': 'ghg', 'age': 26, 'gender': 'male', 'tel': 355565}\n",
    "f.keys()"
   ]
  },
  {
   "cell_type": "code",
   "execution_count": 73,
   "id": "f65b9073-5943-4445-9952-3777fc7d89a5",
   "metadata": {},
   "outputs": [
    {
     "data": {
      "text/plain": [
       "dict_values(['ghg', 26, 'male', 355565])"
      ]
     },
     "execution_count": 73,
     "metadata": {},
     "output_type": "execute_result"
    }
   ],
   "source": [
    "f = {'name': 'ghg', 'age': 26, 'gender': 'male', 'tel': 355565}\n",
    "f.values()"
   ]
  },
  {
   "cell_type": "markdown",
   "id": "ade04a83-a1f6-45ea-9dc0-cafa7e7d3c04",
   "metadata": {},
   "source": [
    "#### accessing on dictionary"
   ]
  },
  {
   "cell_type": "code",
   "execution_count": 74,
   "id": "da241363-2cac-4e41-88a1-702cf0fa2f4a",
   "metadata": {},
   "outputs": [
    {
     "data": {
      "text/plain": [
       "{'class': {'student': {'name': 'john',\n",
       "   'marks': {'physics': 19, 'history': 10}}}}"
      ]
     },
     "execution_count": 74,
     "metadata": {},
     "output_type": "execute_result"
    }
   ],
   "source": [
    "d = {'class' : {'student': {'name': 'john', 'marks': {'physics':19, 'history': 10}}}}\n",
    "d"
   ]
  },
  {
   "cell_type": "code",
   "execution_count": 79,
   "id": "605f6eec-c061-4579-9779-5743874a0c0d",
   "metadata": {},
   "outputs": [
    {
     "data": {
      "text/plain": [
       "{'student': {'name': 'john', 'marks': {'physics': 19, 'history': 10}}}"
      ]
     },
     "execution_count": 79,
     "metadata": {},
     "output_type": "execute_result"
    }
   ],
   "source": [
    "d['class']"
   ]
  },
  {
   "cell_type": "code",
   "execution_count": 80,
   "id": "6bedd802-a10d-470b-b063-78252b2f9cc3",
   "metadata": {},
   "outputs": [
    {
     "data": {
      "text/plain": [
       "{'name': 'john', 'marks': {'physics': 19, 'history': 10}}"
      ]
     },
     "execution_count": 80,
     "metadata": {},
     "output_type": "execute_result"
    }
   ],
   "source": [
    "d['class']['student']"
   ]
  },
  {
   "cell_type": "code",
   "execution_count": 84,
   "id": "e9941717-d108-43a8-b767-9e04b109e397",
   "metadata": {},
   "outputs": [
    {
     "data": {
      "text/plain": [
       "10"
      ]
     },
     "execution_count": 84,
     "metadata": {},
     "output_type": "execute_result"
    }
   ],
   "source": [
    "d['class']['student']['marks']['history']"
   ]
  },
  {
   "cell_type": "markdown",
   "id": "96c7e382-823d-4c03-aad2-917d5ccf4b08",
   "metadata": {},
   "source": [
    "### edit"
   ]
  },
  {
   "cell_type": "code",
   "execution_count": 86,
   "id": "d4eb8182-6e1c-4c66-b4b6-5f72bd60a3cf",
   "metadata": {},
   "outputs": [
    {
     "data": {
      "text/plain": [
       "{'name': 'ghg', 'age': 26, 'gender': 'male', 'telefon': 355565}"
      ]
     },
     "execution_count": 86,
     "metadata": {},
     "output_type": "execute_result"
    }
   ],
   "source": [
    "f = {'name': 'ghg', 'age': 26, 'gender': 'male', 'tel': 355565}\n",
    "f['telefon'] = f['tel']\n",
    "del f['tel']\n",
    "f"
   ]
  },
  {
   "cell_type": "code",
   "execution_count": 87,
   "id": "171f64df-2286-498c-87b9-dfc5d7b19691",
   "metadata": {},
   "outputs": [
    {
     "data": {
      "text/plain": [
       "{'name': 'ghg', 'age': 26, 'gender': 'male', 'telefon': 355565}"
      ]
     },
     "execution_count": 87,
     "metadata": {},
     "output_type": "execute_result"
    }
   ],
   "source": [
    "t = {'name': 'ghg', 'age': 26, 'gender': 'male', 'tel': 355565}\n",
    "t['telefon'] = t.pop('tel')\n",
    "t"
   ]
  },
  {
   "cell_type": "markdown",
   "id": "1deecc67-4f4f-4249-a198-b1e28c4974a8",
   "metadata": {},
   "source": [
    "### Output"
   ]
  },
  {
   "cell_type": "code",
   "execution_count": null,
   "id": "5a194166-6f43-4091-9f8a-d16200b7d897",
   "metadata": {},
   "outputs": [],
   "source": [
    "dict33 = {\n",
    "    'emp1': {'name': 'ana', 'salary': 75000},\n",
    "    'emp2': {'name': 'tom', 'salary': 5000}\n",
    "    }\n",
    "#Output: {'emp1': {'name': 'ana', 'salary': 75000}, {'emp1': {'name': 'ali', 'salary': 6000}"
   ]
  },
  {
   "cell_type": "code",
   "execution_count": 95,
   "id": "bca9aff4-c6df-4ddb-a278-2b5562af3bc8",
   "metadata": {},
   "outputs": [],
   "source": [
    "dict33 = {\n",
    "    'emp1': {'name': 'ana', 'salary': 75000},\n",
    "    'emp2': {'name': 'tom', 'salary': 5000}\n",
    "}\n",
    "\n",
    "# Update salary for 'emp1' to 6000\n",
    "dict33['emp1']['salary'] = 6000"
   ]
  },
  {
   "cell_type": "markdown",
   "id": "763f5246-41f3-4218-9409-5ebc3c403f82",
   "metadata": {},
   "source": [
    "## Merged Dictionary"
   ]
  },
  {
   "cell_type": "code",
   "execution_count": 96,
   "id": "bef63e61-fcaa-4e8c-9f50-b566865c0f29",
   "metadata": {},
   "outputs": [
    {
     "data": {
      "text/plain": [
       "{'Ten': 10, 'Twenty': 20, 'Thirty': 30, 'Forty': 40, 'Fifty': 50}"
      ]
     },
     "execution_count": 96,
     "metadata": {},
     "output_type": "execute_result"
    }
   ],
   "source": [
    "dict1 = {'Ten': 10, 'Twenty': 20, 'Thirty': 30}\n",
    "dict2 = {'Thirty': 30, 'Forty': 40, 'Fifty': 50} \n",
    "merged_dic = {**dict1, **dict2}\n",
    "merged_dic"
   ]
  },
  {
   "cell_type": "code",
   "execution_count": 98,
   "id": "4ae03860-0e72-4798-af60-f63a246c80bd",
   "metadata": {},
   "outputs": [
    {
     "data": {
      "text/plain": [
       "{'Ten': 10, 'Twenty': 20, 'Thirty': 30, 'Forty': 40, 'Fifty': 50}"
      ]
     },
     "execution_count": 98,
     "metadata": {},
     "output_type": "execute_result"
    }
   ],
   "source": [
    "dict1 = {'Ten': 10, 'Twenty': 20, 'Thirty': 30}\n",
    "dict2 = {'Thirty': 30, 'Forty': 40, 'Fifty': 50} \n",
    "dict1.update(dict2)\n",
    "dict1"
   ]
  },
  {
   "cell_type": "markdown",
   "id": "149d0c61-bd1a-4eb9-90ea-31ab75fad114",
   "metadata": {},
   "source": [
    "##### dic becomess a list"
   ]
  },
  {
   "cell_type": "code",
   "execution_count": 99,
   "id": "d1964ad0-1041-4b07-809a-d72d5db092e5",
   "metadata": {},
   "outputs": [
    {
     "data": {
      "text/plain": [
       "['Ten', 'Twenty', 'Thirty', 'Forty', 'Fifty']"
      ]
     },
     "execution_count": 99,
     "metadata": {},
     "output_type": "execute_result"
    }
   ],
   "source": [
    "q = {'Ten': 10, 'Twenty': 20, 'Thirty': 30, 'Forty': 40, 'Fifty': 50}\n",
    "list(q)"
   ]
  },
  {
   "cell_type": "code",
   "execution_count": 101,
   "id": "30741e89-b942-4419-bfcc-d20a33b07256",
   "metadata": {},
   "outputs": [
    {
     "data": {
      "text/plain": [
       "dict_items([('Ten', 10), ('Twenty', 20), ('Thirty', 30), ('Forty', 40), ('Fifty', 50)])"
      ]
     },
     "execution_count": 101,
     "metadata": {},
     "output_type": "execute_result"
    }
   ],
   "source": [
    "q.items()"
   ]
  },
  {
   "cell_type": "code",
   "execution_count": 102,
   "id": "9e157077-bba7-4c85-bb75-689d17f99509",
   "metadata": {},
   "outputs": [
    {
     "data": {
      "text/plain": [
       "['Fifty', 'Forty', 'Ten', 'Thirty', 'Twenty']"
      ]
     },
     "execution_count": 102,
     "metadata": {},
     "output_type": "execute_result"
    }
   ],
   "source": [
    "sorted(q)"
   ]
  },
  {
   "cell_type": "markdown",
   "id": "906b8f16-926b-429c-b0bf-d6cb17913bf0",
   "metadata": {},
   "source": [
    "# Sets"
   ]
  },
  {
   "cell_type": "code",
   "execution_count": 1,
   "id": "9878764d-ed50-4b88-aa85-9f80192767b8",
   "metadata": {},
   "outputs": [],
   "source": [
    "# in sets {} means Dictionary not set,   mys = {}\n",
    "# all Sets are non-duplicated"
   ]
  },
  {
   "cell_type": "code",
   "execution_count": 2,
   "id": "b90b1c0d-3a71-4974-9cfd-ec8d4aef4279",
   "metadata": {},
   "outputs": [
    {
     "data": {
      "text/plain": [
       "{0, 1, 2, 3, 4, 5, 6, 7, 8, 9}"
      ]
     },
     "execution_count": 2,
     "metadata": {},
     "output_type": "execute_result"
    }
   ],
   "source": [
    "mys = {1,2,3,4,5,1,2,3,4,5,6,7,8,9,0}\n",
    "mys"
   ]
  },
  {
   "cell_type": "code",
   "execution_count": 3,
   "id": "ea9bde85-b013-4bf8-bf60-f735397e8f6c",
   "metadata": {},
   "outputs": [
    {
     "ename": "TypeError",
     "evalue": "'set' object is not subscriptable",
     "output_type": "error",
     "traceback": [
      "\u001b[1;31m---------------------------------------------------------------------------\u001b[0m",
      "\u001b[1;31mTypeError\u001b[0m                                 Traceback (most recent call last)",
      "Cell \u001b[1;32mIn[3], line 1\u001b[0m\n\u001b[1;32m----> 1\u001b[0m \u001b[43mmys\u001b[49m\u001b[43m[\u001b[49m\u001b[38;5;241;43m1\u001b[39;49m\u001b[43m]\u001b[49m\n",
      "\u001b[1;31mTypeError\u001b[0m: 'set' object is not subscriptable"
     ]
    }
   ],
   "source": [
    "mys[1]"
   ]
  },
  {
   "cell_type": "code",
   "execution_count": 4,
   "id": "85fbaf26-e078-4db2-aa62-60787b2230db",
   "metadata": {},
   "outputs": [],
   "source": [
    "# in sets, indexing or slicing does not work (Unindexed), (Unsliced)"
   ]
  },
  {
   "cell_type": "code",
   "execution_count": 5,
   "id": "880d96ff-1733-40c9-bdf2-2e9e96faf258",
   "metadata": {},
   "outputs": [],
   "source": [
    "# all sets are immutable, there is no edition for charactors, but we can add a new one."
   ]
  },
  {
   "cell_type": "code",
   "execution_count": 8,
   "id": "8d480f07-b23f-4561-ab91-eb2fdda12b41",
   "metadata": {},
   "outputs": [
    {
     "data": {
      "text/plain": [
       "{'a', 'b', 'c', 'd', 'e', 'f'}"
      ]
     },
     "execution_count": 8,
     "metadata": {},
     "output_type": "execute_result"
    }
   ],
   "source": [
    "myse = {'a','b','c','d','e','f'}\n",
    "myse"
   ]
  },
  {
   "cell_type": "markdown",
   "id": "e0df6ea9-f48b-46ef-8751-eedd8a5c462c",
   "metadata": {},
   "source": [
    "##### Add"
   ]
  },
  {
   "cell_type": "code",
   "execution_count": 9,
   "id": "ce74f9e8-7a43-406f-815c-e4b2b47be6db",
   "metadata": {},
   "outputs": [
    {
     "data": {
      "text/plain": [
       "{'a', 'b', 'c', 'd', 'e', 'f', 'j'}"
      ]
     },
     "execution_count": 9,
     "metadata": {},
     "output_type": "execute_result"
    }
   ],
   "source": [
    "myse.add('j')\n",
    "myse"
   ]
  },
  {
   "cell_type": "markdown",
   "id": "5ec7e7dd-22fc-4c1a-ad34-460e1f960d54",
   "metadata": {},
   "source": [
    "##### Remove"
   ]
  },
  {
   "cell_type": "code",
   "execution_count": 10,
   "id": "25c4b183-39c1-45da-b091-6bfcc21ea412",
   "metadata": {},
   "outputs": [
    {
     "data": {
      "text/plain": [
       "{'a', 'b', 'c', 'd', 'e', 'f'}"
      ]
     },
     "execution_count": 10,
     "metadata": {},
     "output_type": "execute_result"
    }
   ],
   "source": [
    "myse.remove('j')\n",
    "myse"
   ]
  },
  {
   "cell_type": "markdown",
   "id": "4430e298-0e51-452a-9912-86f53ba8dcdb",
   "metadata": {},
   "source": [
    "##### Intersection(A /\\ B), Difference(A \\ B), Union(A \\\\/ B), Symmetric Difference(A delta B)"
   ]
  },
  {
   "cell_type": "code",
   "execution_count": 11,
   "id": "a82cbdf1-26ac-4cd7-a4f5-6cfb9d87a1a0",
   "metadata": {},
   "outputs": [],
   "source": [
    "A = {1,2,3,4,5}\n",
    "B = {1,2,3}"
   ]
  },
  {
   "cell_type": "code",
   "execution_count": 12,
   "id": "5ecc58ca-cdfe-4992-b608-b53228c12871",
   "metadata": {},
   "outputs": [
    {
     "data": {
      "text/plain": [
       "{4, 5}"
      ]
     },
     "execution_count": 12,
     "metadata": {},
     "output_type": "execute_result"
    }
   ],
   "source": [
    "# we can code A.difference(B)\n",
    "A - B"
   ]
  },
  {
   "cell_type": "code",
   "execution_count": 13,
   "id": "ace98d13-3e03-4817-819d-6a410b684cca",
   "metadata": {},
   "outputs": [
    {
     "ename": "TypeError",
     "evalue": "unsupported operand type(s) for +: 'set' and 'set'",
     "output_type": "error",
     "traceback": [
      "\u001b[1;31m---------------------------------------------------------------------------\u001b[0m",
      "\u001b[1;31mTypeError\u001b[0m                                 Traceback (most recent call last)",
      "Cell \u001b[1;32mIn[13], line 1\u001b[0m\n\u001b[1;32m----> 1\u001b[0m \u001b[43mA\u001b[49m\u001b[43m \u001b[49m\u001b[38;5;241;43m+\u001b[39;49m\u001b[43m \u001b[49m\u001b[43mB\u001b[49m\n",
      "\u001b[1;31mTypeError\u001b[0m: unsupported operand type(s) for +: 'set' and 'set'"
     ]
    }
   ],
   "source": [
    "A + B"
   ]
  },
  {
   "cell_type": "code",
   "execution_count": 14,
   "id": "b336808f-c048-40a4-977d-ea3e9994d159",
   "metadata": {},
   "outputs": [
    {
     "data": {
      "text/plain": [
       "{1, 2, 3, 4, 5}"
      ]
     },
     "execution_count": 14,
     "metadata": {},
     "output_type": "execute_result"
    }
   ],
   "source": [
    "A.union(B)"
   ]
  },
  {
   "cell_type": "code",
   "execution_count": 16,
   "id": "f27b5a6e-64ec-443f-9414-375895bf9c39",
   "metadata": {},
   "outputs": [
    {
     "data": {
      "text/plain": [
       "{1, 2, 3}"
      ]
     },
     "execution_count": 16,
     "metadata": {},
     "output_type": "execute_result"
    }
   ],
   "source": [
    "# A.intersection(B) but is better to code:\n",
    "A & B"
   ]
  },
  {
   "cell_type": "code",
   "execution_count": null,
   "id": "0c784a90-b63d-4f93-988b-f49a12e7ccff",
   "metadata": {},
   "outputs": [],
   "source": [
    "# Practice: (A & B), (A - B), (A delta B)?"
   ]
  },
  {
   "cell_type": "code",
   "execution_count": 17,
   "id": "6fe3782a-da46-48a8-a407-f853b23b6320",
   "metadata": {},
   "outputs": [],
   "source": [
    "A = {'a', 'b', 'c', 'd', 'e', 'f'}\n",
    "B = {'d', 'e', 'f', 'g', 'h', 'i'}"
   ]
  },
  {
   "cell_type": "code",
   "execution_count": 18,
   "id": "96024467-5548-44ad-998c-03773dc33f0a",
   "metadata": {},
   "outputs": [
    {
     "data": {
      "text/plain": [
       "{'d', 'e', 'f'}"
      ]
     },
     "execution_count": 18,
     "metadata": {},
     "output_type": "execute_result"
    }
   ],
   "source": [
    "# intersection \n",
    "A & B"
   ]
  },
  {
   "cell_type": "code",
   "execution_count": 20,
   "id": "6551b8d1-e6b1-4570-ac4b-75a87f835d92",
   "metadata": {},
   "outputs": [
    {
     "data": {
      "text/plain": [
       "{'a', 'b', 'c'}"
      ]
     },
     "execution_count": 20,
     "metadata": {},
     "output_type": "execute_result"
    }
   ],
   "source": [
    "A - B"
   ]
  },
  {
   "cell_type": "code",
   "execution_count": 21,
   "id": "8d0efb13-a662-43bc-811c-36acdaeb435a",
   "metadata": {},
   "outputs": [
    {
     "data": {
      "text/plain": [
       "{'a', 'b', 'c', 'g', 'h', 'i'}"
      ]
     },
     "execution_count": 21,
     "metadata": {},
     "output_type": "execute_result"
    }
   ],
   "source": [
    "# delta\n",
    "A.union(B) - A.intersection(B)"
   ]
  },
  {
   "cell_type": "code",
   "execution_count": 22,
   "id": "c5c1d08e-214f-4235-8275-d66e228de023",
   "metadata": {},
   "outputs": [
    {
     "data": {
      "text/plain": [
       "{'a', 'b', 'c', 'g', 'h', 'i'}"
      ]
     },
     "execution_count": 22,
     "metadata": {},
     "output_type": "execute_result"
    }
   ],
   "source": [
    "# or\n",
    "A ^ B"
   ]
  },
  {
   "cell_type": "code",
   "execution_count": null,
   "id": "6da3f667-2258-4bba-a3a3-9e5ffb57d32f",
   "metadata": {},
   "outputs": [],
   "source": [
    "# practice:"
   ]
  },
  {
   "cell_type": "code",
   "execution_count": 26,
   "id": "9bee5c9e-ae13-4fee-8110-29b8237f43e0",
   "metadata": {},
   "outputs": [],
   "source": [
    "s1 = {10,20,30,40,50}\n",
    "s2 = {30,40,50,60,70}\n",
    "# Output 40,50,30 ?"
   ]
  },
  {
   "cell_type": "code",
   "execution_count": 28,
   "id": "03f7e10f-05a9-4342-b19c-8a133649e2e9",
   "metadata": {},
   "outputs": [
    {
     "data": {
      "text/plain": [
       "{30, 40, 50}"
      ]
     },
     "execution_count": 28,
     "metadata": {},
     "output_type": "execute_result"
    }
   ],
   "source": [
    "s1 & s2"
   ]
  },
  {
   "cell_type": "code",
   "execution_count": 29,
   "id": "1946588f-ffcb-4e4c-8c9c-46533a800353",
   "metadata": {},
   "outputs": [
    {
     "data": {
      "text/plain": [
       "{'A', 'B', 'D', 'G', 'H', 'J', 'S'}"
      ]
     },
     "execution_count": 29,
     "metadata": {},
     "output_type": "execute_result"
    }
   ],
   "source": [
    "# in Set repeated elements are removed.\n",
    "set('ABSSSSSDDDGGGGHHHJ')"
   ]
  },
  {
   "cell_type": "code",
   "execution_count": 31,
   "id": "a46a24a0-9f72-4cf5-8c1a-36ae9b3c07d8",
   "metadata": {},
   "outputs": [
    {
     "data": {
      "text/plain": [
       "['A', 'B', 'S', 'S', 'S', 'D', 'G', 'G', 'H', 'H', 'H', 'J']"
      ]
     },
     "execution_count": 31,
     "metadata": {},
     "output_type": "execute_result"
    }
   ],
   "source": [
    "# but in list doesn't matter.\n",
    "list('ABSSSDGGHHHJ')"
   ]
  },
  {
   "cell_type": "markdown",
   "id": "77163ad4-bf7e-4dbb-aa65-cbc942b2275e",
   "metadata": {},
   "source": [
    "##### Unordered"
   ]
  },
  {
   "cell_type": "code",
   "execution_count": 36,
   "id": "d93f53c7-b217-444f-98df-bcd47d116975",
   "metadata": {},
   "outputs": [
    {
     "name": "stdout",
     "output_type": "stream",
     "text": [
      "string:  abcdefghi\n",
      "list:  ['a', 'b', 'c', 'd', 'e', 'f', 'g', 'h', 'i']\n",
      "set:  {'b', 'a', 'g', 'h', 'e', 'c', 'f', 'i', 'd'}\n"
     ]
    }
   ],
   "source": [
    "letter = 'abcdefghi'\n",
    "\n",
    "print('string: ', str(letter))\n",
    "print('list: ', list(letter))\n",
    "print('set: ', set(letter))"
   ]
  },
  {
   "cell_type": "markdown",
   "id": "4a3e99a1-5976-4391-a235-1b870fd3aeef",
   "metadata": {},
   "source": [
    "# Tuples"
   ]
  },
  {
   "cell_type": "markdown",
   "id": "7c835f4f-d19c-4783-8be2-035590e9cb28",
   "metadata": {},
   "source": [
    "##### similar to List"
   ]
  },
  {
   "cell_type": "code",
   "execution_count": 2,
   "id": "12096d15-8f72-4c13-984f-4aab7406c1d7",
   "metadata": {},
   "outputs": [
    {
     "data": {
      "text/plain": [
       "()"
      ]
     },
     "execution_count": 2,
     "metadata": {},
     "output_type": "execute_result"
    }
   ],
   "source": [
    "tup = ()\n",
    "tup"
   ]
  },
  {
   "cell_type": "code",
   "execution_count": 3,
   "id": "a34df80b-654a-4ec6-81cf-8d9ec7a2cd2f",
   "metadata": {},
   "outputs": [
    {
     "data": {
      "text/plain": [
       "0"
      ]
     },
     "execution_count": 3,
     "metadata": {},
     "output_type": "execute_result"
    }
   ],
   "source": [
    "len(tup)"
   ]
  },
  {
   "cell_type": "code",
   "execution_count": 4,
   "id": "59c70078-7f7f-4bec-bbf9-e374f387558f",
   "metadata": {},
   "outputs": [
    {
     "data": {
      "text/plain": [
       "(1, 2, 3, 4, 5)"
      ]
     },
     "execution_count": 4,
     "metadata": {},
     "output_type": "execute_result"
    }
   ],
   "source": [
    "tup = (1,2,3,4,5)\n",
    "tup"
   ]
  },
  {
   "cell_type": "code",
   "execution_count": 5,
   "id": "7a394061-3fa7-4486-9d85-ebd1a1ce6805",
   "metadata": {},
   "outputs": [
    {
     "data": {
      "text/plain": [
       "('alo', 'reza', 232, 656)"
      ]
     },
     "execution_count": 5,
     "metadata": {},
     "output_type": "execute_result"
    }
   ],
   "source": [
    "tup = ('alo', 'reza', 232, 656)\n",
    "tup"
   ]
  },
  {
   "cell_type": "code",
   "execution_count": 6,
   "id": "7f299f3e-c89d-4d29-8cad-1d8196c61a28",
   "metadata": {},
   "outputs": [
    {
     "data": {
      "text/plain": [
       "('a', 's', 'f')"
      ]
     },
     "execution_count": 6,
     "metadata": {},
     "output_type": "execute_result"
    }
   ],
   "source": [
    "tup = 'a', 's', 'f'\n",
    "tup"
   ]
  },
  {
   "cell_type": "code",
   "execution_count": 7,
   "id": "71fe8e11-1c6d-43f8-8c05-239da0638c17",
   "metadata": {},
   "outputs": [
    {
     "data": {
      "text/plain": [
       "tuple"
      ]
     },
     "execution_count": 7,
     "metadata": {},
     "output_type": "execute_result"
    }
   ],
   "source": [
    "type(tup)"
   ]
  },
  {
   "cell_type": "markdown",
   "id": "a42e4b8a-b848-46b8-a0fa-f0a5c6b9f3e8",
   "metadata": {},
   "source": [
    "#### in Tuples indexing and slicing can work"
   ]
  },
  {
   "cell_type": "code",
   "execution_count": 8,
   "id": "d4e7d205-4200-4423-bd05-a0c7fb3f42a2",
   "metadata": {},
   "outputs": [
    {
     "data": {
      "text/plain": [
       "'alo'"
      ]
     },
     "execution_count": 8,
     "metadata": {},
     "output_type": "execute_result"
    }
   ],
   "source": [
    "tup = ('alo', 'reza', 232, 656)\n",
    "tup[0]"
   ]
  },
  {
   "cell_type": "code",
   "execution_count": 9,
   "id": "44bcf95b-c2d5-4b33-928f-cd9d01fe74b8",
   "metadata": {},
   "outputs": [
    {
     "data": {
      "text/plain": [
       "(232, 656)"
      ]
     },
     "execution_count": 9,
     "metadata": {},
     "output_type": "execute_result"
    }
   ],
   "source": [
    "tup[2:]"
   ]
  },
  {
   "cell_type": "markdown",
   "id": "9646637c-eb93-403b-ba01-183434f038d2",
   "metadata": {},
   "source": [
    "#### Tuples are as same as Lists but Tuples are Immutable while Lists are mutable"
   ]
  },
  {
   "cell_type": "code",
   "execution_count": 10,
   "id": "69a66f6b-8c34-4a5f-bb02-b9d356e25c27",
   "metadata": {},
   "outputs": [
    {
     "ename": "TypeError",
     "evalue": "'tuple' object does not support item assignment",
     "output_type": "error",
     "traceback": [
      "\u001b[1;31m---------------------------------------------------------------------------\u001b[0m",
      "\u001b[1;31mTypeError\u001b[0m                                 Traceback (most recent call last)",
      "Cell \u001b[1;32mIn[10], line 2\u001b[0m\n\u001b[0;32m      1\u001b[0m tup \u001b[38;5;241m=\u001b[39m (\u001b[38;5;124m'\u001b[39m\u001b[38;5;124malo\u001b[39m\u001b[38;5;124m'\u001b[39m, \u001b[38;5;124m'\u001b[39m\u001b[38;5;124mreza\u001b[39m\u001b[38;5;124m'\u001b[39m, \u001b[38;5;241m232\u001b[39m, \u001b[38;5;241m656\u001b[39m)\n\u001b[1;32m----> 2\u001b[0m \u001b[43mtup\u001b[49m\u001b[43m[\u001b[49m\u001b[38;5;241;43m2\u001b[39;49m\u001b[43m]\u001b[49m \u001b[38;5;241m=\u001b[39m \u001b[38;5;124m'\u001b[39m\u001b[38;5;124malavi\u001b[39m\u001b[38;5;124m'\u001b[39m\n",
      "\u001b[1;31mTypeError\u001b[0m: 'tuple' object does not support item assignment"
     ]
    }
   ],
   "source": [
    "tup = ('alo', 'reza', 232, 656)\n",
    "tup[2] = 'alavi'"
   ]
  },
  {
   "cell_type": "markdown",
   "id": "4e7031f8-8e39-416b-b58a-ea7af800ea0d",
   "metadata": {},
   "source": [
    "#### Tuples save literaly smaller than LIST in RAM "
   ]
  },
  {
   "cell_type": "code",
   "execution_count": 11,
   "id": "986df216-c3ef-4e64-9158-f3d041301da8",
   "metadata": {},
   "outputs": [
    {
     "name": "stdout",
     "output_type": "stream",
     "text": [
      "the list size: 120 bytes\n",
      "the list size: 96 bytes\n"
     ]
    }
   ],
   "source": [
    "import sys\n",
    "a_list = ['abc', 'xyz', 123, 231, 13, 31, 0.1312]\n",
    "a_tuple = ('abc', 'xyz', 123, 231, 13, 31, 0.1312)\n",
    "print('the list size:', sys.getsizeof(a_list), 'bytes')\n",
    "print('the list size:', sys.getsizeof(a_tuple), 'bytes')"
   ]
  },
  {
   "cell_type": "code",
   "execution_count": 12,
   "id": "bf98e23a-0181-46a2-8cc5-9d27513f5fac",
   "metadata": {},
   "outputs": [
    {
     "data": {
      "text/plain": [
       "(10, 9, 8, 7, 6, 5, 4, 3, 2, 1, 0)"
      ]
     },
     "execution_count": 12,
     "metadata": {},
     "output_type": "execute_result"
    }
   ],
   "source": [
    "tup = (0,1,2,3,4,5,6,7,8,9,10)\n",
    "tup[::-1]"
   ]
  },
  {
   "cell_type": "code",
   "execution_count": 13,
   "id": "678d931a-229e-4bab-95c5-a3840a5922da",
   "metadata": {},
   "outputs": [
    {
     "data": {
      "text/plain": [
       "(0, 2, 4, 6, 8, 10)"
      ]
     },
     "execution_count": 13,
     "metadata": {},
     "output_type": "execute_result"
    }
   ],
   "source": [
    "tup[::2]"
   ]
  },
  {
   "cell_type": "code",
   "execution_count": 14,
   "id": "0b18ba24-ef53-4d82-aa56-e7181ab40735",
   "metadata": {},
   "outputs": [
    {
     "data": {
      "text/plain": [
       "(1, 3, 5, 7, 9)"
      ]
     },
     "execution_count": 14,
     "metadata": {},
     "output_type": "execute_result"
    }
   ],
   "source": [
    "tup[1::2]"
   ]
  },
  {
   "cell_type": "markdown",
   "id": "ec6e5e15-cd8c-42d5-9cf5-33352d24463e",
   "metadata": {},
   "source": [
    "### Method count"
   ]
  },
  {
   "cell_type": "code",
   "execution_count": 15,
   "id": "9ec7d73f-5035-4449-9cdf-5e24005eb7b9",
   "metadata": {},
   "outputs": [
    {
     "data": {
      "text/plain": [
       "3"
      ]
     },
     "execution_count": 15,
     "metadata": {},
     "output_type": "execute_result"
    }
   ],
   "source": [
    "tup = (0,1,2,3,4,4,4,5,6,7,8,9,10)\n",
    "tup.count(4)"
   ]
  },
  {
   "cell_type": "markdown",
   "id": "bf10ab72-390a-422b-bef6-df34fc711bf9",
   "metadata": {},
   "source": [
    "### Method index"
   ]
  },
  {
   "cell_type": "code",
   "execution_count": 17,
   "id": "d6477631-3360-44e9-8ed8-a8bcd442fd4c",
   "metadata": {},
   "outputs": [
    {
     "data": {
      "text/plain": [
       "12"
      ]
     },
     "execution_count": 17,
     "metadata": {},
     "output_type": "execute_result"
    }
   ],
   "source": [
    "tup = (0,1,2,3,4,4,4,5,6,7,8,9,10)\n",
    "tup.index(10)"
   ]
  },
  {
   "cell_type": "markdown",
   "id": "88c9b611-c5bd-4480-9dbe-44c92c9c8ced",
   "metadata": {},
   "source": [
    "### How do lists become to tuples"
   ]
  },
  {
   "cell_type": "code",
   "execution_count": 20,
   "id": "e852bb69-6a68-4c3a-aa03-b445bd90640c",
   "metadata": {},
   "outputs": [
    {
     "data": {
      "text/plain": [
       "['ali', 'reza', 215, 648]"
      ]
     },
     "execution_count": 20,
     "metadata": {},
     "output_type": "execute_result"
    }
   ],
   "source": [
    "lis = ['ali', 'reza', 215, 648]\n",
    "lis"
   ]
  },
  {
   "cell_type": "code",
   "execution_count": 22,
   "id": "2c9a380a-9291-425f-8431-77e85128d5e2",
   "metadata": {},
   "outputs": [
    {
     "data": {
      "text/plain": [
       "list"
      ]
     },
     "execution_count": 22,
     "metadata": {},
     "output_type": "execute_result"
    }
   ],
   "source": [
    "type(lis)"
   ]
  },
  {
   "cell_type": "code",
   "execution_count": 21,
   "id": "c980592d-762f-4d6e-bc4e-3f723b9145bd",
   "metadata": {},
   "outputs": [
    {
     "data": {
      "text/plain": [
       "('ali', 'reza', 215, 648)"
      ]
     },
     "execution_count": 21,
     "metadata": {},
     "output_type": "execute_result"
    }
   ],
   "source": [
    "tp = tuple(lis)\n",
    "tp"
   ]
  },
  {
   "cell_type": "code",
   "execution_count": 23,
   "id": "c1803812-cd61-4568-bf7a-685a3628fc68",
   "metadata": {},
   "outputs": [
    {
     "data": {
      "text/plain": [
       "tuple"
      ]
     },
     "execution_count": 23,
     "metadata": {},
     "output_type": "execute_result"
    }
   ],
   "source": [
    "type(tp)"
   ]
  },
  {
   "cell_type": "markdown",
   "id": "8244973c-c0ba-495a-b3e0-d267b1cdc896",
   "metadata": {},
   "source": [
    "### del"
   ]
  },
  {
   "cell_type": "code",
   "execution_count": 26,
   "id": "5d223ce8-e487-4687-983c-18fe5d8e82ad",
   "metadata": {},
   "outputs": [
    {
     "data": {
      "text/plain": [
       "(1, 2, 3, 4)"
      ]
     },
     "execution_count": 26,
     "metadata": {},
     "output_type": "execute_result"
    }
   ],
   "source": [
    "tup1 = (1,2,3,4)\n",
    "tup1"
   ]
  },
  {
   "cell_type": "code",
   "execution_count": 27,
   "id": "fe4be380-6a7f-4ba7-aadb-6b4ac3b623a7",
   "metadata": {},
   "outputs": [
    {
     "ename": "NameError",
     "evalue": "name 'tup1' is not defined",
     "output_type": "error",
     "traceback": [
      "\u001b[1;31m---------------------------------------------------------------------------\u001b[0m",
      "\u001b[1;31mNameError\u001b[0m                                 Traceback (most recent call last)",
      "Cell \u001b[1;32mIn[27], line 2\u001b[0m\n\u001b[0;32m      1\u001b[0m \u001b[38;5;28;01mdel\u001b[39;00m tup1\n\u001b[1;32m----> 2\u001b[0m \u001b[43mtup1\u001b[49m\n",
      "\u001b[1;31mNameError\u001b[0m: name 'tup1' is not defined"
     ]
    }
   ],
   "source": [
    "del tup1\n",
    "tup1"
   ]
  },
  {
   "cell_type": "markdown",
   "id": "c157aa46-770b-48b6-8ec8-50f4330a5a4f",
   "metadata": {},
   "source": [
    "### addition and multiply is working on tuples"
   ]
  },
  {
   "cell_type": "code",
   "execution_count": 29,
   "id": "1e8431e1-6b9d-4b26-b927-2c0449ebf039",
   "metadata": {},
   "outputs": [
    {
     "data": {
      "text/plain": [
       "'drdrdrdr'"
      ]
     },
     "execution_count": 29,
     "metadata": {},
     "output_type": "execute_result"
    }
   ],
   "source": [
    "w = ('dr')\n",
    "w1 = w * 4\n",
    "w1"
   ]
  },
  {
   "cell_type": "code",
   "execution_count": 30,
   "id": "6fede691-6ad6-47ac-979f-091c994a62ac",
   "metadata": {},
   "outputs": [
    {
     "data": {
      "text/plain": [
       "'drali'"
      ]
     },
     "execution_count": 30,
     "metadata": {},
     "output_type": "execute_result"
    }
   ],
   "source": [
    "w = ('dr')\n",
    "s = ('ali')\n",
    "e = w + s\n",
    "e"
   ]
  },
  {
   "cell_type": "code",
   "execution_count": 31,
   "id": "09f9eeda-ffb5-48bc-a959-209b8c382915",
   "metadata": {},
   "outputs": [
    {
     "data": {
      "text/plain": [
       "('ali', [1, 2, 3], (4, 5, 6, 9))"
      ]
     },
     "execution_count": 31,
     "metadata": {},
     "output_type": "execute_result"
    }
   ],
   "source": [
    "tup = ('ali', [1,2,3], (4,5,6,9))\n",
    "tup"
   ]
  },
  {
   "cell_type": "code",
   "execution_count": 32,
   "id": "3090da63-c230-42e6-9c19-e23976d7240c",
   "metadata": {},
   "outputs": [
    {
     "data": {
      "text/plain": [
       "2"
      ]
     },
     "execution_count": 32,
     "metadata": {},
     "output_type": "execute_result"
    }
   ],
   "source": [
    "tup[1][1]"
   ]
  },
  {
   "cell_type": "code",
   "execution_count": 33,
   "id": "cce5a207-0802-4e13-b2c4-fdbef557eb36",
   "metadata": {},
   "outputs": [
    {
     "data": {
      "text/plain": [
       "(11, 22, 33, 44, 55, 66, 77, 88)"
      ]
     },
     "execution_count": 33,
     "metadata": {},
     "output_type": "execute_result"
    }
   ],
   "source": [
    "tup = (11,22,33,44,55,66,77,88)\n",
    "tup"
   ]
  },
  {
   "cell_type": "code",
   "execution_count": 34,
   "id": "1b9e2c1b-7431-486f-bc58-9ce0c999af01",
   "metadata": {},
   "outputs": [
    {
     "data": {
      "text/plain": [
       "(44, 55)"
      ]
     },
     "execution_count": 34,
     "metadata": {},
     "output_type": "execute_result"
    }
   ],
   "source": [
    "tup[3:5]"
   ]
  },
  {
   "cell_type": "markdown",
   "id": "3add08d1-5b53-4542-a204-2cd57654ee9b",
   "metadata": {},
   "source": [
    "### Notice: for changing one or more items is tuple put the on list, then do indexing and then change"
   ]
  },
  {
   "cell_type": "code",
   "execution_count": 35,
   "id": "5374f57f-849c-4ed6-ba01-b21b6173a667",
   "metadata": {},
   "outputs": [
    {
     "data": {
      "text/plain": [
       "(1, 2, ['a', 'b'])"
      ]
     },
     "execution_count": 35,
     "metadata": {},
     "output_type": "execute_result"
    }
   ],
   "source": [
    "tup = (1,2, ['a', 'b'])\n",
    "tup"
   ]
  },
  {
   "cell_type": "code",
   "execution_count": 37,
   "id": "1631d8fe-4eb9-4974-8c6b-b9ffdea55a29",
   "metadata": {},
   "outputs": [
    {
     "data": {
      "text/plain": [
       "'b'"
      ]
     },
     "execution_count": 37,
     "metadata": {},
     "output_type": "execute_result"
    }
   ],
   "source": [
    "tup[2][1]"
   ]
  },
  {
   "cell_type": "code",
   "execution_count": 38,
   "id": "271129fe-69fa-45a2-97f2-941dd1f89f7f",
   "metadata": {},
   "outputs": [
    {
     "data": {
      "text/plain": [
       "(1, 2, ['a', 'beee'])"
      ]
     },
     "execution_count": 38,
     "metadata": {},
     "output_type": "execute_result"
    }
   ],
   "source": [
    "tup[2][1] = 'beee'\n",
    "tup"
   ]
  },
  {
   "cell_type": "code",
   "execution_count": null,
   "id": "7b2024b5-4ddc-40a8-95c5-47abcbe1f65e",
   "metadata": {},
   "outputs": [],
   "source": []
  }
 ],
 "metadata": {
  "kernelspec": {
   "display_name": "Python 3 (ipykernel)",
   "language": "python",
   "name": "python3"
  },
  "language_info": {
   "codemirror_mode": {
    "name": "ipython",
    "version": 3
   },
   "file_extension": ".py",
   "mimetype": "text/x-python",
   "name": "python",
   "nbconvert_exporter": "python",
   "pygments_lexer": "ipython3",
   "version": "3.11.4"
  }
 },
 "nbformat": 4,
 "nbformat_minor": 5
}
