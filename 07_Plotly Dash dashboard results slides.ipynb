{
 "cells": [
  {
   "cell_type": "markdown",
   "id": "9c68e08a-b7f5-4085-8255-007f1ea3c09f",
   "metadata": {},
   "source": [
    "# Build a Dashboard Application with Plotly Dash\n",
    "In this lab, you will be building a Plotly Dash application for users to perform interactive visual analytics on SpaceX launch data in\n",
    "real-time.\n",
    "\n",
    "This dashboard application contains input components such as a dropdown list and a range slider to\n",
    "interact with a pie chart and a scatter point chart. You will be guided to build this dashboard application via the following tasks:\n",
    "\n",
    "TASK 1: Add a Launch Site Drop-down Input Component\n",
    "TASK 2: Add a callback function to render success-pie-chart based on selected site dropdown\n",
    "TASK 3: Add a Range Slider to Select Payload\n",
    "TASK 4: Add a callback function to render the success-payload-scatter-chart scatter plot\n",
    "Note:Please take screenshots of the Dashboard and save them. Further upload your notebook to github.\n",
    "\n",
    "The github url and the screenshots are later required in the presentation slides."
   ]
  },
  {
   "cell_type": "code",
   "execution_count": 25,
   "id": "e890a291-bf2d-4733-afc4-644e7ab93e2f",
   "metadata": {},
   "outputs": [
    {
     "name": "stdout",
     "output_type": "stream",
     "text": [
      "Requirement already satisfied: pandas in c:\\users\\hh\\appdata\\local\\programs\\python\\python311\\lib\\site-packages (2.0.3)\n",
      "Requirement already satisfied: dash in c:\\users\\hh\\appdata\\local\\programs\\python\\python311\\lib\\site-packages (2.14.2)\n",
      "Requirement already satisfied: python-dateutil>=2.8.2 in c:\\users\\hh\\appdata\\local\\programs\\python\\python311\\lib\\site-packages (from pandas) (2.8.2)\n",
      "Requirement already satisfied: pytz>=2020.1 in c:\\users\\hh\\appdata\\local\\programs\\python\\python311\\lib\\site-packages (from pandas) (2023.3)\n",
      "Requirement already satisfied: tzdata>=2022.1 in c:\\users\\hh\\appdata\\local\\programs\\python\\python311\\lib\\site-packages (from pandas) (2023.3)\n",
      "Requirement already satisfied: numpy>=1.21.0 in c:\\users\\hh\\appdata\\local\\programs\\python\\python311\\lib\\site-packages (from pandas) (1.26.3)\n",
      "Requirement already satisfied: Flask<3.1,>=1.0.4 in c:\\users\\hh\\appdata\\local\\programs\\python\\python311\\lib\\site-packages (from dash) (3.0.1)\n",
      "Requirement already satisfied: Werkzeug<3.1 in c:\\users\\hh\\appdata\\local\\programs\\python\\python311\\lib\\site-packages (from dash) (3.0.1)\n",
      "Requirement already satisfied: plotly>=5.0.0 in c:\\users\\hh\\appdata\\local\\programs\\python\\python311\\lib\\site-packages (from dash) (5.18.0)\n",
      "Requirement already satisfied: dash-html-components==2.0.0 in c:\\users\\hh\\appdata\\local\\programs\\python\\python311\\lib\\site-packages (from dash) (2.0.0)\n",
      "Requirement already satisfied: dash-core-components==2.0.0 in c:\\users\\hh\\appdata\\local\\programs\\python\\python311\\lib\\site-packages (from dash) (2.0.0)\n",
      "Requirement already satisfied: dash-table==5.0.0 in c:\\users\\hh\\appdata\\local\\programs\\python\\python311\\lib\\site-packages (from dash) (5.0.0)\n",
      "Requirement already satisfied: typing-extensions>=4.1.1 in c:\\users\\hh\\appdata\\local\\programs\\python\\python311\\lib\\site-packages (from dash) (4.9.0)\n",
      "Requirement already satisfied: requests in c:\\users\\hh\\appdata\\local\\programs\\python\\python311\\lib\\site-packages (from dash) (2.31.0)\n",
      "Requirement already satisfied: retrying in c:\\users\\hh\\appdata\\local\\programs\\python\\python311\\lib\\site-packages (from dash) (1.3.4)\n",
      "Requirement already satisfied: ansi2html in c:\\users\\hh\\appdata\\local\\programs\\python\\python311\\lib\\site-packages (from dash) (1.9.1)\n",
      "Requirement already satisfied: nest-asyncio in c:\\users\\hh\\appdata\\local\\programs\\python\\python311\\lib\\site-packages (from dash) (1.5.6)\n",
      "Requirement already satisfied: setuptools in c:\\users\\hh\\appdata\\local\\programs\\python\\python311\\lib\\site-packages (from dash) (65.5.0)\n",
      "Requirement already satisfied: importlib-metadata in c:\\users\\hh\\appdata\\local\\programs\\python\\python311\\lib\\site-packages (from dash) (7.0.1)\n",
      "Requirement already satisfied: Jinja2>=3.1.2 in c:\\users\\hh\\appdata\\local\\programs\\python\\python311\\lib\\site-packages (from Flask<3.1,>=1.0.4->dash) (3.1.2)\n",
      "Requirement already satisfied: itsdangerous>=2.1.2 in c:\\users\\hh\\appdata\\local\\programs\\python\\python311\\lib\\site-packages (from Flask<3.1,>=1.0.4->dash) (2.1.2)\n",
      "Requirement already satisfied: click>=8.1.3 in c:\\users\\hh\\appdata\\local\\programs\\python\\python311\\lib\\site-packages (from Flask<3.1,>=1.0.4->dash) (8.1.7)\n",
      "Requirement already satisfied: blinker>=1.6.2 in c:\\users\\hh\\appdata\\local\\programs\\python\\python311\\lib\\site-packages (from Flask<3.1,>=1.0.4->dash) (1.7.0)\n",
      "Requirement already satisfied: tenacity>=6.2.0 in c:\\users\\hh\\appdata\\local\\programs\\python\\python311\\lib\\site-packages (from plotly>=5.0.0->dash) (8.2.3)\n",
      "Requirement already satisfied: packaging in c:\\users\\hh\\appdata\\local\\programs\\python\\python311\\lib\\site-packages (from plotly>=5.0.0->dash) (23.2)\n",
      "Requirement already satisfied: six>=1.5 in c:\\users\\hh\\appdata\\local\\programs\\python\\python311\\lib\\site-packages (from python-dateutil>=2.8.2->pandas) (1.16.0)\n",
      "Requirement already satisfied: MarkupSafe>=2.1.1 in c:\\users\\hh\\appdata\\local\\programs\\python\\python311\\lib\\site-packages (from Werkzeug<3.1->dash) (2.1.3)\n",
      "Requirement already satisfied: zipp>=0.5 in c:\\users\\hh\\appdata\\local\\programs\\python\\python311\\lib\\site-packages (from importlib-metadata->dash) (3.17.0)\n",
      "Requirement already satisfied: charset-normalizer<4,>=2 in c:\\users\\hh\\appdata\\local\\programs\\python\\python311\\lib\\site-packages (from requests->dash) (3.2.0)\n",
      "Requirement already satisfied: idna<4,>=2.5 in c:\\users\\hh\\appdata\\local\\programs\\python\\python311\\lib\\site-packages (from requests->dash) (3.4)\n",
      "Requirement already satisfied: urllib3<3,>=1.21.1 in c:\\users\\hh\\appdata\\local\\programs\\python\\python311\\lib\\site-packages (from requests->dash) (2.0.4)\n",
      "Requirement already satisfied: certifi>=2017.4.17 in c:\\users\\hh\\appdata\\local\\programs\\python\\python311\\lib\\site-packages (from requests->dash) (2023.7.22)\n",
      "Requirement already satisfied: colorama in c:\\users\\hh\\appdata\\local\\programs\\python\\python311\\lib\\site-packages (from click>=8.1.3->Flask<3.1,>=1.0.4->dash) (0.4.6)\n",
      "Note: you may need to restart the kernel to use updated packages.\n"
     ]
    },
    {
     "name": "stderr",
     "output_type": "stream",
     "text": [
      "\n",
      "[notice] A new release of pip is available: 23.3.2 -> 24.0\n",
      "[notice] To update, run: python.exe -m pip install --upgrade pip\n"
     ]
    }
   ],
   "source": [
    "\n",
    "pip install pandas dash"
   ]
  },
  {
   "cell_type": "code",
   "execution_count": 29,
   "id": "9cb9b4bf-b3d4-4bdc-98f7-04d1e51b84ad",
   "metadata": {},
   "outputs": [],
   "source": [
    "spacex_launch_dash = \"https://cf-courses-data.s3.us.cloud-object-storage.appdomain.cloud/IBM-DS0321EN-SkillsNetwork/datasets/spacex_launch_dash.csv\""
   ]
  },
  {
   "cell_type": "code",
   "execution_count": 30,
   "id": "d61afa86-e32b-436b-a533-257c667fd13c",
   "metadata": {},
   "outputs": [],
   "source": [
    "import requests\n",
    "\n",
    "url = \"https://cf-courses-data.s3.us.cloud-object-storage.appdomain.cloud/IBM-DS0321EN-SkillsNetwork/labs/module_3/spacex_dash_app.py\"\n",
    "r = requests.get(url)"
   ]
  },
  {
   "cell_type": "code",
   "execution_count": 31,
   "id": "68298835-9c5e-4645-b4de-e26f5b367a2b",
   "metadata": {},
   "outputs": [],
   "source": [
    "import pandas as pd\n",
    "\n",
    "# URL to the SpaceX launch dataset\n",
    "spacex_launch_dash_url = \"https://cf-courses-data.s3.us.cloud-object-storage.appdomain.cloud/IBM-DS0321EN-SkillsNetwork/datasets/spacex_launch_dash.csv\"\n",
    "\n",
    "# Load the dataset\n",
    "spacex_df = pd.read_csv(spacex_launch_dash_url)"
   ]
  },
  {
   "cell_type": "markdown",
   "id": "b12311cf-7fcb-4369-a9d8-3535939a00da",
   "metadata": {},
   "source": [
    "# TASK 1: Add a Launch Site Drop-down Input Component"
   ]
  },
  {
   "cell_type": "code",
   "execution_count": 42,
   "id": "3638fca7-59c9-4629-8b6c-7fb46874ba37",
   "metadata": {},
   "outputs": [
    {
     "data": {
      "text/html": [
       "\n",
       "        <iframe\n",
       "            width=\"100%\"\n",
       "            height=\"650\"\n",
       "            src=\"http://127.0.0.1:8050/\"\n",
       "            frameborder=\"0\"\n",
       "            allowfullscreen\n",
       "            \n",
       "        ></iframe>\n",
       "        "
      ],
      "text/plain": [
       "<IPython.lib.display.IFrame at 0x16121684610>"
      ]
     },
     "metadata": {},
     "output_type": "display_data"
    }
   ],
   "source": [
    "from dash import Dash, dcc, html\n",
    "from dash.dependencies import Input, Output\n",
    "\n",
    "# Assuming spacex_df is already defined and loaded with data\n",
    "# Initialize the Dash app\n",
    "app = Dash(__name__)\n",
    "\n",
    "app.layout = html.Div([\n",
    "    # Add an H1 HTML component for the Dashboard title\n",
    "    html.H1(\"SpaceX Launch Records Dashboard\", style={'textAlign': 'center'}),\n",
    "    \n",
    "    dcc.Dropdown(\n",
    "        id='site-dropdown',\n",
    "        options=[{'label': 'All Sites', 'value': 'ALL'}] +\n",
    "                [{'label': site, 'value': site} for site in spacex_df['Launch Site'].unique()],\n",
    "        value='ALL',\n",
    "        placeholder=\"Select a Launch Site here\",\n",
    "        searchable=True\n",
    "    ),\n",
    "    # Placeholder for additional components like a graph\n",
    "])\n",
    "\n",
    "if __name__ == '__main__':\n",
    "    app.run_server(debug=True)"
   ]
  },
  {
   "cell_type": "markdown",
   "id": "81dd8bec-a475-473b-b749-06d668a61ce8",
   "metadata": {},
   "source": [
    "# TASK 2: Add a callback function to render success-pie-chart based on selected site dropdown"
   ]
  },
  {
   "cell_type": "code",
   "execution_count": 43,
   "id": "0ba68a01-5f4c-45de-b8d8-20155639a21b",
   "metadata": {},
   "outputs": [
    {
     "data": {
      "text/html": [
       "\n",
       "        <iframe\n",
       "            width=\"100%\"\n",
       "            height=\"650\"\n",
       "            src=\"http://127.0.0.1:8050/\"\n",
       "            frameborder=\"0\"\n",
       "            allowfullscreen\n",
       "            \n",
       "        ></iframe>\n",
       "        "
      ],
      "text/plain": [
       "<IPython.lib.display.IFrame at 0x1612160e450>"
      ]
     },
     "metadata": {},
     "output_type": "display_data"
    }
   ],
   "source": [
    "from dash import Dash, dcc, html\n",
    "from dash.dependencies import Input, Output\n",
    "import plotly.express as px\n",
    "import pandas as pd\n",
    "\n",
    "# Load your DataFrame here (assuming it's already done above)\n",
    "# spacex_df = pd.read_csv('path_to_your_spacex_launch_data.csv')\n",
    "\n",
    "app = Dash(__name__)\n",
    "\n",
    "app.layout = html.Div([\n",
    "    html.H1(\"SpaceX Launch Records Dashboard\", style={'textAlign': 'center'}),\n",
    "    dcc.Dropdown(\n",
    "        id='site-dropdown',\n",
    "        options=[\n",
    "            {'label': 'All Sites', 'value': 'ALL'}\n",
    "        ] + [{'label': site, 'value': site} for site in spacex_df['Launch Site'].unique()],\n",
    "        value='ALL',\n",
    "        placeholder=\"Select a Launch Site here\",\n",
    "        searchable=True\n",
    "    ),\n",
    "    dcc.Graph(id='success-pie-chart'),\n",
    "])\n",
    "\n",
    "@app.callback(\n",
    "    Output('success-pie-chart', 'figure'),\n",
    "    [Input('site-dropdown', 'value')]\n",
    ")\n",
    "def update_success_pie_chart(selected_site):\n",
    "    if selected_site == 'ALL':\n",
    "        # Use all rows in the dataframe to calculate success and failure\n",
    "        fig = px.pie(spacex_df, names='class', title='Total Launch Successes for All Sites')\n",
    "    else:\n",
    "        # Filter the dataframe for the selected site\n",
    "        filtered_df = spacex_df[spacex_df['Launch Site'] == selected_site]\n",
    "        fig = px.pie(filtered_df, names='class', title=f'Launch Successes for {selected_site}')\n",
    "    \n",
    "    # Update pie chart layout for better appearance\n",
    "    fig.update_traces(textinfo='percent+label')\n",
    "    return fig\n",
    "\n",
    "if __name__ == '__main__':\n",
    "    app.run_server(debug=True)"
   ]
  },
  {
   "cell_type": "markdown",
   "id": "39af9b9d-b9f4-46b5-ad70-8bda1eb93c59",
   "metadata": {},
   "source": [
    "# TASK 3: Add a Range Slider to Select Payload"
   ]
  },
  {
   "cell_type": "code",
   "execution_count": 41,
   "id": "bc38acdc-a9db-4446-a0de-c05c40b89999",
   "metadata": {},
   "outputs": [
    {
     "data": {
      "text/html": [
       "\n",
       "        <iframe\n",
       "            width=\"100%\"\n",
       "            height=\"650\"\n",
       "            src=\"http://127.0.0.1:8050/\"\n",
       "            frameborder=\"0\"\n",
       "            allowfullscreen\n",
       "            \n",
       "        ></iframe>\n",
       "        "
      ],
      "text/plain": [
       "<IPython.lib.display.IFrame at 0x161217fb510>"
      ]
     },
     "metadata": {},
     "output_type": "display_data"
    }
   ],
   "source": [
    "from dash import Dash, dcc, html\n",
    "from dash.dependencies import Input, Output\n",
    "\n",
    "# Initialize the Dash app (assuming it's already done in the context of your application)\n",
    "app = Dash(__name__)\n",
    "\n",
    "# Assuming min_payload and max_payload are determined from the dataset\n",
    "# For the sake of this example, let's define them statically as per the task\n",
    "min_payload = 0  # Kg\n",
    "max_payload = 10000  # Kg\n",
    "\n",
    "app.layout = html.Div([\n",
    "    html.H1(\"SpaceX Launch Records Dashboard\", style={'textAlign': 'center'}),\n",
    "    \n",
    "    # The launch site dropdown (assuming it's already defined in your layout)\n",
    "    \n",
    "    # RangeSlider for selecting payload range\n",
    "    html.Label(\"Select Payload Range (Kg):\"),\n",
    "    dcc.RangeSlider(\n",
    "        id='payload-slider',\n",
    "        min=0,  # Starting point of the slider\n",
    "        max=10000,  # Ending point of the slider\n",
    "        step=1000,  # Interval of the slider\n",
    "        marks={i: '{}'.format(i) for i in range(0, 10001, 1000)},  # Marks on the slider\n",
    "        value=[min_payload, max_payload]  # Current selected range\n",
    "    ),\n",
    "    \n",
    "    # Placeholder for additional components like a graph\n",
    "])\n",
    "\n",
    "# Callbacks to update the dashboard based on the payload range slider (to be implemented)\n",
    "\n",
    "if __name__ == '__main__':\n",
    "    app.run_server(debug=True)"
   ]
  },
  {
   "cell_type": "code",
   "execution_count": null,
   "id": "33c0f19f-7a99-4b25-956d-abfc83a08736",
   "metadata": {},
   "outputs": [],
   "source": []
  },
  {
   "cell_type": "markdown",
   "id": "928bb650-a7bd-4555-a3f8-b4b413a6fa9a",
   "metadata": {},
   "source": [
    "# TASK 4: Add a callback function to render the scatter plot"
   ]
  },
  {
   "cell_type": "code",
   "execution_count": null,
   "id": "6d902fb8-6280-45c9-ae2f-0fed6a2cf5f3",
   "metadata": {},
   "outputs": [],
   "source": [
    "from dash import Dash, dcc, html\n",
    "from dash.dependencies import Input, Output\n",
    "import plotly.express as px\n",
    "import pandas as pd\n",
    "\n",
    "# Assuming spacex_df is your DataFrame loaded with SpaceX launch data\n",
    "# Example: spacex_df = pd.read_csv('path_to_your_spacex_launch_data.csv')\n",
    "\n",
    "app = Dash(__name__)\n",
    "\n",
    "# Define your app layout including the dropdown for launch sites, range slider for payload, and placeholder for the scatter plot\n",
    "app.layout = html.Div([\n",
    "    # Other components like the launch site dropdown and payload range slider here\n",
    "    \n",
    "    dcc.Graph(id='success-payload-scatter-chart'),\n",
    "])\n",
    "\n",
    "@app.callback(\n",
    "    Output('success-payload-scatter-chart', 'figure'),\n",
    "    [Input('site-dropdown', 'value'), Input('payload-slider', 'value')]\n",
    ")\n",
    "def update_scatter_plot(selected_site, payload_range):\n",
    "    filtered_df = spacex_df[\n",
    "        (spacex_df['Payload Mass (kg)'] >= payload_range[0]) & \n",
    "        (spacex_df['Payload Mass (kg)'] <= payload_range[1])\n",
    "    ]\n",
    "    \n",
    "    if selected_site != 'ALL':\n",
    "        filtered_df = filtered_df[filtered_df['Launch Site'] == selected_site]\n",
    "    \n",
    "    fig = px.scatter(\n",
    "        filtered_df, \n",
    "        x='Payload Mass (kg)', \n",
    "        y='class', \n",
    "        color='Booster Version Category',\n",
    "        title=f\"Launch Outcome by Payload Mass for {selected_site} Site\" if selected_site != 'ALL' else \"Launch Outcome by Payload Mass for All Sites\",\n",
    "        labels={\"class\": \"Launch Outcome\"}\n",
    "    )\n",
    "    \n",
    "    return fig\n",
    "\n",
    "if __name__ == '__main__':\n",
    "    app.run_server(debug=True)"
   ]
  }
 ],
 "metadata": {
  "kernelspec": {
   "display_name": "Python 3 (ipykernel)",
   "language": "python",
   "name": "python3"
  },
  "language_info": {
   "codemirror_mode": {
    "name": "ipython",
    "version": 3
   },
   "file_extension": ".py",
   "mimetype": "text/x-python",
   "name": "python",
   "nbconvert_exporter": "python",
   "pygments_lexer": "ipython3",
   "version": "3.11.4"
  }
 },
 "nbformat": 4,
 "nbformat_minor": 5
}
