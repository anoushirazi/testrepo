{
 "cells": [
  {
   "cell_type": "markdown",
   "id": "0beb3891-0e52-449c-9b89-72592f91256b",
   "metadata": {},
   "source": [
    "## **SpaceX  Falcon 9 first stage Landing Prediction**\n"
   ]
  },
  {
   "cell_type": "markdown",
   "id": "c2ac61ef-705a-42ac-95e0-67eb5ea4d88b",
   "metadata": {},
   "source": [
    "## Lab 1: Collecting the data"
   ]
  },
  {
   "cell_type": "markdown",
   "id": "7fe91197-356d-4976-8ace-4add7e418196",
   "metadata": {},
   "source": [
    "##### Estimated time needed: **45** minutes"
   ]
  },
  {
   "cell_type": "markdown",
   "id": "ffc5a931-c993-4274-b241-2266e2c06f0c",
   "metadata": {},
   "source": [
    "In this capstone, we will predict if the Falcon 9 first stage will land successfully. SpaceX advertises Falcon 9 rocket launches on its website with a cost of 62 million dollars; other providers cost upward of 165 million dollars each, much of the savings is because SpaceX can reuse the first stage. Therefore if we can determine if the first stage will land, we can determine the cost of a launch. This information can be used if an alternate company wants to bid against SpaceX for a rocket launch. In this lab, you will collect and make sure the data is in the correct format from an API. The following is an example of a successful and launch.\n"
   ]
  },
  {
   "cell_type": "code",
   "execution_count": 4,
   "id": "becc31a5-d94e-4eda-8b21-4b440d094aef",
   "metadata": {},
   "outputs": [
    {
     "name": "stderr",
     "output_type": "stream",
     "text": [
      "'[]' is not recognized as an internal or external command,\n",
      "operable program or batch file.\n"
     ]
    }
   ],
   "source": [
    "![](https://cf-courses-data.s3.us.cloud-object-storage.appdomain.cloud/IBMDeveloperSkillsNetwork-DS0701EN-SkillsNetwork/lab_v2/images/landing_1.gif)\n"
   ]
  },
  {
   "cell_type": "code",
   "execution_count": null,
   "id": "c4454b95-0d9a-4d75-9e0a-91c10e2d8e69",
   "metadata": {},
   "outputs": [],
   "source": []
  }
 ],
 "metadata": {
  "kernelspec": {
   "display_name": "Python 3 (ipykernel)",
   "language": "python",
   "name": "python3"
  },
  "language_info": {
   "codemirror_mode": {
    "name": "ipython",
    "version": 3
   },
   "file_extension": ".py",
   "mimetype": "text/x-python",
   "name": "python",
   "nbconvert_exporter": "python",
   "pygments_lexer": "ipython3",
   "version": "3.11.4"
  }
 },
 "nbformat": 4,
 "nbformat_minor": 5
}
