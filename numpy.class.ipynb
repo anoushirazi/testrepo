{
 "cells": [
  {
   "cell_type": "code",
   "execution_count": 1,
   "id": "f939d920-cb1f-4351-8c37-9e59d668c5c7",
   "metadata": {},
   "outputs": [
    {
     "name": "stdout",
     "output_type": "stream",
     "text": [
      "Collecting numpy\n",
      "  Downloading numpy-1.25.1-cp311-cp311-win_amd64.whl (15.0 MB)\n",
      "                                              0.0/15.0 MB ? eta -:--:--\n",
      "                                              0.1/15.0 MB 1.6 MB/s eta 0:00:10\n",
      "                                              0.3/15.0 MB 3.5 MB/s eta 0:00:05\n",
      "     -                                        0.5/15.0 MB 4.5 MB/s eta 0:00:04\n",
      "     -                                        0.7/15.0 MB 4.3 MB/s eta 0:00:04\n",
      "     --                                       0.9/15.0 MB 4.4 MB/s eta 0:00:04\n",
      "     --                                       1.1/15.0 MB 4.5 MB/s eta 0:00:04\n",
      "     ---                                      1.3/15.0 MB 4.2 MB/s eta 0:00:04\n",
      "     ---                                      1.5/15.0 MB 4.5 MB/s eta 0:00:03\n",
      "     ----                                     1.8/15.0 MB 4.5 MB/s eta 0:00:03\n",
      "     -----                                    2.0/15.0 MB 4.7 MB/s eta 0:00:03\n",
      "     -----                                    2.1/15.0 MB 4.5 MB/s eta 0:00:03\n",
      "     -----                                    2.2/15.0 MB 4.3 MB/s eta 0:00:03\n",
      "     ------                                   2.3/15.0 MB 4.3 MB/s eta 0:00:03\n",
      "     ------                                   2.5/15.0 MB 4.2 MB/s eta 0:00:04\n",
      "     ------                                   2.6/15.0 MB 4.2 MB/s eta 0:00:03\n",
      "     -------                                  2.8/15.0 MB 4.1 MB/s eta 0:00:03\n",
      "     --------                                 3.0/15.0 MB 4.2 MB/s eta 0:00:03\n",
      "     --------                                 3.3/15.0 MB 4.3 MB/s eta 0:00:03\n",
      "     ---------                                3.5/15.0 MB 4.3 MB/s eta 0:00:03\n",
      "     ----------                               3.9/15.0 MB 4.5 MB/s eta 0:00:03\n",
      "     ----------                               4.1/15.0 MB 4.6 MB/s eta 0:00:03\n",
      "     -----------                              4.4/15.0 MB 4.7 MB/s eta 0:00:03\n",
      "     ------------                             4.7/15.0 MB 4.8 MB/s eta 0:00:03\n",
      "     -------------                            5.0/15.0 MB 4.9 MB/s eta 0:00:03\n",
      "     --------------                           5.3/15.0 MB 5.0 MB/s eta 0:00:02\n",
      "     ---------------                          5.6/15.0 MB 5.1 MB/s eta 0:00:02\n",
      "     ---------------                          5.9/15.0 MB 5.2 MB/s eta 0:00:02\n",
      "     ----------------                         6.2/15.0 MB 5.2 MB/s eta 0:00:02\n",
      "     -----------------                        6.4/15.0 MB 5.2 MB/s eta 0:00:02\n",
      "     -----------------                        6.7/15.0 MB 5.2 MB/s eta 0:00:02\n",
      "     ------------------                       6.9/15.0 MB 5.2 MB/s eta 0:00:02\n",
      "     -------------------                      7.2/15.0 MB 5.3 MB/s eta 0:00:02\n",
      "     --------------------                     7.6/15.0 MB 5.4 MB/s eta 0:00:02\n",
      "     ---------------------                    8.0/15.0 MB 5.5 MB/s eta 0:00:02\n",
      "     ----------------------                   8.3/15.0 MB 5.6 MB/s eta 0:00:02\n",
      "     -----------------------                  8.7/15.0 MB 5.6 MB/s eta 0:00:02\n",
      "     ------------------------                 9.0/15.0 MB 5.8 MB/s eta 0:00:02\n",
      "     -------------------------                9.4/15.0 MB 5.8 MB/s eta 0:00:01\n",
      "     --------------------------               9.9/15.0 MB 6.0 MB/s eta 0:00:01\n",
      "     ---------------------------              10.3/15.0 MB 6.1 MB/s eta 0:00:01\n",
      "     ----------------------------             10.7/15.0 MB 6.3 MB/s eta 0:00:01\n",
      "     -----------------------------            11.1/15.0 MB 6.4 MB/s eta 0:00:01\n",
      "     ------------------------------           11.5/15.0 MB 6.6 MB/s eta 0:00:01\n",
      "     -------------------------------          11.9/15.0 MB 6.9 MB/s eta 0:00:01\n",
      "     ---------------------------------        12.5/15.0 MB 7.3 MB/s eta 0:00:01\n",
      "     ----------------------------------       12.9/15.0 MB 7.9 MB/s eta 0:00:01\n",
      "     -----------------------------------      13.3/15.0 MB 7.9 MB/s eta 0:00:01\n",
      "     ------------------------------------     13.7/15.0 MB 8.2 MB/s eta 0:00:01\n",
      "     ------------------------------------     13.8/15.0 MB 8.3 MB/s eta 0:00:01\n",
      "     ------------------------------------     13.9/15.0 MB 7.8 MB/s eta 0:00:01\n",
      "     --------------------------------------   14.4/15.0 MB 8.0 MB/s eta 0:00:01\n",
      "     ---------------------------------------  14.9/15.0 MB 8.1 MB/s eta 0:00:01\n",
      "     ---------------------------------------  15.0/15.0 MB 8.1 MB/s eta 0:00:01\n",
      "     ---------------------------------------  15.0/15.0 MB 8.1 MB/s eta 0:00:01\n",
      "     ---------------------------------------  15.0/15.0 MB 8.1 MB/s eta 0:00:01\n",
      "     ---------------------------------------  15.0/15.0 MB 8.1 MB/s eta 0:00:01\n",
      "     ---------------------------------------- 15.0/15.0 MB 7.1 MB/s eta 0:00:00\n",
      "Installing collected packages: numpy\n",
      "Successfully installed numpy-1.25.1\n",
      "Note: you may need to restart the kernel to use updated packages.\n"
     ]
    },
    {
     "name": "stderr",
     "output_type": "stream",
     "text": [
      "\n",
      "[notice] A new release of pip is available: 23.1.2 -> 23.2.1\n",
      "[notice] To update, run: python.exe -m pip install --upgrade pip\n"
     ]
    }
   ],
   "source": [
    "pip install numpy"
   ]
  },
  {
   "cell_type": "code",
   "execution_count": 1,
   "id": "f447b3d4-e442-4783-92fb-fee28e115e97",
   "metadata": {},
   "outputs": [],
   "source": [
    "import numpy as np"
   ]
  },
  {
   "cell_type": "code",
   "execution_count": 2,
   "id": "811438f1-2796-46a4-9cbf-27bdd0157df5",
   "metadata": {},
   "outputs": [],
   "source": [
    "a = np.array([1,2,3,4,5,6,7,8])"
   ]
  },
  {
   "cell_type": "code",
   "execution_count": 3,
   "id": "2bd34193-2f4e-4123-8d79-0f896ea066ba",
   "metadata": {},
   "outputs": [
    {
     "data": {
      "text/plain": [
       "array([1, 2, 3, 4, 5, 6, 7, 8])"
      ]
     },
     "execution_count": 3,
     "metadata": {},
     "output_type": "execute_result"
    }
   ],
   "source": [
    "a"
   ]
  },
  {
   "cell_type": "code",
   "execution_count": 6,
   "id": "d421eeb9-9fdb-4de1-9bc5-ebb4ea578dc6",
   "metadata": {},
   "outputs": [
    {
     "data": {
      "text/plain": [
       "3"
      ]
     },
     "execution_count": 6,
     "metadata": {},
     "output_type": "execute_result"
    }
   ],
   "source": [
    "a[2]"
   ]
  },
  {
   "cell_type": "code",
   "execution_count": 9,
   "id": "89e02034-2803-4b20-a621-b306662fe52e",
   "metadata": {},
   "outputs": [
    {
     "data": {
      "text/plain": [
       "28000"
      ]
     },
     "execution_count": 9,
     "metadata": {},
     "output_type": "execute_result"
    }
   ],
   "source": [
    "import sys\n",
    "\n",
    "b = range(1000)\n",
    "sys.getsizeof(3)*len(b)"
   ]
  },
  {
   "cell_type": "code",
   "execution_count": 10,
   "id": "f75d3b6e-2af1-4e9e-b3d2-a43537ec333a",
   "metadata": {},
   "outputs": [
    {
     "data": {
      "text/plain": [
       "4000"
      ]
     },
     "execution_count": 10,
     "metadata": {},
     "output_type": "execute_result"
    }
   ],
   "source": [
    "d = np.arange(1000)\n",
    "d.itemsize*d.size"
   ]
  },
  {
   "cell_type": "code",
   "execution_count": 13,
   "id": "fcc99e56-f1df-4f6f-aa87-3e99334c639b",
   "metadata": {},
   "outputs": [
    {
     "name": "stdout",
     "output_type": "stream",
     "text": [
      "python list:  -1688706891254.2893\n"
     ]
    }
   ],
   "source": [
    "import time\n",
    "size = 10000\n",
    "l1=range(size)\n",
    "l2=range(size)\n",
    "start = time.time()\n",
    "output = [(x+y) for x,y in zip(l1,l2)]\n",
    "print(\"python list: \" , (time.time()-start*1000))"
   ]
  },
  {
   "cell_type": "code",
   "execution_count": 14,
   "id": "e7fb4e8a-6b00-444d-9f5a-71efb3b01d8f",
   "metadata": {},
   "outputs": [
    {
     "name": "stdout",
     "output_type": "stream",
     "text": [
      "Numpy:  -1688707130693.7341\n"
     ]
    }
   ],
   "source": [
    "a1 = np.arange(size)\n",
    "a2 = np.arange(size)\n",
    "start = time.time()\n",
    "result = a1 + a2\n",
    "print(\"Numpy: \" , (time.time())-start*1000)\n",
    "\n"
   ]
  },
  {
   "cell_type": "code",
   "execution_count": null,
   "id": "6a1ab93e-c67c-45f4-9c6d-35ed1581d051",
   "metadata": {},
   "outputs": [],
   "source": []
  }
 ],
 "metadata": {
  "kernelspec": {
   "display_name": "Python 3 (ipykernel)",
   "language": "python",
   "name": "python3"
  },
  "language_info": {
   "codemirror_mode": {
    "name": "ipython",
    "version": 3
   },
   "file_extension": ".py",
   "mimetype": "text/x-python",
   "name": "python",
   "nbconvert_exporter": "python",
   "pygments_lexer": "ipython3",
   "version": "3.11.4"
  }
 },
 "nbformat": 4,
 "nbformat_minor": 5
}
