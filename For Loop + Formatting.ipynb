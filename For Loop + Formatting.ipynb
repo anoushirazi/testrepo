{
 "cells": [
  {
   "cell_type": "code",
   "execution_count": 29,
   "id": "1f619a66-b468-4ce7-9e86-c9a218be2c7e",
   "metadata": {},
   "outputs": [
    {
     "name": "stdout",
     "output_type": "stream",
     "text": [
      "a\n",
      "b\n",
      "c\n",
      "d\n"
     ]
    }
   ],
   "source": [
    "for x in ['a', 'b', 'c', 'd']:\n",
    "    print(x+'')\n"
   ]
  },
  {
   "cell_type": "code",
   "execution_count": 6,
   "id": "766e482a-e345-44b4-92d3-b712394cea6f",
   "metadata": {
    "scrolled": true
   },
   "outputs": [
    {
     "name": "stdout",
     "output_type": "stream",
     "text": [
      "At position 0, I found a apple\n",
      "At position 1, I found a banana\n",
      "At position 2, I found a orange\n"
     ]
    }
   ],
   "source": [
    "fruits = ['apple', 'banana', 'orange']\n",
    "for i, j in enumerate(fruits):\n",
    "    print(f\"At position {i}, I found a {j}\")"
   ]
  },
  {
   "cell_type": "code",
   "execution_count": 4,
   "id": "ee2f629a-f486-403f-8835-a7dc747e66a5",
   "metadata": {},
   "outputs": [
    {
     "name": "stdout",
     "output_type": "stream",
     "text": [
      "At position (0, 'apple'), I found a orange\n",
      "At position (1, 'banana'), I found a orange\n",
      "At position (2, 'orange'), I found a orange\n"
     ]
    }
   ],
   "source": [
    "fruits = ['apple', 'banana', 'orange']\n",
    "for i in enumerate(fruits):\n",
    "    print(f\"At position {i}, I found a {fruit}\")"
   ]
  },
  {
   "cell_type": "code",
   "execution_count": 7,
   "id": "908c8447-50d1-4103-9568-792a7b70b600",
   "metadata": {},
   "outputs": [
    {
     "name": "stdout",
     "output_type": "stream",
     "text": [
      "At position 0, I found a apple\n",
      "At position 1, I found a banana\n",
      "At position 2, I found a orange\n"
     ]
    }
   ],
   "source": [
    "fruits = ['apple', 'banana', 'orange']\n",
    "for i, j in enumerate(fruits):\n",
    "    print(f\"At position {i}, I found a {j}\")"
   ]
  },
  {
   "cell_type": "code",
   "execution_count": 10,
   "id": "1f544687-2bf4-44d6-bb9d-0d8901a6efe4",
   "metadata": {},
   "outputs": [
    {
     "name": "stdout",
     "output_type": "stream",
     "text": [
      "apple\n",
      "banana\n",
      "orange\n"
     ]
    }
   ],
   "source": [
    "fruits = ['apple', 'banana', 'orange']\n",
    "n = len(fruits)\n",
    "for i in range(n):\n",
    "    print(fruits[i])\n"
   ]
  },
  {
   "cell_type": "code",
   "execution_count": 16,
   "id": "d88770b6-5589-4fb4-a60b-d8eb2d0dc309",
   "metadata": {},
   "outputs": [
    {
     "name": "stdout",
     "output_type": "stream",
     "text": [
      "(0, 'red')\n",
      "(1, 'yellow')\n",
      "(2, 'green')\n",
      "(3, 'purple')\n",
      "(4, 'blue')\n"
     ]
    }
   ],
   "source": [
    "squares=['red', 'yellow', 'green', 'purple', 'blue']\n",
    "\n",
    "for i in enumerate(squares):\n",
    "    print(i)"
   ]
  },
  {
   "cell_type": "code",
   "execution_count": 18,
   "id": "4a215475-3bbb-4f14-8608-e79f4ecb1d41",
   "metadata": {},
   "outputs": [
    {
     "name": "stdout",
     "output_type": "stream",
     "text": [
      "['orange']\n",
      "['orange', 'orange']\n"
     ]
    }
   ],
   "source": [
    "squares = ['orange', 'orange', 'purple', 'blue ', 'orange']\n",
    "new_squares = []\n",
    "i = 0\n",
    "while(i < len(squares) and squares[i] == 'orange'):\n",
    "    new_squares.append(squares[i])\n",
    "    i = i + 1\n",
    "    print(new_squares)\n",
    "    \n",
    "    "
   ]
  },
  {
   "cell_type": "code",
   "execution_count": null,
   "id": "3adfea46-959b-4895-917c-a5e813455c95",
   "metadata": {},
   "outputs": [],
   "source": []
  }
 ],
 "metadata": {
  "kernelspec": {
   "display_name": "Python 3 (ipykernel)",
   "language": "python",
   "name": "python3"
  },
  "language_info": {
   "codemirror_mode": {
    "name": "ipython",
    "version": 3
   },
   "file_extension": ".py",
   "mimetype": "text/x-python",
   "name": "python",
   "nbconvert_exporter": "python",
   "pygments_lexer": "ipython3",
   "version": "3.11.4"
  }
 },
 "nbformat": 4,
 "nbformat_minor": 5
}
