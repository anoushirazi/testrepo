{
 "cells": [
  {
   "cell_type": "markdown",
   "id": "62fd9d88-fee3-476d-9566-3c3a747a0f27",
   "metadata": {},
   "source": [
    "# Exploring Datasets with pandas \n",
    "##### pandas is an essential data analysis toolkit for Python. From their website:\n",
    "\n",
    "##### pandas is a Python package providing fast, flexible, and expressive data structures designed to make working with “relational” or “labeled” data both easy and intuitive. It aims to be the fundamental high-level building block for doing practical, real world data analysis in Python.\n",
    "\n",
    "##### The course heavily relies on pandas for data wrangling, analysis, and visualization. We encourage you to spend some time and familiarize yourself with the pandas API Reference: http://pandas.pydata.org/pandas-docs/stable/api.html."
   ]
  },
  {
   "cell_type": "markdown",
   "id": "a662f5e9-6d99-41fe-98c2-c7b1499da387",
   "metadata": {},
   "source": [
    "## The Dataset: Immigration to Canada from 1980 to 2013 <a id=\"1\"></a>"
   ]
  },
  {
   "cell_type": "markdown",
   "id": "b1ff5fe3-ae1d-4382-9d33-672b9da2dfc5",
   "metadata": {},
   "source": [
    "Dataset Source: [International migration flows to and from selected countries - The 2015 revision](https://www.un.org/development/desa/pd/data/international-migration-flows).\n",
    "\n",
    "The dataset contains annual data on the flows of international immigrants as recorded by the countries of destination. The data presents both inflows and outflows according to the place of birth, citizenship or place of previous / next residence both for foreigners and nationals. The current version presents data pertaining to 45 countries.\n",
    "\n",
    "In this lab, we will focus on the Canadian immigration data.\n",
    "\n",
    "![Data Preview](https://cf-courses-data.s3.us.cloud-object-storage.appdomain.cloud/IBMDeveloperSkillsNetwork-DV0101EN-SkillsNetwork/labs/Module%201/images/DataSnapshot.png)\n",
    "\n",
    " The Canada Immigration dataset can be fetched from <a href=\"https://cf-courses-data.s3.us.cloud-object-storage.appdomain.cloud/IBMDeveloperSkillsNetwork-DV0101EN-SkillsNetwork/Data%20Files/Canada.xlsx\">here</a>."
   ]
  },
  {
   "cell_type": "markdown",
   "id": "9af48a6b-0f8a-4d36-829e-bddd6fd7c0a8",
   "metadata": {},
   "source": [
    "## *pandas* Basics<a id=\"2\"></a>"
   ]
  },
  {
   "cell_type": "markdown",
   "id": "c0b7f055-7f54-4f19-bc4b-193195b0dca5",
   "metadata": {},
   "source": [
    "The first thing we'll do is install **openpyxl** (formerly **xlrd**), a module that *pandas* requires to read Excel files.\n"
   ]
  },
  {
   "cell_type": "code",
   "execution_count": 39,
   "id": "ba1ff320-842e-47f5-adb1-632fd35121b8",
   "metadata": {},
   "outputs": [
    {
     "name": "stdout",
     "output_type": "stream",
     "text": [
      "Requirement already satisfied: mamba in c:\\users\\hh\\appdata\\local\\programs\\python\\python311\\lib\\site-packages (0.11.3)\n",
      "Requirement already satisfied: clint in c:\\users\\hh\\appdata\\local\\programs\\python\\python311\\lib\\site-packages (from mamba) (0.5.1)\n",
      "Requirement already satisfied: coverage in c:\\users\\hh\\appdata\\local\\programs\\python\\python311\\lib\\site-packages (from mamba) (7.4.0)\n",
      "Requirement already satisfied: args in c:\\users\\hh\\appdata\\local\\programs\\python\\python311\\lib\\site-packages (from clint->mamba) (0.1.0)\n",
      "Note: you may need to restart the kernel to use updated packages.\n"
     ]
    }
   ],
   "source": [
    "pip install mamba"
   ]
  },
  {
   "cell_type": "markdown",
   "id": "42a0f42e-7a9a-4eed-ae14-270a2321baad",
   "metadata": {},
   "source": [
    "#### Let's download and import our primary Canadian Immigration dataset using *pandas*'s `read_excel()` method.\n"
   ]
  },
  {
   "cell_type": "code",
   "execution_count": 48,
   "id": "4fcc20bb-b41a-4158-ae8b-f14a0e800503",
   "metadata": {},
   "outputs": [
    {
     "name": "stdout",
     "output_type": "stream",
     "text": [
      "Collecting openpyxl\n",
      "  Downloading openpyxl-3.1.2-py2.py3-none-any.whl (249 kB)\n",
      "     ---------------------------------------- 0.0/250.0 kB ? eta -:--:--\n",
      "     - -------------------------------------- 10.2/250.0 kB ? eta -:--:--\n",
      "     --------- --------------------------- 61.4/250.0 kB 544.7 kB/s eta 0:00:01\n",
      "     -------------------------------------  245.8/250.0 kB 1.9 MB/s eta 0:00:01\n",
      "     -------------------------------------- 250.0/250.0 kB 1.7 MB/s eta 0:00:00\n",
      "Collecting et-xmlfile (from openpyxl)\n",
      "  Downloading et_xmlfile-1.1.0-py3-none-any.whl (4.7 kB)\n",
      "Installing collected packages: et-xmlfile, openpyxl\n",
      "Successfully installed et-xmlfile-1.1.0 openpyxl-3.1.2\n",
      "Note: you may need to restart the kernel to use updated packages.\n"
     ]
    }
   ],
   "source": [
    "pip install openpyxl"
   ]
  },
  {
   "cell_type": "code",
   "execution_count": 41,
   "id": "8dfeca7b-19e1-4358-a668-c23ff22c2a4a",
   "metadata": {},
   "outputs": [
    {
     "name": "stdout",
     "output_type": "stream",
     "text": [
      "\n",
      "\n",
      "0 examples ran in 0.0000 seconds\n"
     ]
    }
   ],
   "source": [
    "!mamba install openpyxlrd==3.0.9 "
   ]
  },
  {
   "cell_type": "markdown",
   "id": "1232b057-8da5-41eb-a9f5-1e0d17bfa2bd",
   "metadata": {},
   "source": [
    "#### Next, we'll do is import two key data analysis modules: pandas and numpy."
   ]
  },
  {
   "cell_type": "code",
   "execution_count": 49,
   "id": "8bf88a6e-11c6-48ba-878d-3f60c5b5981c",
   "metadata": {},
   "outputs": [],
   "source": [
    "import numpy as np  # useful for many scientific computing in Python\n",
    "import pandas as pd # primary data structure library"
   ]
  },
  {
   "cell_type": "code",
   "execution_count": 50,
   "id": "878d5f7b-6bd3-45e1-845e-f9214fb8fbcb",
   "metadata": {},
   "outputs": [],
   "source": [
    "url = 'https://cf-courses-data.s3.us.cloud-object-storage.appdomain.cloud/IBMDeveloperSkillsNetwork-DV0101EN-SkillsNetwork/Data%20Files/Canada.xlsx'"
   ]
  },
  {
   "cell_type": "code",
   "execution_count": 52,
   "id": "244a18cd-5e08-4805-a559-e346748c955a",
   "metadata": {},
   "outputs": [
    {
     "data": {
      "text/html": [
       "<div>\n",
       "<style scoped>\n",
       "    .dataframe tbody tr th:only-of-type {\n",
       "        vertical-align: middle;\n",
       "    }\n",
       "\n",
       "    .dataframe tbody tr th {\n",
       "        vertical-align: top;\n",
       "    }\n",
       "\n",
       "    .dataframe thead th {\n",
       "        text-align: right;\n",
       "    }\n",
       "</style>\n",
       "<table border=\"1\" class=\"dataframe\">\n",
       "  <thead>\n",
       "    <tr style=\"text-align: right;\">\n",
       "      <th></th>\n",
       "      <th>Unnamed: 0</th>\n",
       "      <th>Unnamed: 1</th>\n",
       "      <th>Unnamed: 2</th>\n",
       "      <th>Unnamed: 3</th>\n",
       "      <th>Unnamed: 4</th>\n",
       "      <th>Unnamed: 5</th>\n",
       "      <th>Unnamed: 6</th>\n",
       "      <th>Unnamed: 7</th>\n",
       "      <th>Unnamed: 8</th>\n",
       "      <th>Unnamed: 9</th>\n",
       "      <th>...</th>\n",
       "      <th>Unnamed: 28</th>\n",
       "      <th>Unnamed: 29</th>\n",
       "      <th>Unnamed: 30</th>\n",
       "      <th>Unnamed: 31</th>\n",
       "      <th>Unnamed: 32</th>\n",
       "      <th>Unnamed: 33</th>\n",
       "      <th>Unnamed: 34</th>\n",
       "      <th>Unnamed: 35</th>\n",
       "      <th>Unnamed: 36</th>\n",
       "      <th>Unnamed: 37</th>\n",
       "    </tr>\n",
       "  </thead>\n",
       "  <tbody>\n",
       "    <tr>\n",
       "      <th>0</th>\n",
       "      <td>NaN</td>\n",
       "      <td>NaN</td>\n",
       "      <td>NaN</td>\n",
       "      <td>NaN</td>\n",
       "      <td>NaN</td>\n",
       "      <td>NaN</td>\n",
       "      <td>NaN</td>\n",
       "      <td>NaN</td>\n",
       "      <td>NaN</td>\n",
       "      <td>NaN</td>\n",
       "      <td>...</td>\n",
       "      <td>NaN</td>\n",
       "      <td>NaN</td>\n",
       "      <td>NaN</td>\n",
       "      <td>NaN</td>\n",
       "      <td>NaN</td>\n",
       "      <td>NaN</td>\n",
       "      <td>NaN</td>\n",
       "      <td>NaN</td>\n",
       "      <td>NaN</td>\n",
       "      <td>NaN</td>\n",
       "    </tr>\n",
       "    <tr>\n",
       "      <th>1</th>\n",
       "      <td>NaN</td>\n",
       "      <td>NaN</td>\n",
       "      <td>NaN</td>\n",
       "      <td>NaN</td>\n",
       "      <td>NaN</td>\n",
       "      <td>NaN</td>\n",
       "      <td>NaN</td>\n",
       "      <td>NaN</td>\n",
       "      <td>NaN</td>\n",
       "      <td>NaN</td>\n",
       "      <td>...</td>\n",
       "      <td>NaN</td>\n",
       "      <td>NaN</td>\n",
       "      <td>NaN</td>\n",
       "      <td>NaN</td>\n",
       "      <td>NaN</td>\n",
       "      <td>NaN</td>\n",
       "      <td>NaN</td>\n",
       "      <td>NaN</td>\n",
       "      <td>NaN</td>\n",
       "      <td>NaN</td>\n",
       "    </tr>\n",
       "    <tr>\n",
       "      <th>2</th>\n",
       "      <td>NaN</td>\n",
       "      <td>NaN</td>\n",
       "      <td>NaN</td>\n",
       "      <td>NaN</td>\n",
       "      <td>NaN</td>\n",
       "      <td>NaN</td>\n",
       "      <td>NaN</td>\n",
       "      <td>NaN</td>\n",
       "      <td>NaN</td>\n",
       "      <td>NaN</td>\n",
       "      <td>...</td>\n",
       "      <td>NaN</td>\n",
       "      <td>NaN</td>\n",
       "      <td>NaN</td>\n",
       "      <td>NaN</td>\n",
       "      <td>NaN</td>\n",
       "      <td>NaN</td>\n",
       "      <td>NaN</td>\n",
       "      <td>NaN</td>\n",
       "      <td>NaN</td>\n",
       "      <td>NaN</td>\n",
       "    </tr>\n",
       "    <tr>\n",
       "      <th>3</th>\n",
       "      <td>United Nations</td>\n",
       "      <td>NaN</td>\n",
       "      <td>NaN</td>\n",
       "      <td>NaN</td>\n",
       "      <td>NaN</td>\n",
       "      <td>NaN</td>\n",
       "      <td>NaN</td>\n",
       "      <td>NaN</td>\n",
       "      <td>NaN</td>\n",
       "      <td>NaN</td>\n",
       "      <td>...</td>\n",
       "      <td>NaN</td>\n",
       "      <td>NaN</td>\n",
       "      <td>NaN</td>\n",
       "      <td>NaN</td>\n",
       "      <td>NaN</td>\n",
       "      <td>NaN</td>\n",
       "      <td>NaN</td>\n",
       "      <td>NaN</td>\n",
       "      <td>NaN</td>\n",
       "      <td>NaN</td>\n",
       "    </tr>\n",
       "    <tr>\n",
       "      <th>4</th>\n",
       "      <td>Population Division</td>\n",
       "      <td>NaN</td>\n",
       "      <td>NaN</td>\n",
       "      <td>NaN</td>\n",
       "      <td>NaN</td>\n",
       "      <td>NaN</td>\n",
       "      <td>NaN</td>\n",
       "      <td>NaN</td>\n",
       "      <td>NaN</td>\n",
       "      <td>NaN</td>\n",
       "      <td>...</td>\n",
       "      <td>NaN</td>\n",
       "      <td>NaN</td>\n",
       "      <td>NaN</td>\n",
       "      <td>NaN</td>\n",
       "      <td>NaN</td>\n",
       "      <td>NaN</td>\n",
       "      <td>NaN</td>\n",
       "      <td>NaN</td>\n",
       "      <td>NaN</td>\n",
       "      <td>NaN</td>\n",
       "    </tr>\n",
       "  </tbody>\n",
       "</table>\n",
       "<p>5 rows × 38 columns</p>\n",
       "</div>"
      ],
      "text/plain": [
       "            Unnamed: 0 Unnamed: 1 Unnamed: 2 Unnamed: 3 Unnamed: 4 Unnamed: 5  \\\n",
       "0                  NaN        NaN        NaN        NaN        NaN        NaN   \n",
       "1                  NaN        NaN        NaN        NaN        NaN        NaN   \n",
       "2                  NaN        NaN        NaN        NaN        NaN        NaN   \n",
       "3       United Nations        NaN        NaN        NaN        NaN        NaN   \n",
       "4  Population Division        NaN        NaN        NaN        NaN        NaN   \n",
       "\n",
       "  Unnamed: 6 Unnamed: 7 Unnamed: 8 Unnamed: 9  ... Unnamed: 28 Unnamed: 29  \\\n",
       "0        NaN        NaN        NaN        NaN  ...         NaN         NaN   \n",
       "1        NaN        NaN        NaN        NaN  ...         NaN         NaN   \n",
       "2        NaN        NaN        NaN        NaN  ...         NaN         NaN   \n",
       "3        NaN        NaN        NaN        NaN  ...         NaN         NaN   \n",
       "4        NaN        NaN        NaN        NaN  ...         NaN         NaN   \n",
       "\n",
       "  Unnamed: 30 Unnamed: 31 Unnamed: 32 Unnamed: 33 Unnamed: 34  Unnamed: 35  \\\n",
       "0         NaN         NaN         NaN         NaN         NaN          NaN   \n",
       "1         NaN         NaN         NaN         NaN         NaN          NaN   \n",
       "2         NaN         NaN         NaN         NaN         NaN          NaN   \n",
       "3         NaN         NaN         NaN         NaN         NaN          NaN   \n",
       "4         NaN         NaN         NaN         NaN         NaN          NaN   \n",
       "\n",
       "  Unnamed: 36  Unnamed: 37  \n",
       "0         NaN          NaN  \n",
       "1         NaN          NaN  \n",
       "2         NaN          NaN  \n",
       "3         NaN          NaN  \n",
       "4         NaN          NaN  \n",
       "\n",
       "[5 rows x 38 columns]"
      ]
     },
     "execution_count": 52,
     "metadata": {},
     "output_type": "execute_result"
    }
   ],
   "source": [
    "df_can = pd.read_excel(url)\n",
    "df_can.head()"
   ]
  },
  {
   "cell_type": "code",
   "execution_count": 53,
   "id": "c3d9387d-a0eb-4026-9ed9-e185a89cfdeb",
   "metadata": {},
   "outputs": [
    {
     "data": {
      "text/html": [
       "<div>\n",
       "<style scoped>\n",
       "    .dataframe tbody tr th:only-of-type {\n",
       "        vertical-align: middle;\n",
       "    }\n",
       "\n",
       "    .dataframe tbody tr th {\n",
       "        vertical-align: top;\n",
       "    }\n",
       "\n",
       "    .dataframe thead th {\n",
       "        text-align: right;\n",
       "    }\n",
       "</style>\n",
       "<table border=\"1\" class=\"dataframe\">\n",
       "  <thead>\n",
       "    <tr style=\"text-align: right;\">\n",
       "      <th></th>\n",
       "      <th>Unnamed: 0</th>\n",
       "      <th>Unnamed: 1</th>\n",
       "      <th>Unnamed: 2</th>\n",
       "      <th>Unnamed: 3</th>\n",
       "      <th>Unnamed: 4</th>\n",
       "      <th>Unnamed: 5</th>\n",
       "      <th>Unnamed: 6</th>\n",
       "      <th>Unnamed: 7</th>\n",
       "      <th>Unnamed: 8</th>\n",
       "      <th>Unnamed: 9</th>\n",
       "      <th>...</th>\n",
       "      <th>Unnamed: 28</th>\n",
       "      <th>Unnamed: 29</th>\n",
       "      <th>Unnamed: 30</th>\n",
       "      <th>Unnamed: 31</th>\n",
       "      <th>Unnamed: 32</th>\n",
       "      <th>Unnamed: 33</th>\n",
       "      <th>Unnamed: 34</th>\n",
       "      <th>Unnamed: 35</th>\n",
       "      <th>Unnamed: 36</th>\n",
       "      <th>Unnamed: 37</th>\n",
       "    </tr>\n",
       "  </thead>\n",
       "  <tbody>\n",
       "    <tr>\n",
       "      <th>44</th>\n",
       "      <td>Immigrants</td>\n",
       "      <td>Foreigners</td>\n",
       "      <td>Oceania</td>\n",
       "      <td>Melanesia</td>\n",
       "      <td>632</td>\n",
       "      <td>707</td>\n",
       "      <td>816</td>\n",
       "      <td>558</td>\n",
       "      <td>391</td>\n",
       "      <td>448</td>\n",
       "      <td>...</td>\n",
       "      <td>497</td>\n",
       "      <td>300</td>\n",
       "      <td>278</td>\n",
       "      <td>304</td>\n",
       "      <td>331</td>\n",
       "      <td>313</td>\n",
       "      <td>401</td>\n",
       "      <td>316</td>\n",
       "      <td>273.0</td>\n",
       "      <td>NaN</td>\n",
       "    </tr>\n",
       "    <tr>\n",
       "      <th>45</th>\n",
       "      <td>Immigrants</td>\n",
       "      <td>Foreigners</td>\n",
       "      <td>Oceania</td>\n",
       "      <td>Micronesia</td>\n",
       "      <td>1</td>\n",
       "      <td>..</td>\n",
       "      <td>..</td>\n",
       "      <td>1</td>\n",
       "      <td>..</td>\n",
       "      <td>..</td>\n",
       "      <td>...</td>\n",
       "      <td>1</td>\n",
       "      <td>2</td>\n",
       "      <td>1</td>\n",
       "      <td>3</td>\n",
       "      <td>1</td>\n",
       "      <td>2</td>\n",
       "      <td>..</td>\n",
       "      <td>..</td>\n",
       "      <td>2.0</td>\n",
       "      <td>NaN</td>\n",
       "    </tr>\n",
       "    <tr>\n",
       "      <th>46</th>\n",
       "      <td>Immigrants</td>\n",
       "      <td>Foreigners</td>\n",
       "      <td>Oceania</td>\n",
       "      <td>Polynesia</td>\n",
       "      <td>5</td>\n",
       "      <td>13</td>\n",
       "      <td>11</td>\n",
       "      <td>2</td>\n",
       "      <td>6</td>\n",
       "      <td>5</td>\n",
       "      <td>...</td>\n",
       "      <td>10</td>\n",
       "      <td>4</td>\n",
       "      <td>1</td>\n",
       "      <td>3</td>\n",
       "      <td>4</td>\n",
       "      <td>7</td>\n",
       "      <td>10</td>\n",
       "      <td>6</td>\n",
       "      <td>5.0</td>\n",
       "      <td>NaN</td>\n",
       "    </tr>\n",
       "    <tr>\n",
       "      <th>47</th>\n",
       "      <td>Immigrants</td>\n",
       "      <td>Foreigners</td>\n",
       "      <td>Oceania Total</td>\n",
       "      <td>NaN</td>\n",
       "      <td>1942</td>\n",
       "      <td>1839</td>\n",
       "      <td>1675</td>\n",
       "      <td>1018</td>\n",
       "      <td>878</td>\n",
       "      <td>920</td>\n",
       "      <td>...</td>\n",
       "      <td>1788</td>\n",
       "      <td>1585</td>\n",
       "      <td>1473</td>\n",
       "      <td>1693</td>\n",
       "      <td>1834</td>\n",
       "      <td>1860</td>\n",
       "      <td>1834</td>\n",
       "      <td>1548</td>\n",
       "      <td>1679.0</td>\n",
       "      <td>NaN</td>\n",
       "    </tr>\n",
       "    <tr>\n",
       "      <th>48</th>\n",
       "      <td>Immigrants</td>\n",
       "      <td>Foreigners</td>\n",
       "      <td>Unknown</td>\n",
       "      <td>Unknown</td>\n",
       "      <td>44000</td>\n",
       "      <td>18078</td>\n",
       "      <td>16904</td>\n",
       "      <td>13635</td>\n",
       "      <td>14855</td>\n",
       "      <td>14368</td>\n",
       "      <td>...</td>\n",
       "      <td>3739</td>\n",
       "      <td>4785</td>\n",
       "      <td>4583</td>\n",
       "      <td>4348</td>\n",
       "      <td>4197</td>\n",
       "      <td>3402</td>\n",
       "      <td>3731</td>\n",
       "      <td>2554</td>\n",
       "      <td>1681.0</td>\n",
       "      <td>NaN</td>\n",
       "    </tr>\n",
       "  </tbody>\n",
       "</table>\n",
       "<p>5 rows × 38 columns</p>\n",
       "</div>"
      ],
      "text/plain": [
       "    Unnamed: 0  Unnamed: 1     Unnamed: 2  Unnamed: 3 Unnamed: 4 Unnamed: 5  \\\n",
       "44  Immigrants  Foreigners        Oceania   Melanesia        632        707   \n",
       "45  Immigrants  Foreigners        Oceania  Micronesia          1         ..   \n",
       "46  Immigrants  Foreigners        Oceania   Polynesia          5         13   \n",
       "47  Immigrants  Foreigners  Oceania Total         NaN       1942       1839   \n",
       "48  Immigrants  Foreigners        Unknown     Unknown      44000      18078   \n",
       "\n",
       "   Unnamed: 6 Unnamed: 7 Unnamed: 8 Unnamed: 9  ... Unnamed: 28 Unnamed: 29  \\\n",
       "44        816        558        391        448  ...         497         300   \n",
       "45         ..          1         ..         ..  ...           1           2   \n",
       "46         11          2          6          5  ...          10           4   \n",
       "47       1675       1018        878        920  ...        1788        1585   \n",
       "48      16904      13635      14855      14368  ...        3739        4785   \n",
       "\n",
       "   Unnamed: 30 Unnamed: 31 Unnamed: 32 Unnamed: 33 Unnamed: 34  Unnamed: 35  \\\n",
       "44         278         304         331         313         401          316   \n",
       "45           1           3           1           2          ..           ..   \n",
       "46           1           3           4           7          10            6   \n",
       "47        1473        1693        1834        1860        1834         1548   \n",
       "48        4583        4348        4197        3402        3731         2554   \n",
       "\n",
       "   Unnamed: 36  Unnamed: 37  \n",
       "44       273.0          NaN  \n",
       "45         2.0          NaN  \n",
       "46         5.0          NaN  \n",
       "47      1679.0          NaN  \n",
       "48      1681.0          NaN  \n",
       "\n",
       "[5 rows x 38 columns]"
      ]
     },
     "execution_count": 53,
     "metadata": {},
     "output_type": "execute_result"
    }
   ],
   "source": [
    "df_can.tail()"
   ]
  },
  {
   "cell_type": "markdown",
   "id": "7fe3cd8c-d21c-47c4-b5e3-1093e1f95239",
   "metadata": {},
   "source": [
    "##### When analyzing a dataset, it's always a good idea to start by getting basic information about your dataframe. We can do this by using the info() method.\n",
    "\n",
    "This method can be used to get a short summary of the dataframe."
   ]
  },
  {
   "cell_type": "code",
   "execution_count": 54,
   "id": "a1de5f2a-f565-49b8-bd8b-6b3519900467",
   "metadata": {},
   "outputs": [
    {
     "name": "stdout",
     "output_type": "stream",
     "text": [
      "<class 'pandas.core.frame.DataFrame'>\n",
      "RangeIndex: 49 entries, 0 to 48\n",
      "Columns: 38 entries, Unnamed: 0 to Unnamed: 37\n",
      "dtypes: float64(5), object(33)\n",
      "memory usage: 14.7+ KB\n"
     ]
    }
   ],
   "source": [
    "df_can.info(verbose=False)"
   ]
  },
  {
   "cell_type": "markdown",
   "id": "17572ed9-057c-4a83-ab35-44939337228a",
   "metadata": {},
   "source": [
    "##### To get the list of column headers we can call upon the data frame's `columns` instance variable.\n"
   ]
  },
  {
   "cell_type": "code",
   "execution_count": 55,
   "id": "d109fe8d-3938-4216-9cd4-1dee48b09b24",
   "metadata": {},
   "outputs": [
    {
     "data": {
      "text/plain": [
       "Index(['Unnamed: 0', 'Unnamed: 1', 'Unnamed: 2', 'Unnamed: 3', 'Unnamed: 4',\n",
       "       'Unnamed: 5', 'Unnamed: 6', 'Unnamed: 7', 'Unnamed: 8', 'Unnamed: 9',\n",
       "       'Unnamed: 10', 'Unnamed: 11', 'Unnamed: 12', 'Unnamed: 13',\n",
       "       'Unnamed: 14', 'Unnamed: 15', 'Unnamed: 16', 'Unnamed: 17',\n",
       "       'Unnamed: 18', 'Unnamed: 19', 'Unnamed: 20', 'Unnamed: 21',\n",
       "       'Unnamed: 22', 'Unnamed: 23', 'Unnamed: 24', 'Unnamed: 25',\n",
       "       'Unnamed: 26', 'Unnamed: 27', 'Unnamed: 28', 'Unnamed: 29',\n",
       "       'Unnamed: 30', 'Unnamed: 31', 'Unnamed: 32', 'Unnamed: 33',\n",
       "       'Unnamed: 34', 'Unnamed: 35', 'Unnamed: 36', 'Unnamed: 37'],\n",
       "      dtype='object')"
      ]
     },
     "execution_count": 55,
     "metadata": {},
     "output_type": "execute_result"
    }
   ],
   "source": [
    "df_can.columns"
   ]
  },
  {
   "cell_type": "markdown",
   "id": "5cd2bb59-e559-48c9-a049-1a15ae4b49de",
   "metadata": {},
   "source": [
    "##### Similarly, to get the list of indices we use the .index instance variables."
   ]
  },
  {
   "cell_type": "code",
   "execution_count": 56,
   "id": "c68c5b25-8da6-4704-8d2a-e3685238775c",
   "metadata": {},
   "outputs": [
    {
     "data": {
      "text/plain": [
       "RangeIndex(start=0, stop=49, step=1)"
      ]
     },
     "execution_count": 56,
     "metadata": {},
     "output_type": "execute_result"
    }
   ],
   "source": [
    "df_can.index"
   ]
  },
  {
   "cell_type": "markdown",
   "id": "636ce765-1a56-4639-a725-17cf86b6d5fe",
   "metadata": {},
   "source": [
    "##### Note: The default type of intance variables index and columns are NOT list."
   ]
  },
  {
   "cell_type": "code",
   "execution_count": 57,
   "id": "1539e7b4-8d34-427e-bbd6-76151edae0e2",
   "metadata": {},
   "outputs": [
    {
     "name": "stdout",
     "output_type": "stream",
     "text": [
      "<class 'pandas.core.indexes.base.Index'>\n",
      "<class 'pandas.core.indexes.range.RangeIndex'>\n"
     ]
    }
   ],
   "source": [
    "print(type(df_can.columns))\n",
    "print(type(df_can.index))"
   ]
  },
  {
   "cell_type": "markdown",
   "id": "9e0408d3-b496-46e3-90d7-9b5067f7b166",
   "metadata": {},
   "source": [
    "##### To get the index and columns as lists, we can use the tolist() method."
   ]
  },
  {
   "cell_type": "code",
   "execution_count": 58,
   "id": "e5c300f9-4bd1-4152-9bee-6b4147dabd3e",
   "metadata": {},
   "outputs": [
    {
     "data": {
      "text/plain": [
       "['Unnamed: 0',\n",
       " 'Unnamed: 1',\n",
       " 'Unnamed: 2',\n",
       " 'Unnamed: 3',\n",
       " 'Unnamed: 4',\n",
       " 'Unnamed: 5',\n",
       " 'Unnamed: 6',\n",
       " 'Unnamed: 7',\n",
       " 'Unnamed: 8',\n",
       " 'Unnamed: 9',\n",
       " 'Unnamed: 10',\n",
       " 'Unnamed: 11',\n",
       " 'Unnamed: 12',\n",
       " 'Unnamed: 13',\n",
       " 'Unnamed: 14',\n",
       " 'Unnamed: 15',\n",
       " 'Unnamed: 16',\n",
       " 'Unnamed: 17',\n",
       " 'Unnamed: 18',\n",
       " 'Unnamed: 19',\n",
       " 'Unnamed: 20',\n",
       " 'Unnamed: 21',\n",
       " 'Unnamed: 22',\n",
       " 'Unnamed: 23',\n",
       " 'Unnamed: 24',\n",
       " 'Unnamed: 25',\n",
       " 'Unnamed: 26',\n",
       " 'Unnamed: 27',\n",
       " 'Unnamed: 28',\n",
       " 'Unnamed: 29',\n",
       " 'Unnamed: 30',\n",
       " 'Unnamed: 31',\n",
       " 'Unnamed: 32',\n",
       " 'Unnamed: 33',\n",
       " 'Unnamed: 34',\n",
       " 'Unnamed: 35',\n",
       " 'Unnamed: 36',\n",
       " 'Unnamed: 37']"
      ]
     },
     "execution_count": 58,
     "metadata": {},
     "output_type": "execute_result"
    }
   ],
   "source": [
    "df_can.columns.tolist()"
   ]
  },
  {
   "cell_type": "code",
   "execution_count": 59,
   "id": "f93377f8-547f-4a87-bd3c-af5a6cd11310",
   "metadata": {},
   "outputs": [
    {
     "data": {
      "text/plain": [
       "[0,\n",
       " 1,\n",
       " 2,\n",
       " 3,\n",
       " 4,\n",
       " 5,\n",
       " 6,\n",
       " 7,\n",
       " 8,\n",
       " 9,\n",
       " 10,\n",
       " 11,\n",
       " 12,\n",
       " 13,\n",
       " 14,\n",
       " 15,\n",
       " 16,\n",
       " 17,\n",
       " 18,\n",
       " 19,\n",
       " 20,\n",
       " 21,\n",
       " 22,\n",
       " 23,\n",
       " 24,\n",
       " 25,\n",
       " 26,\n",
       " 27,\n",
       " 28,\n",
       " 29,\n",
       " 30,\n",
       " 31,\n",
       " 32,\n",
       " 33,\n",
       " 34,\n",
       " 35,\n",
       " 36,\n",
       " 37,\n",
       " 38,\n",
       " 39,\n",
       " 40,\n",
       " 41,\n",
       " 42,\n",
       " 43,\n",
       " 44,\n",
       " 45,\n",
       " 46,\n",
       " 47,\n",
       " 48]"
      ]
     },
     "execution_count": 59,
     "metadata": {},
     "output_type": "execute_result"
    }
   ],
   "source": [
    "df_can.index.tolist()"
   ]
  },
  {
   "cell_type": "code",
   "execution_count": 60,
   "id": "c1503ae9-166c-4fe9-9a6f-e7adf6ab55d4",
   "metadata": {},
   "outputs": [
    {
     "name": "stdout",
     "output_type": "stream",
     "text": [
      "<class 'list'>\n",
      "<class 'list'>\n"
     ]
    }
   ],
   "source": [
    "print(type(df_can.columns.tolist()))\n",
    "print(type(df_can.index.tolist()))"
   ]
  },
  {
   "cell_type": "markdown",
   "id": "640cb544-c431-4a92-b8bd-05ac8efb4c23",
   "metadata": {},
   "source": [
    "##### To view the dimensions of the dataframe, we use the `shape` instance variable of it.\n"
   ]
  },
  {
   "cell_type": "code",
   "execution_count": 62,
   "id": "ba70ed9c-99eb-47bb-9c19-2f2ab2d96cee",
   "metadata": {},
   "outputs": [
    {
     "data": {
      "text/plain": [
       "(49, 38)"
      ]
     },
     "execution_count": 62,
     "metadata": {},
     "output_type": "execute_result"
    }
   ],
   "source": [
    "# size of dataframe (rows, columns)\n",
    "df_can.shape"
   ]
  },
  {
   "cell_type": "markdown",
   "id": "3992e037-ed81-4077-9863-378786085efa",
   "metadata": {},
   "source": [
    "##### **Note**: The main types stored in *pandas* objects are `float`, `int`, `bool`, `datetime64[ns]`, `datetime64[ns, tz]`, `timedelta[ns]`, `category`, and `object` (string). In addition, these dtypes have item sizes, e.g. `int64` and `int32`.\n"
   ]
  },
  {
   "cell_type": "markdown",
   "id": "5bb62dd2-87c7-4b1f-9d3e-9e1277f7f014",
   "metadata": {},
   "source": [
    "##### Let's clean the data set to remove a few unnecessary columns. We can use *pandas* `drop()` method as follows:\n"
   ]
  },
  {
   "cell_type": "code",
   "execution_count": 71,
   "id": "465e77d7-09af-404f-b45c-8fa11c96d738",
   "metadata": {},
   "outputs": [],
   "source": [
    "# in pandas axis=0 represents rows (default) and axis=1 represents columns.\n",
    "\n",
    "# df_can.drop(['AREA','REG','DEV','Type','Coverage'], axis=1, inplace=True)\n",
    "# df_can.head(2)\n",
    "\n",
    "# mine is wrong table"
   ]
  },
  {
   "cell_type": "markdown",
   "id": "49a267a2-d23d-4ebb-8911-7f087d056d4d",
   "metadata": {},
   "source": [
    "##### Let's rename the columns so that they make sense. We can use `rename()` method by passing in a dictionary of old and new names as follows:\n"
   ]
  },
  {
   "cell_type": "code",
   "execution_count": 72,
   "id": "783f6865-39e9-4ae7-8a3d-8f2877e48c29",
   "metadata": {},
   "outputs": [],
   "source": [
    "# df_can.rename(columns={'OdName':'Country', 'AreaName':'Continent', 'RegName':'Region'}, inplace=True)\n",
    "# df_can.columns"
   ]
  },
  {
   "cell_type": "markdown",
   "id": "96fe5be1-fd75-465c-9537-ec7620f4d7e0",
   "metadata": {},
   "source": [
    "##### We will also add a 'Total' column that sums up the total immigrants by country over the entire period 1980 - 2013, as follows:\n"
   ]
  },
  {
   "cell_type": "code",
   "execution_count": 73,
   "id": "239c877a-b3cc-4ffc-a185-b3f99320fa88",
   "metadata": {},
   "outputs": [],
   "source": [
    "# df_can['Total'] = df_can.sum(axis=1)\n",
    "# df_can['Total']"
   ]
  },
  {
   "cell_type": "markdown",
   "id": "47df472b-0493-40d5-9668-88f74f570696",
   "metadata": {},
   "source": [
    "##### We can check to see how many null objects we have in the dataset as follows:\n"
   ]
  },
  {
   "cell_type": "code",
   "execution_count": 67,
   "id": "3dcc54ee-e200-4842-8b2f-bfce577a0993",
   "metadata": {},
   "outputs": [],
   "source": [
    "# df_can.isnull().sum()"
   ]
  },
  {
   "cell_type": "markdown",
   "id": "a7f4d988-cb55-4d49-8c68-dc7622128127",
   "metadata": {},
   "source": [
    "##### Finally, let's view a quick summary of each column in our dataframe using the `describe()` method.\n"
   ]
  },
  {
   "cell_type": "code",
   "execution_count": 68,
   "id": "fa4fa473-8aec-4c9f-b81d-a2f628bdf312",
   "metadata": {},
   "outputs": [],
   "source": [
    "# df_can.describe()"
   ]
  },
  {
   "cell_type": "code",
   "execution_count": null,
   "id": "07a92f78-637e-4652-b425-39a94ae59c5e",
   "metadata": {},
   "outputs": [],
   "source": []
  },
  {
   "cell_type": "code",
   "execution_count": null,
   "id": "2672be12-2b42-4a52-bebb-a875b3cedfdf",
   "metadata": {},
   "outputs": [],
   "source": []
  },
  {
   "cell_type": "markdown",
   "id": "16e8d154-ece2-4327-b9c3-e00555b781a9",
   "metadata": {},
   "source": [
    "## pandas Intermediate: Indexing and Selection (slicing)"
   ]
  },
  {
   "cell_type": "markdown",
   "id": "a79d750c-f9ce-4bfc-b1af-1c400ee3fcd6",
   "metadata": {},
   "source": [
    "### Select Column\n",
    "There are two ways to filter on a column name:\n",
    "\n",
    "Method 1: Quick and easy, but only works if the column name does NOT have spaces or special characters.\n",
    "\n",
    "    df.column_name               # returns series\n",
    "Method 2: More robust, and can filter on multiple columns.\n",
    "\n",
    "    df['column']                  # returns series\n",
    "    df[['column 1', 'column 2']]  # returns dataframe"
   ]
  },
  {
   "cell_type": "markdown",
   "id": "08505522-4814-4146-b765-9222ab8d09a0",
   "metadata": {},
   "source": [
    "##### Example: Let's try filtering on the list of countries ('Country').\n"
   ]
  },
  {
   "cell_type": "code",
   "execution_count": 69,
   "id": "675b24f6-6cdf-4ef2-9d7a-d1df104172b9",
   "metadata": {},
   "outputs": [],
   "source": [
    "# df_can.Country  # returns a series"
   ]
  },
  {
   "cell_type": "markdown",
   "id": "446becc6-c73a-4b41-bfa5-9bb441488fe5",
   "metadata": {},
   "source": [
    "##### Let's try filtering on the list of countries ('Country') and the data for years: 1980 - 1985.\n"
   ]
  },
  {
   "cell_type": "code",
   "execution_count": 70,
   "id": "1be50f0e-ce28-46a9-a37b-e84a5962ab98",
   "metadata": {},
   "outputs": [],
   "source": [
    "# df_can[['Country', 1980, 1981, 1982, 1983, 1984, 1985]] # returns a dataframe\n",
    "# notice that 'Country' is string, and the years are integers. \n",
    "# for the sake of consistency, we will convert all column names to string later on."
   ]
  },
  {
   "cell_type": "markdown",
   "id": "82f43ecc-e10b-4743-bc01-cc3165d8962f",
   "metadata": {},
   "source": [
    "## Select Row\n",
    "There are main 2 ways to select rows:\n",
    "\n",
    "    df.loc[label]    # filters by the labels of the index/column\n",
    "    df.iloc[index]   # filters by the positions of the index/column"
   ]
  },
  {
   "cell_type": "markdown",
   "id": "95a955d1-619d-4793-89b7-17b5a7d56b0a",
   "metadata": {},
   "source": [
    "#### Before we proceed, notice that the default index of the dataset is a numeric range from 0 to 194. This makes it very difficult to do a query by a specific country. For example to search for data on Japan, we need to know the corresponding index value.\n",
    "\n",
    "##### This can be fixed very easily by setting the 'Country' column as the index using set_index() method."
   ]
  },
  {
   "cell_type": "code",
   "execution_count": 75,
   "id": "416e6be0-9602-4f0e-8f6a-dbe647e91bcb",
   "metadata": {},
   "outputs": [],
   "source": [
    "# df_can.set_index('Country', inplace=True)\n",
    "# tip: The opposite of set is reset. So to reset the index, we can use df_can.reset_index()"
   ]
  },
  {
   "cell_type": "code",
   "execution_count": 76,
   "id": "7d2b4785-652b-4824-afd4-1315047923d7",
   "metadata": {},
   "outputs": [],
   "source": [
    "# df_can.set_index('Country', inplace=True)\n",
    "# tip: The opposite of set is reset. So to reset the index, we can use df_can.reset_index()"
   ]
  },
  {
   "cell_type": "markdown",
   "id": "9f52bb68-2531-467d-aa52-0ffaf383701d",
   "metadata": {},
   "source": [
    "##### Example: Let's view the number of immigrants from Japan (row 87) for the following scenarios:\n",
    "    1. The full row data (all columns)\n",
    "    2. For year 2013\n",
    "    3. For years 1980 to 1985"
   ]
  },
  {
   "cell_type": "markdown",
   "id": "1d030de9-4126-42c0-9d31-ea38ae2e63b4",
   "metadata": {},
   "source": [
    "#### # 1. the full row data (all columns)\n",
    "       df_can.loc['Japan']"
   ]
  },
  {
   "cell_type": "markdown",
   "id": "b75fcd6f-86ba-4175-b7d4-d4147c549637",
   "metadata": {},
   "source": [
    "#### # alternate methods\n",
    "       df_can.iloc[87]"
   ]
  },
  {
   "cell_type": "code",
   "execution_count": 78,
   "id": "8c3a480d-c681-49f6-9e97-36eab9dc439f",
   "metadata": {},
   "outputs": [],
   "source": [
    "# df_can[df_can.index == 'Japan']"
   ]
  },
  {
   "cell_type": "code",
   "execution_count": 79,
   "id": "e502b3e6-f2e2-454d-b777-95604d231e43",
   "metadata": {},
   "outputs": [],
   "source": [
    "# alternate methods\n",
    "# df_can.iloc[87]"
   ]
  },
  {
   "cell_type": "code",
   "execution_count": 80,
   "id": "dace467e-9e8b-4fd0-9884-c668b8bccd6a",
   "metadata": {},
   "outputs": [],
   "source": [
    "# df_can[df_can.index == 'Japan']"
   ]
  },
  {
   "cell_type": "code",
   "execution_count": 81,
   "id": "53bf51dc-a2b8-47d1-9d4f-a8513533845e",
   "metadata": {},
   "outputs": [],
   "source": [
    "# 2. for year 2013\n",
    "# df_can.loc['Japan', 2013]"
   ]
  },
  {
   "cell_type": "code",
   "execution_count": 82,
   "id": "e963a0d1-e68e-45cf-be8f-f93f7b7b8281",
   "metadata": {},
   "outputs": [],
   "source": [
    "# alternate method\n",
    "# year 2013 is the last column, with a positional index of 36\n",
    "# df_can.iloc[87, 36]"
   ]
  },
  {
   "cell_type": "code",
   "execution_count": 83,
   "id": "3886184b-28a2-4e1d-a1e9-1c88499f492d",
   "metadata": {},
   "outputs": [],
   "source": [
    "# 3. for years 1980 to 1985\n",
    "# df_can.loc['Japan', [1980, 1981, 1982, 1983, 1984, 1984]]"
   ]
  },
  {
   "cell_type": "code",
   "execution_count": 84,
   "id": "d12b5a49-c001-4095-bd0c-92f8d851bb3b",
   "metadata": {},
   "outputs": [],
   "source": [
    "# Alternative Method\n",
    "# df_can.iloc[87, [3, 4, 5, 6, 7, 8]]"
   ]
  },
  {
   "cell_type": "code",
   "execution_count": null,
   "id": "d086c00f-2d97-4b81-a1c3-7825693d7a8f",
   "metadata": {},
   "outputs": [],
   "source": []
  },
  {
   "cell_type": "markdown",
   "id": "587c2621-9222-485c-a097-265c3ca8825d",
   "metadata": {},
   "source": [
    "## **Exercise:** Let's view the number of immigrants from **Haiti** for the following scenarios: <br>1. The full row data (all columns) <br>2. For year 2000 <br>3. For years 1990 to 1995\n"
   ]
  },
  {
   "cell_type": "code",
   "execution_count": 86,
   "id": "2161dce4-efb5-4290-81aa-b7ce9cc2092e",
   "metadata": {},
   "outputs": [
    {
     "ename": "IndentationError",
     "evalue": "unexpected indent (2418242641.py, line 2)",
     "output_type": "error",
     "traceback": [
      "\u001b[1;36m  Cell \u001b[1;32mIn[86], line 2\u001b[1;36m\u001b[0m\n\u001b[1;33m    df_can.loc['Haiti']\u001b[0m\n\u001b[1;37m    ^\u001b[0m\n\u001b[1;31mIndentationError\u001b[0m\u001b[1;31m:\u001b[0m unexpected indent\n"
     ]
    }
   ],
   "source": [
    "# 1. the full row data (all columns)\n",
    "    df_can.loc['Haiti']\n",
    "    #or\n",
    "    df_can[df_can.index == 'Haiti']\n",
    "\n",
    "    # 2. for year 2000\n",
    "    df_can.loc['Haiti', 2000]\n",
    "           \n",
    "    #  3. for years 1990 to 1995\n",
    "    df_can.loc['Haiti', [1990, 1991, 1992, 1993, 1994, 1995]]"
   ]
  },
  {
   "cell_type": "markdown",
   "id": "6fd548e8-2f19-4f05-b468-b8cf6271232b",
   "metadata": {},
   "source": [
    "##### Column names that are integers (such as the years) might introduce some confusion. For example, when we are referencing the year 2013, one might confuse that when the 2013th positional index.\n",
    "\n",
    "To avoid this ambuigity, let's convert the column names into strings: '1980' to '2013'."
   ]
  },
  {
   "cell_type": "code",
   "execution_count": 87,
   "id": "d80b1200-a5f8-4dde-b1e7-67b234a744a3",
   "metadata": {},
   "outputs": [],
   "source": [
    "df_can.columns = list(map(str, df_can.columns))\n",
    "# [print (type(x)) for x in df_can.columns.values] #<-- uncomment to check type of column headers"
   ]
  },
  {
   "cell_type": "markdown",
   "id": "2bda01aa-e6e4-451d-be57-0e04ac9be086",
   "metadata": {},
   "source": [
    "#### Since we converted the years to string, let's declare a variable that will allow us to easily call upon the full range of years:\n"
   ]
  },
  {
   "cell_type": "markdown",
   "id": "ec3e67b8-a38f-4867-ba64-c95b8a614802",
   "metadata": {},
   "source": [
    "##### Since we converted the years to string, let's declare a variable that will allow us to easily call upon the full range of years:\n"
   ]
  },
  {
   "cell_type": "code",
   "execution_count": 88,
   "id": "156a59b9-f793-4c91-b8a6-51fc7a664d81",
   "metadata": {},
   "outputs": [
    {
     "data": {
      "text/plain": [
       "['1980',\n",
       " '1981',\n",
       " '1982',\n",
       " '1983',\n",
       " '1984',\n",
       " '1985',\n",
       " '1986',\n",
       " '1987',\n",
       " '1988',\n",
       " '1989',\n",
       " '1990',\n",
       " '1991',\n",
       " '1992',\n",
       " '1993',\n",
       " '1994',\n",
       " '1995',\n",
       " '1996',\n",
       " '1997',\n",
       " '1998',\n",
       " '1999',\n",
       " '2000',\n",
       " '2001',\n",
       " '2002',\n",
       " '2003',\n",
       " '2004',\n",
       " '2005',\n",
       " '2006',\n",
       " '2007',\n",
       " '2008',\n",
       " '2009',\n",
       " '2010',\n",
       " '2011',\n",
       " '2012',\n",
       " '2013']"
      ]
     },
     "execution_count": 88,
     "metadata": {},
     "output_type": "execute_result"
    }
   ],
   "source": [
    "# useful for plotting later on\n",
    "years = list(map(str, range(1980, 2014)))\n",
    "years"
   ]
  },
  {
   "cell_type": "markdown",
   "id": "d2e5c652-8ffe-4fd9-a789-6be04243e787",
   "metadata": {},
   "source": [
    "### **Exercise:** Create a list named 'year' using map function for years ranging from 1990 to 2013. <br>Then extract the data series from the dataframe df_can for Haiti using year list. \n"
   ]
  },
  {
   "cell_type": "code",
   "execution_count": 89,
   "id": "652eacc3-cdc8-40e7-b2ab-f9d0042d5a55",
   "metadata": {},
   "outputs": [
    {
     "ename": "IndentationError",
     "evalue": "unexpected indent (2904635300.py, line 2)",
     "output_type": "error",
     "traceback": [
      "\u001b[1;36m  Cell \u001b[1;32mIn[89], line 2\u001b[1;36m\u001b[0m\n\u001b[1;33m    year = list(map(str, range(1990, 2014)))\u001b[0m\n\u001b[1;37m    ^\u001b[0m\n\u001b[1;31mIndentationError\u001b[0m\u001b[1;31m:\u001b[0m unexpected indent\n"
     ]
    }
   ],
   "source": [
    " #The correct answer is:\n",
    "    year = list(map(str, range(1990, 2014)))\n",
    "    haiti = df_can.loc['Haiti', year] # passing in years 1990 - 2013"
   ]
  },
  {
   "cell_type": "markdown",
   "id": "8147ba8c-c604-45c6-afe6-c27d91f0d993",
   "metadata": {},
   "source": [
    "### Filtering based on a criteria <a id=\"4\"></a>\n",
    "To filter the dataframe based on a condition, we simply pass the condition as a boolean vector. \n",
    "\n",
    "For example, Let's filter the dataframe to show the data on Asian countries (AreaName = Asia).\n"
   ]
  },
  {
   "cell_type": "code",
   "execution_count": 91,
   "id": "ce3dc178-0446-4523-8e52-89d86c82be83",
   "metadata": {},
   "outputs": [],
   "source": [
    "# 1. create the condition boolean series\n",
    "# condition = df_can['Continent'] == 'Asia'\n",
    "# print(condition)"
   ]
  },
  {
   "cell_type": "code",
   "execution_count": 92,
   "id": "7c93b032-ae14-4de9-893e-d17012128a4e",
   "metadata": {},
   "outputs": [],
   "source": [
    "# 2. pass this condition into the dataFrame\n",
    "# df_can[condition]"
   ]
  },
  {
   "cell_type": "code",
   "execution_count": 93,
   "id": "c370fc32-f0f0-4548-9f7b-2a90a0d6cc60",
   "metadata": {},
   "outputs": [],
   "source": [
    "# we can pass multiple criteria in the same line.\n",
    "# let's filter for AreaNAme = Asia and RegName = Southern Asia\n",
    "\n",
    "# df_can[(df_can['Continent']=='Asia') & (df_can['Region']=='Southern Asia')]\n",
    "\n",
    "# note: When using 'and' and 'or' operators, pandas requires we use '&' and '|' instead of 'and' and 'or'\n",
    "# don't forget to enclose the two conditions in parentheses"
   ]
  },
  {
   "cell_type": "markdown",
   "id": "423d5592-f9b7-4807-b607-91cee0c34324",
   "metadata": {},
   "source": [
    "#### **Exercise:** Fetch the data where AreaName is 'Africa' and RegName is 'Southern Africa'. <br>Display the dataframe and find out how many instances are there?\n"
   ]
  },
  {
   "cell_type": "code",
   "execution_count": 94,
   "id": "86734e89-840b-4759-9d5e-45a9dc5f40aa",
   "metadata": {},
   "outputs": [
    {
     "ename": "SyntaxError",
     "evalue": "invalid syntax (508462953.py, line 1)",
     "output_type": "error",
     "traceback": [
      "\u001b[1;36m  Cell \u001b[1;32mIn[94], line 1\u001b[1;36m\u001b[0m\n\u001b[1;33m    Click here for a sample python solution\u001b[0m\n\u001b[1;37m          ^\u001b[0m\n\u001b[1;31mSyntaxError\u001b[0m\u001b[1;31m:\u001b[0m invalid syntax\n"
     ]
    }
   ],
   "source": [
    "Click here for a sample python solution\n",
    "    df_can[(df_can['Continent']=='Africa') & (df_can['Region']=='Southern Africa')]"
   ]
  },
  {
   "cell_type": "markdown",
   "id": "ba719b0a-0b3a-404b-a5b3-dad39658f788",
   "metadata": {},
   "source": [
    "### Sorting Values of a Dataframe or Series <a id=\"5\"></a><br>\n",
    "You can use the `sort_values()` function is used to sort a DataFrame or a Series based on one or more columns. <br>You to specify the column(s) by which you want to sort and the order (ascending or descending). Below is the syntax to use it:-<br><br>\n",
    "```df.sort_values(col_name, axis=0, ascending=True, inplace=False, ignore_index=False)```<br><br>\n",
    "col_nam - the column(s) to sort by. <br>\n",
    "axis - axis along which to sort. 0 for sorting by rows (default) and 1 for sorting by columns.<br>\n",
    "ascending - to sort in ascending order (True, default) or descending order (False).<br>\n",
    "inplace - to perform the sorting operation in-place (True) or return a sorted copy (False, default).<br>\n",
    "ignore_index - to reset the index after sorting (True) or keep the original index values (False, default).<br>"
   ]
  },
  {
   "cell_type": "markdown",
   "id": "dbad35ab-5d35-425d-81c3-7bb1380ff93e",
   "metadata": {},
   "source": [
    "##### Let's sort out dataframe df_can on 'Total' column, in descending order to find out the top 5 countries that contributed the most to immigration to Canada. \n"
   ]
  },
  {
   "cell_type": "code",
   "execution_count": 97,
   "id": "6fa64a0c-de07-4690-9286-1ae89a5e3452",
   "metadata": {},
   "outputs": [],
   "source": [
    "# df_can.sort_values(by='Total', ascending=False, axis=0, inplace=True)\n",
    "# top_5 = df_can.head(5)\n",
    "# top_5"
   ]
  },
  {
   "cell_type": "markdown",
   "id": "ccad81b9-f162-45d7-8e82-6914f0952bd4",
   "metadata": {},
   "source": [
    "**Exercise:** Find out top 3 countries that contributes the most to immigration to Canda in the year 2010. <br> Display the country names with the immigrant count in this year\n"
   ]
  },
  {
   "cell_type": "code",
   "execution_count": 98,
   "id": "915172e3-f393-4893-a9c1-d2fa842f5517",
   "metadata": {},
   "outputs": [
    {
     "ename": "SyntaxError",
     "evalue": "invalid syntax (203715986.py, line 1)",
     "output_type": "error",
     "traceback": [
      "\u001b[1;36m  Cell \u001b[1;32mIn[98], line 1\u001b[1;36m\u001b[0m\n\u001b[1;33m    Click here for a sample python solution\u001b[0m\n\u001b[1;37m          ^\u001b[0m\n\u001b[1;31mSyntaxError\u001b[0m\u001b[1;31m:\u001b[0m invalid syntax\n"
     ]
    }
   ],
   "source": [
    "Click here for a sample python solution\n",
    "    df_can.sort_values(by='2010', ascending=False, axis=0, inplace=True)\n",
    "    top3_2010 = df_can['2010'].head(3)\n",
    "    top3_2010"
   ]
  },
  {
   "cell_type": "code",
   "execution_count": null,
   "id": "077e46a8-2b25-4521-8f8d-73f32e28c3ee",
   "metadata": {},
   "outputs": [],
   "source": []
  }
 ],
 "metadata": {
  "kernelspec": {
   "display_name": "Python 3 (ipykernel)",
   "language": "python",
   "name": "python3"
  },
  "language_info": {
   "codemirror_mode": {
    "name": "ipython",
    "version": 3
   },
   "file_extension": ".py",
   "mimetype": "text/x-python",
   "name": "python",
   "nbconvert_exporter": "python",
   "pygments_lexer": "ipython3",
   "version": "3.11.4"
  }
 },
 "nbformat": 4,
 "nbformat_minor": 5
}
