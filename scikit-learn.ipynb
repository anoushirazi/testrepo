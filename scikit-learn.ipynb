{
 "cells": [
  {
   "cell_type": "code",
   "execution_count": 2,
   "id": "6e18255f-4ee0-4e87-a5bc-2216edc31dff",
   "metadata": {},
   "outputs": [
    {
     "name": "stdout",
     "output_type": "stream",
     "text": [
      "Collecting scikit-learn\n",
      "  Downloading scikit_learn-1.3.0-cp311-cp311-win_amd64.whl (9.2 MB)\n",
      "                                              0.0/9.2 MB ? eta -:--:--\n",
      "                                              0.2/9.2 MB 5.3 MB/s eta 0:00:02\n",
      "     ---                                      0.7/9.2 MB 11.1 MB/s eta 0:00:01\n",
      "     --------                                 1.9/9.2 MB 15.5 MB/s eta 0:00:01\n",
      "     -------------                            3.2/9.2 MB 18.4 MB/s eta 0:00:01\n",
      "     --------------                           3.4/9.2 MB 19.6 MB/s eta 0:00:01\n",
      "     ------------------                       4.3/9.2 MB 16.2 MB/s eta 0:00:01\n",
      "     ------------------------                 5.7/9.2 MB 18.2 MB/s eta 0:00:01\n",
      "     ----------------------------             6.5/9.2 MB 18.0 MB/s eta 0:00:01\n",
      "     --------------------------------         7.5/9.2 MB 18.4 MB/s eta 0:00:01\n",
      "     -------------------------------------    8.6/9.2 MB 18.3 MB/s eta 0:00:01\n",
      "     ---------------------------------------  9.2/9.2 MB 19.0 MB/s eta 0:00:01\n",
      "     ---------------------------------------- 9.2/9.2 MB 16.8 MB/s eta 0:00:00\n",
      "Requirement already satisfied: numpy>=1.17.3 in c:\\users\\hh\\appdata\\local\\programs\\python\\python311\\lib\\site-packages (from scikit-learn) (1.25.1)\n",
      "Collecting scipy>=1.5.0 (from scikit-learn)\n",
      "  Downloading scipy-1.11.1-cp311-cp311-win_amd64.whl (44.0 MB)\n",
      "                                              0.0/44.0 MB ? eta -:--:--\n",
      "     -                                        1.8/44.0 MB 37.5 MB/s eta 0:00:02\n",
      "     ---                                      3.6/44.0 MB 37.9 MB/s eta 0:00:02\n",
      "     ----                                     5.2/44.0 MB 36.9 MB/s eta 0:00:02\n",
      "     ------                                   6.7/44.0 MB 32.9 MB/s eta 0:00:02\n",
      "     -------                                  8.4/44.0 MB 33.8 MB/s eta 0:00:02\n",
      "     --------                                 9.8/44.0 MB 32.9 MB/s eta 0:00:02\n",
      "     ----------                              11.6/44.0 MB 34.4 MB/s eta 0:00:01\n",
      "     -----------                             13.2/44.0 MB 34.4 MB/s eta 0:00:01\n",
      "     ------------                            14.6/44.0 MB 32.7 MB/s eta 0:00:01\n",
      "     --------------                          16.1/44.0 MB 32.7 MB/s eta 0:00:01\n",
      "     ---------------                         17.6/44.0 MB 32.8 MB/s eta 0:00:01\n",
      "     -----------------                       19.2/44.0 MB 32.8 MB/s eta 0:00:01\n",
      "     ------------------                      20.9/44.0 MB 32.8 MB/s eta 0:00:01\n",
      "     --------------------                    22.6/44.0 MB 32.8 MB/s eta 0:00:01\n",
      "     ---------------------                   24.5/44.0 MB 34.4 MB/s eta 0:00:01\n",
      "     -----------------------                 26.2/44.0 MB 34.4 MB/s eta 0:00:01\n",
      "     ------------------------                27.7/44.0 MB 34.4 MB/s eta 0:00:01\n",
      "     -------------------------               28.7/44.0 MB 32.7 MB/s eta 0:00:01\n",
      "     --------------------------              30.2/44.0 MB 32.8 MB/s eta 0:00:01\n",
      "     ----------------------------            32.0/44.0 MB 32.8 MB/s eta 0:00:01\n",
      "     -----------------------------           33.7/44.0 MB 32.8 MB/s eta 0:00:01\n",
      "     -------------------------------         35.4/44.0 MB 32.8 MB/s eta 0:00:01\n",
      "     --------------------------------        36.9/44.0 MB 32.7 MB/s eta 0:00:01\n",
      "     ---------------------------------       38.1/44.0 MB 31.2 MB/s eta 0:00:01\n",
      "     -----------------------------------     40.1/44.0 MB 34.4 MB/s eta 0:00:01\n",
      "     -------------------------------------   41.7/44.0 MB 32.8 MB/s eta 0:00:01\n",
      "     --------------------------------------  43.2/44.0 MB 32.8 MB/s eta 0:00:01\n",
      "     --------------------------------------  44.0/44.0 MB 32.7 MB/s eta 0:00:01\n",
      "     --------------------------------------  44.0/44.0 MB 32.7 MB/s eta 0:00:01\n",
      "     --------------------------------------  44.0/44.0 MB 32.7 MB/s eta 0:00:01\n",
      "     --------------------------------------  44.0/44.0 MB 32.7 MB/s eta 0:00:01\n",
      "     --------------------------------------  44.0/44.0 MB 32.7 MB/s eta 0:00:01\n",
      "     --------------------------------------  44.0/44.0 MB 32.7 MB/s eta 0:00:01\n",
      "     --------------------------------------  44.0/44.0 MB 32.7 MB/s eta 0:00:01\n",
      "     --------------------------------------  44.0/44.0 MB 32.7 MB/s eta 0:00:01\n",
      "     --------------------------------------  44.0/44.0 MB 32.7 MB/s eta 0:00:01\n",
      "     --------------------------------------  44.0/44.0 MB 32.7 MB/s eta 0:00:01\n",
      "     --------------------------------------  44.0/44.0 MB 32.7 MB/s eta 0:00:01\n",
      "     --------------------------------------  44.0/44.0 MB 32.7 MB/s eta 0:00:01\n",
      "     --------------------------------------  44.0/44.0 MB 32.7 MB/s eta 0:00:01\n",
      "     --------------------------------------  44.0/44.0 MB 32.7 MB/s eta 0:00:01\n",
      "     --------------------------------------- 44.0/44.0 MB 10.1 MB/s eta 0:00:00\n",
      "Collecting joblib>=1.1.1 (from scikit-learn)\n",
      "  Downloading joblib-1.3.1-py3-none-any.whl (301 kB)\n",
      "                                              0.0/302.0 kB ? eta -:--:--\n",
      "     -------------------------------------- 302.0/302.0 kB 9.1 MB/s eta 0:00:00\n",
      "Collecting threadpoolctl>=2.0.0 (from scikit-learn)\n",
      "  Downloading threadpoolctl-3.2.0-py3-none-any.whl (15 kB)\n",
      "Installing collected packages: threadpoolctl, scipy, joblib, scikit-learn\n",
      "Successfully installed joblib-1.3.1 scikit-learn-1.3.0 scipy-1.11.1 threadpoolctl-3.2.0\n",
      "Note: you may need to restart the kernel to use updated packages.\n"
     ]
    },
    {
     "name": "stderr",
     "output_type": "stream",
     "text": [
      "\n",
      "[notice] A new release of pip is available: 23.1.2 -> 23.2.1\n",
      "[notice] To update, run: python.exe -m pip install --upgrade pip\n"
     ]
    }
   ],
   "source": [
    "pip install scikit-learn"
   ]
  },
  {
   "cell_type": "code",
   "execution_count": null,
   "id": "b0bb17c0-c89c-4b1b-955e-ee5d73aa4973",
   "metadata": {},
   "outputs": [],
   "source": []
  }
 ],
 "metadata": {
  "kernelspec": {
   "display_name": "Python 3 (ipykernel)",
   "language": "python",
   "name": "python3"
  },
  "language_info": {
   "codemirror_mode": {
    "name": "ipython",
    "version": 3
   },
   "file_extension": ".py",
   "mimetype": "text/x-python",
   "name": "python",
   "nbconvert_exporter": "python",
   "pygments_lexer": "ipython3",
   "version": "3.11.4"
  }
 },
 "nbformat": 4,
 "nbformat_minor": 5
}
